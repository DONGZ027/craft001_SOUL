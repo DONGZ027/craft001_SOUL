{
 "cells": [
  {
   "cell_type": "markdown",
   "metadata": {},
   "source": [
    "# Set up"
   ]
  },
  {
   "cell_type": "code",
   "execution_count": 3,
   "metadata": {},
   "outputs": [],
   "source": [
    "import streamlit as st\n",
    "import pandas as pd\n",
    "import numpy as np\n",
    "from datetime import date\n",
    "import io\n",
    "import random\n",
    "\n",
    "\n",
    "import warnings\n",
    "\n",
    "# Ignore all warnings\n",
    "warnings.filterwarnings(\"ignore\")"
   ]
  },
  {
   "cell_type": "code",
   "execution_count": 4,
   "metadata": {},
   "outputs": [],
   "source": [
    "region_name = 'WDW'"
   ]
  },
  {
   "cell_type": "code",
   "execution_count": 5,
   "metadata": {},
   "outputs": [],
   "source": [
    "parent_path = 'C:\\\\Users\\\\DONGZ027\\\\Desktop\\\\Local Crafts\\\\craft001_Soul'\n",
    "\n",
    "mmmYear = 2023\n",
    "ticket_price = 165\n",
    "\n",
    "media_mapping_file = pd.read_csv(parent_path + '\\data\\media_label.csv')\n",
    "media_mapping = media_mapping_file[media_mapping_file.region == region_name].set_index('media_code').to_dict()['media_label']\n",
    "\n",
    "media_mapping_reverse = {v: k for k, v in media_mapping.items()}\n",
    "\n",
    "spend_prefix = \"M_P_\"  \n",
    "inc_prefix = \"TIncT_P_\" \n",
    "cpt_prefix = \"CPT_P_\"\n",
    "mcpt_prefix = \"MCPT_P_\" \n",
    "minc_prefix = \"nMTIncT_P_\"\n",
    "\n",
    "months_abbv = ['Oct', 'Nov', 'Dec', 'Jan', 'Feb', 'Mar', 'Apr', 'May', 'Jun', 'Jul', 'Aug', 'Sep']\n",
    "months_full = ['October', 'November', 'December', 'January', 'February', 'March', 'April', 'May', 'June', 'July', 'August', 'September'] "
   ]
  },
  {
   "cell_type": "code",
   "execution_count": 6,
   "metadata": {},
   "outputs": [],
   "source": [
    "# Time reference\n",
    "file_path = f\"{parent_path}\\data\\DT_snowflake.csv\"\n",
    "time_ref = pd.read_csv(file_path)\n",
    "\n",
    "time_ref = time_ref[[\n",
    "    'FIS_WK_END_DT', 'FIS_YR_NB', 'FIS_QTR_NB', 'FIS_MO_NB', 'FIS_WK_NB', \n",
    "]].drop_duplicates() \n",
    "time_ref = time_ref[time_ref['FIS_YR_NB'] >= mmmYear]\n",
    "time_ref['FIS_WK_END_DT'] = pd.to_datetime(time_ref['FIS_WK_END_DT']).dt.date\n",
    "time_ref = time_ref.sort_values(by=['FIS_WK_END_DT']) \n",
    "\n",
    "counting_months = time_ref.groupby(['FIS_YR_NB', 'FIS_MO_NB']).size().reset_index(name='weeks_count') \n",
    "counting_months['lag_weeks'] = counting_months.groupby(['FIS_YR_NB'])['weeks_count'].cumsum().shift(fill_value=0) \n",
    "counting_months.loc[counting_months.FIS_MO_NB == 1, 'lag_weeks'] = 0\n",
    "\n",
    "time_ref = time_ref.merge(counting_months, how = 'left', on = ['FIS_YR_NB', 'FIS_MO_NB']).drop_duplicates() \n",
    "\n",
    "counting_months2 = time_ref[['FIS_YR_NB', 'FIS_MO_NB']].drop_duplicates()\n",
    "counting_months2 = counting_months2.reset_index(drop=True)\n",
    "counting_months2['lag_months'] = counting_months2.index   \n",
    "\n",
    "time_ref = time_ref.merge(counting_months2, how = 'left', on = ['FIS_YR_NB', 'FIS_MO_NB']).drop_duplicates() \n",
    "df_time = time_ref.reset_index()"
   ]
  },
  {
   "cell_type": "code",
   "execution_count": 7,
   "metadata": {},
   "outputs": [
    {
     "name": "stdout",
     "output_type": "stream",
     "text": [
      "NTV [0.00218869 0.00471089 0.00761939 0.01097555 0.01266213 0.01461742\n",
      " 0.01688542 0.0195175  0.02257361 0.0258111  0.02931935 0.03319712\n",
      " 0.03755503 0.04283123 0.04916174 0.05619448 0.05985318 0.06008558\n",
      " 0.05676938 0.05022181 0.04443314 0.0393149  0.03478899 0.03078648\n",
      " 0.02724651 0.02411535 0.02134555 0.01889518 0.01672723 0.014809\n",
      " 0.01311158 0.01160944 0.01028001 0.00910336 0.00806184 0.00713988\n",
      " 0.0063237  0.00560111 0.00496134 0.00439486 0.00389325 0.00344906\n",
      " 0.00305568 0.00270728 0.00239872 0.00212541 0.00188331 0.00166886\n",
      " 0.00147889 0.00131058 0.00116148 0.00906744]\n",
      "TTV [0.00286018 0.00615967 0.00996629 0.01435836 0.01656616 0.01911502\n",
      " 0.02205781 0.02545559 0.02937892 0.03383759 0.03892753 0.04475828\n",
      " 0.05145536 0.05534727 0.05635902 0.05436981 0.04920904 0.04453883\n",
      " 0.04031246 0.03648766 0.03302621 0.02989354 0.02705836 0.02449238\n",
      " 0.02217    0.02006806 0.01816561 0.01644368 0.01488513 0.01347443\n",
      " 0.01219754 0.01104176 0.00999558 0.0090486  0.0081914  0.00741546\n",
      " 0.00671308 0.00607727 0.00550171 0.0049807  0.00450906 0.0040821\n",
      " 0.00369559 0.0033457  0.00302895 0.00274221 0.00248262 0.00224762\n",
      " 0.00203487 0.00184226 0.0016679  0.0159598 ]\n",
      "CTVP [2.8004910e-03 6.1237330e-03 1.0080861e-02 1.4808521e-02 1.7674460e-02\n",
      " 2.1163807e-02 2.5421361e-02 3.0626649e-02 3.7002375e-02 4.4208358e-02\n",
      " 5.2602762e-02 6.2618094e-02 7.4781929e-02 9.0359066e-02 9.5741309e-02\n",
      " 9.2156212e-02 8.0144949e-02 5.9654057e-02 4.4474891e-02 3.3220842e-02\n",
      " 2.4868542e-02 1.8662542e-02 1.4045026e-02 1.0603985e-02 8.0349950e-03\n",
      " 6.1130280e-03 4.6716640e-03 3.5877550e-03 2.7701140e-03 2.1511620e-03\n",
      " 1.6807730e-03 1.3217260e-03 1.0463450e-03 8.3402500e-04 6.6939600e-04\n",
      " 5.4097400e-04 4.4015500e-04 3.6048100e-04 2.9708700e-04 2.4629700e-04\n",
      " 2.0532300e-04 1.7204300e-04 1.4483300e-04 1.2244300e-04 1.0390900e-04\n",
      " 8.8500000e-05 7.5600000e-05 6.4700000e-05 5.5500000e-05 4.7800000e-05\n",
      " 4.1200000e-05 2.6700000e-04]\n",
      "CTVNP [0.00381559 0.00817625 0.01316173 0.01886368 0.02157184 0.02467785\n",
      " 0.02824116 0.03233025 0.03702401 0.04189674 0.04706563 0.05265644\n",
      " 0.05880631 0.06618334 0.06915842 0.06791002 0.06250978 0.05292675\n",
      " 0.04481502 0.03794842 0.03213558 0.02721457 0.02304838 0.01952106\n",
      " 0.0165345  0.01400567 0.01186432 0.01005099 0.00851533 0.00721477\n",
      " 0.00611325 0.00518026 0.00438996 0.0037205  0.00315336 0.00267287\n",
      " 0.00226577 0.00192082 0.00162852 0.00138081 0.00117088 0.00099296\n",
      " 0.00084214 0.00071429 0.00060591 0.00051402 0.00043611 0.00037005\n",
      " 0.00031402 0.00026651 0.0002262  0.00127639]\n",
      "DD [0.00301295 0.00655124 0.01071087 0.01560602 0.01835971 0.02162155\n",
      " 0.02548872 0.03007749 0.03552708 0.04179499 0.04600617 0.04845067\n",
      " 0.04930976 0.04887982 0.05023764 0.05271625 0.05319685 0.05151927\n",
      " 0.04750538 0.04148603 0.03628109 0.03176978 0.02785127 0.02444108\n",
      " 0.02146804 0.01887204 0.01660204 0.01461457 0.01287248 0.01134392\n",
      " 0.01000149 0.00882157 0.00778373 0.00687027 0.00606581 0.00535698\n",
      " 0.00473213 0.00418107 0.00369492 0.00326587 0.00288711 0.00255266\n",
      " 0.00225726 0.0019963  0.0017657  0.00156191 0.00138177 0.00122252\n",
      " 0.00108171 0.00095719 0.00084708 0.00654019]\n",
      "STRP [8.5409130e-03 1.8382753e-02 2.9726479e-02 4.2804403e-02 4.9344203e-02\n",
      " 5.6896442e-02 6.5619328e-02 7.5695956e-02 8.4261174e-02 9.1020871e-02\n",
      " 8.9087799e-02 7.9670943e-02 6.6530045e-02 5.0485525e-02 3.8670848e-02\n",
      " 2.9902206e-02 2.3339236e-02 1.8383336e-02 1.4606430e-02 1.1700990e-02\n",
      " 9.4449470e-03 7.6770010e-03 6.2792290e-03 5.1647980e-03 4.2692720e-03\n",
      " 3.5444320e-03 2.9538800e-03 2.4698870e-03 2.0711390e-03 1.7410950e-03\n",
      " 1.4668060e-03 1.2380450e-03 1.0466650e-03 8.8613100e-04 7.5115900e-04\n",
      " 6.3745100e-04 5.4148900e-04 4.6038100e-04 3.9173500e-04 3.3356800e-04\n",
      " 2.8422900e-04 2.4234000e-04 2.0674500e-04 1.7647500e-04 1.5071600e-04\n",
      " 1.2878200e-04 1.1009200e-04 9.4200000e-05 8.0600000e-05 6.9000000e-05\n",
      " 5.9100000e-05 3.5900000e-04]\n",
      "STRNP [0.00637907 0.0135868  0.02173135 0.03093504 0.03495716 0.03950463\n",
      " 0.04464634 0.05046023 0.05703447 0.06408242 0.06726724 0.06667795\n",
      " 0.06234138 0.05460964 0.04783696 0.04190436 0.03670762 0.03215545\n",
      " 0.02816788 0.02467489 0.02161511 0.01893482 0.01658693 0.01453022\n",
      " 0.01272857 0.01115035 0.00976784 0.00855677 0.00749588 0.00656654\n",
      " 0.00575243 0.00503927 0.00441454 0.00386726 0.00338785 0.00296787\n",
      " 0.00259997 0.00227767 0.00199533 0.001748   0.00153133 0.00134152\n",
      " 0.00117524 0.00102957 0.00090196 0.00079017 0.00069224 0.00060644\n",
      " 0.00053129 0.00046544 0.00040776 0.00288291]\n",
      "YOT [0.00577857 0.01228318 0.01960717 0.02785621 0.0313714  0.03534089\n",
      " 0.03982506 0.04489263 0.05062177 0.05654998 0.06279208 0.06646476\n",
      " 0.06616094 0.06251264 0.05551514 0.04810555 0.04169046 0.03613554\n",
      " 0.03132471 0.02715768 0.02354779 0.0204201  0.01770983 0.01536097\n",
      " 0.01332505 0.01156017 0.01003004 0.0087033  0.00755277 0.00655494\n",
      " 0.00568945 0.00493866 0.00428731 0.00372217 0.00323178 0.00280622\n",
      " 0.00243688 0.00211631 0.00183804 0.00159646 0.00138674 0.00120464\n",
      " 0.00104652 0.00090921 0.00078996 0.0006864  0.00059644 0.0005183\n",
      " 0.00045043 0.00039146 0.00034023 0.00226507]\n",
      "CIN [0.00262279 0.00562468 0.00906045 0.01299281 0.01487074 0.01702011\n",
      " 0.01948015 0.02229574 0.0255183  0.02920663 0.03342807 0.03825965\n",
      " 0.04378958 0.05011878 0.05736279 0.06110832 0.06138283 0.0581552\n",
      " 0.05133464 0.04531401 0.03999949 0.03530826 0.03116724 0.02751188\n",
      " 0.02428523 0.02143701 0.01892283 0.01670352 0.0147445  0.01301523\n",
      " 0.01148878 0.01014135 0.00895195 0.00790205 0.00697528 0.0061572\n",
      " 0.00543508 0.00479764 0.00423496 0.00373828 0.00329984 0.00291283\n",
      " 0.00257121 0.00226965 0.00200346 0.00176849 0.00156108 0.00137799\n",
      " 0.00121638 0.00107372 0.00094779 0.00713351]\n",
      "DISP [0.0064238  0.01356789 0.02151423 0.03035424 0.03376616 0.03756741\n",
      " 0.04180318 0.04652407 0.05178663 0.05676064 0.06046995 0.06169606\n",
      " 0.06054655 0.05677036 0.05145986 0.04590053 0.0400059  0.03489815\n",
      " 0.03046736 0.02661974 0.02327519 0.02036513 0.01783079 0.01562176\n",
      " 0.01369466 0.0120122  0.01054221 0.00925693 0.0081324  0.00714788\n",
      " 0.00628539 0.00552937 0.00486631 0.00428447 0.00377363 0.00332492\n",
      " 0.0029306  0.00258391 0.00227898 0.00201067 0.00177449 0.0015665\n",
      " 0.00138329 0.00122184 0.00107953 0.00095403 0.00084334 0.00074567\n",
      " 0.00065947 0.00058336 0.00051616 0.00402223]\n",
      "DISNP [5.6609640e-03 1.2112642e-02 1.9467550e-02 2.7854449e-02 3.1759750e-02\n",
      " 3.6222416e-02 4.1323102e-02 4.7154256e-02 5.3821859e-02 6.0753029e-02\n",
      " 6.8103953e-02 7.6041405e-02 7.7860517e-02 7.4731770e-02 6.6928093e-02\n",
      " 5.4566949e-02 4.4510494e-02 3.6326133e-02 2.9662853e-02 2.4235787e-02\n",
      " 1.9813705e-02 1.6208879e-02 1.3268863e-02 1.0869838e-02 8.9112050e-03\n",
      " 7.3112140e-03 6.0034120e-03 4.9337660e-03 4.0583230e-03 3.3413240e-03\n",
      " 2.7536600e-03 2.2716290e-03 1.8759260e-03 1.5508140e-03 1.2834660e-03\n",
      " 1.0634160e-03 8.8212300e-04 7.3261400e-04 6.0918800e-04 5.0718800e-04\n",
      " 4.2280100e-04 3.5290800e-04 2.9495100e-04 2.4683500e-04 2.0684100e-04\n",
      " 1.7355700e-04 1.4582100e-04 1.2268000e-04 1.0334700e-04 8.7200000e-05\n",
      " 7.3600000e-05 4.2100000e-04]\n",
      "SEM [0.00866695 0.01824541 0.02883125 0.04053041 0.04479303 0.04950396\n",
      " 0.05471033 0.06046427 0.06682335 0.06932571 0.06815157 0.06342424\n",
      " 0.055214   0.04806658 0.04184439 0.03642766 0.03171212 0.027607\n",
      " 0.02403329 0.0209222  0.01821383 0.01585606 0.0138035  0.01201665\n",
      " 0.0104611  0.00910691 0.00792803 0.00690175 0.00600832 0.00523055\n",
      " 0.00455346 0.00396402 0.00345087 0.00300416 0.00261527 0.00227673\n",
      " 0.00198201 0.00172544 0.00150208 0.00130764 0.00113836 0.000991\n",
      " 0.00086272 0.00075104 0.00065382 0.00056918 0.0004955  0.00043136\n",
      " 0.00037552 0.00032691 0.00028459 0.00191388]\n",
      "PAID_SOCIAL [0.00575793 0.01227193 0.01964296 0.02798568 0.03167241 0.03585301\n",
      " 0.04059475 0.0459742  0.05207855 0.05843856 0.06191232 0.06273319\n",
      " 0.06107079 0.05736763 0.05494106 0.05152763 0.04705589 0.04167079\n",
      " 0.03525331 0.02983188 0.0252509  0.02137921 0.01810623 0.01533873\n",
      " 0.01299807 0.01101792 0.00934232 0.00792406 0.00672328 0.00570636\n",
      " 0.0048449  0.00411492 0.00349617 0.00297153 0.00252655 0.00214902\n",
      " 0.0018286  0.00155657 0.00132553 0.00112925 0.00096243 0.00082059\n",
      " 0.00069996 0.00059731 0.00050995 0.00043555 0.00037218 0.00031817\n",
      " 0.00027212 0.00023285 0.00019933 0.00121495]\n",
      "DCI [0.00237121 0.00515385 0.00841931 0.01225136 0.0143771  0.01687168\n",
      " 0.0197991  0.02323446 0.02726589 0.03199682 0.03754862 0.04406371\n",
      " 0.05170924 0.06068136 0.07121023 0.07603443 0.07540403 0.06940839\n",
      " 0.05798183 0.0484364  0.04046242 0.03380117 0.02823656 0.02358803\n",
      " 0.01970478 0.01646082 0.01375091 0.01148713 0.00959603 0.00801625\n",
      " 0.00669655 0.00559411 0.00467317 0.00390383 0.00326115 0.00272428\n",
      " 0.00227578 0.00190113 0.00158815 0.00132669 0.00110828 0.00092583\n",
      " 0.00077341 0.00064609 0.00053972 0.00045087 0.00037664 0.00031464\n",
      " 0.00026284 0.00021957 0.00018342 0.00093074]\n",
      "DRD [6.3883680e-03 1.3864109e-02 2.2618578e-02 3.2877521e-02 3.8518972e-02\n",
      " 4.5158387e-02 5.2975708e-02 6.2183693e-02 7.3033949e-02 8.5195767e-02\n",
      " 8.9571562e-02 8.6817483e-02 7.7283492e-02 6.1674302e-02 4.9262507e-02\n",
      " 3.9387128e-02 3.1524626e-02 2.5260217e-02 2.0265190e-02 1.6278968e-02\n",
      " 1.3094914e-02 1.0549106e-02 8.5114600e-03 6.8786930e-03 5.5687670e-03\n",
      " 4.5164840e-03 3.6700010e-03 2.9880670e-03 2.4378400e-03 1.9931520e-03\n",
      " 1.6331370e-03 1.3411410e-03 1.1038650e-03 9.1067100e-04 7.5304600e-04\n",
      " 6.2417000e-04 5.1856800e-04 4.3184400e-04 3.6046000e-04 3.0156800e-04\n",
      " 2.5286700e-04 2.1249900e-04 1.7896000e-04 1.5102900e-04 1.2771400e-04\n",
      " 1.0820700e-04 9.1900000e-05 7.8100000e-05 6.6500000e-05 5.6800000e-05\n",
      " 4.8500000e-05 3.0000000e-04]\n"
     ]
    }
   ],
   "source": [
    "# Media timing file\n",
    "# **********************************************************************************\n",
    "file_path = f\"{parent_path}\\\\data\\\\{region_name}\\\\input_mediaTiming.csv\"\n",
    "df_curve  = pd.read_csv(file_path)\n",
    "media_list = df_curve.columns\n",
    "\n",
    "\n",
    "filler = []\n",
    "for x in df_curve.columns:\n",
    "    shard = np.zeros(104)\n",
    "    values = df_curve[x].values\n",
    "    print(x, values)\n",
    "    shard[:len(values)] = values\n",
    "    filler.append(shard)\n",
    "df_curve = pd.DataFrame(np.array(filler).T, columns=df_curve.columns)\n",
    "df_curve = df_curve.loc[~(df_curve == 0).all(axis=1)]\n",
    "df_curve = df_curve.fillna(0) \n",
    "\n",
    "# Media parameters file\n",
    "# **********************************************************************************\n",
    "file_path = f\"{parent_path}\\\\data\\\\{region_name}\\\\input_300pct.csv\"\n",
    "df_params  = pd.read_csv(file_path)\n",
    "names = list(df_params.columns)\n",
    "names2 = [s.replace(\"FABING\", \"ING\") for s in names]\n",
    "names2 = [s.replace(\"DIS_BAN\", \"BAN\") for s in names2]\n",
    "names2 = [s.replace(\"DIS_AFF\", \"AFF\") for s in names2]\n",
    "names2 = [s.replace(\"TlncT\", \"TIncT\") for s in names2]\n",
    "df_params.columns = names2"
   ]
  },
  {
   "cell_type": "code",
   "execution_count": 8,
   "metadata": {},
   "outputs": [],
   "source": [
    "def processing_spend_df(file_path):\n",
    "    data = pd.read_csv(file_path)\n",
    "\n",
    "    data = data.T.iloc[1:, :]\n",
    "    data.columns = media_mapping.keys()\n",
    "    data.reset_index(inplace=True)\n",
    "    data.rename(columns={'index': 'FIS_MO_NB'}, inplace=True)\n",
    "    data['FIS_MO_NB'] = np.arange(1, 13)\n",
    "    return data\n",
    "\n",
    "\n",
    "scenario1 = processing_spend_df(f\"{parent_path}\\\\samples\\WDW Demo\\WDW_FY24.csv\")\n",
    "scenario2 = processing_spend_df(f\"{parent_path}\\\\samples\\WDW Demo\\WDW_FY24_110.csv\")\n",
    "base_year = scenario1\n"
   ]
  },
  {
   "cell_type": "markdown",
   "metadata": {},
   "source": [
    "# Scenario Functions"
   ]
  },
  {
   "cell_type": "code",
   "execution_count": 9,
   "metadata": {},
   "outputs": [],
   "source": [
    "def focal_check(X, spend_data, month, threshold):\n",
    "    M_P_X_col = spend_prefix + X\n",
    "    Inc_X_col = inc_prefix + X\n",
    "\n",
    "    spend_array = spend_data[X].values\n",
    "    S_total = spend_array.sum()\n",
    "    benchmark_spend = 3 * S_total / np.count_nonzero(spend_array)\n",
    "\n",
    "    # Handle the case when total spending is zero to avoid division by zero\n",
    "    if S_total == 0:\n",
    "        spend_percentages = np.zeros_like(spend_array)\n",
    "    else:\n",
    "        # Compute the percentage of total spend per month\n",
    "        spend_percentages = spend_array / S_total\n",
    "    multiplier = np.sum(spend_percentages >= (threshold / 100))\n",
    "\n",
    "    m = spend_array[month - 1]\n",
    "    M = min(m, benchmark_spend) * multiplier\n",
    "\n",
    "    idx_closest = (np.abs(df_params[M_P_X_col] - M)).idxmin()\n",
    "    M300 = df_params[M_P_X_col].iloc[idx_closest]\n",
    "    Y300 = df_params[Inc_X_col].iloc[idx_closest]\n",
    "    CPT300 = df_params[cpt_prefix + X].iloc[idx_closest]\n",
    "    MA = df_params[minc_prefix + X].iloc[idx_closest]\n",
    "    delta = df_params.at[idx_closest, 'Pct_Delta']\n",
    "    MC =  delta * M\n",
    "\n",
    "    y1 = Y300 / multiplier\n",
    "    y2 = m / CPT300\n",
    "\n",
    "    print(X, \"at Month\", month)\n",
    "    print(\"multiplier = \", multiplier)\n",
    "    print(\"monthly spend = \", m)\n",
    "    print(\"benchmark spend = \", benchmark_spend)\n",
    "    print(f\"Annual index = {idx_closest}, Annual spend = {M}, Annual spend on table = {M300}\")\n",
    "    print(f\"Closest M300: {M300}, Y300: {Y300}, CPT300: {CPT300}, MA: {MA}, MC: {MC}, delta: {delta}\")\n",
    "    print(\"y1 = \", y1, \"y2 = \", y2)\n",
    "\n",
    "    return y2"
   ]
  },
  {
   "cell_type": "code",
   "execution_count": 10,
   "metadata": {},
   "outputs": [],
   "source": [
    "def compute_reward_X(X, spend_data, planning_year, threshold):\n",
    "    \"\"\"\n",
    "    Compute the rewards over a 104-week period for a given media type and calculate\n",
    "    marginal increments and costs, with an updated multiplier calculation based on a threshold.\n",
    "\n",
    "    Args:\n",
    "        X (str): The media type (e.g., \"X1\").\n",
    "        spend_data (pd.DataFrame): DataFrame containing spending data with columns:\n",
    "            - 'FIS_MO_NB': Fiscal month number.\n",
    "            - Media spending columns (e.g., 'X1', 'X2', 'X3').\n",
    "        planning_year (int): The fiscal year of the current spending plan.\n",
    "        threshold (float): A value between 0 and 100. Months with spending percentage\n",
    "            greater than threshold/100 will be counted towards the multiplier.\n",
    "\n",
    "    Returns:\n",
    "        tuple: A tuple containing:\n",
    "            - reward_df (pd.DataFrame): DataFrame of shape (104, 13) with the reward curves.\n",
    "            - minc_X (float): Total marginal rewards for media X over 12 months.\n",
    "            - mc_X (float): Total marginal costs for media X over 12 months.\n",
    "    \"\"\"\n",
    "    # Ensure global access to necessary dataframes\n",
    "    global df_curve, df_params, df_time\n",
    "\n",
    "    # ================================================================================================================\n",
    "    # Step 1: Extract the spending array and compute the multiplier\n",
    "    # ================================================================================================================\n",
    "    spend_array = spend_data[X].values  # Spending for media X over 12 months\n",
    "    # Compute total spending S_total\n",
    "    S_total = spend_array.sum()\n",
    "    benchmark_spend = 3 * S_total / np.count_nonzero(spend_array) # Compute the benchmark, or upper bound, for monthly spending\n",
    "\n",
    "    # Handle the case when total spending is zero to avoid division by zero\n",
    "    if S_total == 0:\n",
    "        spend_percentages = np.zeros_like(spend_array)\n",
    "    else:\n",
    "        # Compute the percentage of total spend per month\n",
    "        spend_percentages = spend_array / S_total\n",
    "\n",
    "    # Compute the multiplier based on the threshold\n",
    "    multiplier = np.sum(spend_percentages >= (threshold / 100))\n",
    "\n",
    "    # If multiplier is zero, set it to 1 to avoid division by zero later\n",
    "    if multiplier == 0:\n",
    "        multiplier = 1\n",
    "\n",
    "    # ================================================================================================================\n",
    "    # Step 2: Compute the timing stuff\n",
    "    # ================================================================================================================\n",
    "    # Prepare a list to hold the 104-length arrays for each month\n",
    "    monthly_arrays = []\n",
    "\n",
    "    # Get fiscal years and months from spend_data\n",
    "    fiscal_months = spend_data.FIS_MO_NB.values.flatten()\n",
    "\n",
    "    # Filter df_time for the relevant fiscal year\n",
    "    df_time_filtered = df_time[df_time['FIS_YR_NB'] == planning_year]\n",
    "\n",
    "    # Group by fiscal month and count the number of weeks in each month\n",
    "    weeks_in_month = df_time_filtered.groupby('FIS_MO_NB')['FIS_WK_NB'].nunique()\n",
    "    weeks_in_month = weeks_in_month.reindex(range(1, 13), fill_value=0)\n",
    "\n",
    "    # Compute cumulative weeks to determine the starting week for each month\n",
    "    cumulative_weeks = weeks_in_month.cumsum()\n",
    "    start_weeks = [0] + cumulative_weeks.values.tolist()[:-1]\n",
    "\n",
    "    timeline = df_time[df_time.FIS_YR_NB.between(planning_year, planning_year + 2)].shape[0]\n",
    "    timeline = np.zeros(timeline)\n",
    "\n",
    "    # Initialize total marginal increments and costs\n",
    "    minc_X = 0.0\n",
    "    mc_X = 0.0\n",
    "\n",
    "    # ================================================================================================================\n",
    "    # Loop over each month to compute the rewards\n",
    "    # ================================================================================================================\n",
    "    for idx, S_mo in enumerate(spend_array):\n",
    "        fiscal_month = fiscal_months[idx]\n",
    "\n",
    "        if S_mo == 0:\n",
    "            # If the spending is zero, append an array of zeros\n",
    "            monthly_array = timeline.copy()  # Create a an array of all 0s\n",
    "            monthly_arrays.append(monthly_array)\n",
    "            continue\n",
    "\n",
    "        # Step 2: Calculate annualized spending and find the closest match in df_params\n",
    "        S_yr = min(S_mo, benchmark_spend) * multiplier\n",
    "        M_P_X_col = spend_prefix + X\n",
    "        TIncT_P_X_col = inc_prefix + X\n",
    "        nMTIncT_P_X_col = minc_prefix + X  # Marginal rewards column\n",
    "        Pct_Delta_col = 'Pct_Delta'   \n",
    "\n",
    "        # Find the index of the closest spending value in df_params\n",
    "        idx_closest = (np.abs(df_params[M_P_X_col] - S_yr)).idxmin()\n",
    "\n",
    "        if idx_closest == 0:\n",
    "            reward_mo = 0\n",
    "        else:\n",
    "            cpt_yr = df_params[cpt_prefix + X].iloc[idx_closest]\n",
    "            reward_mo = S_mo / cpt_yr\n",
    "\n",
    "        # Calculate minc_mo and mc_mo for marginal cost per reward\n",
    "        minc_mo = df_params.at[idx_closest, nMTIncT_P_X_col]\n",
    "        mc_mo = df_params.at[idx_closest, Pct_Delta_col] * S_yr\n",
    "        # mc_mo = 0.001 * S_yr\n",
    "\n",
    "\n",
    "        # Accumulate total marginal increments and costs\n",
    "        minc_X += minc_mo\n",
    "        mc_X += mc_mo\n",
    "\n",
    "        # Step 3: Generate the reward curve for the month\n",
    "        timing_curve = df_curve[X].values  # Timing curve of length 52\n",
    "        monthly_reward_curve = reward_mo * timing_curve\n",
    "        # monthly_arrays.append(monthly_reward_curve)\n",
    "\n",
    "        # Step 4: Create a 3yr-length array with appropriate leading zeros\n",
    "        start_week = start_weeks[fiscal_month - 1]\n",
    "        end_week = start_week + len(monthly_reward_curve) \n",
    "\n",
    "        monthly_array = timeline.copy()  \n",
    "        monthly_array[start_week:end_week] = monthly_reward_curve \n",
    "        monthly_arrays.append(monthly_array)\n",
    "    \n",
    "    \n",
    "    # # #Aggregate the monthly arrays into a final reward curve\n",
    "    # # monthly_arrays = [arr[:len(timeline)] for arr in monthly_arrays]  # Ensure each array is at most 104 elements\n",
    "    # # # Pad any shorter arrays to exactly 104 elements\n",
    "    # # monthly_arrays = [np.pad(arr, (0, len(timeline) - len(arr)), 'constant') if len(arr) < len(timeline) else arr for arr in monthly_arrays]\n",
    "    reward_X = np.sum(monthly_arrays, axis=0)\n",
    "\n",
    "\n",
    "    # Construct the output DataFrame\n",
    "    columns = [f'Month_{i+1}' for i in range(12)] + ['aggregated']\n",
    "    data = np.column_stack(monthly_arrays + [reward_X])\n",
    "    reward_df = pd.DataFrame(data, columns=columns)\n",
    "\n",
    "    return reward_df, minc_X, mc_X\n",
    "\n",
    "\n"
   ]
  },
  {
   "cell_type": "code",
   "execution_count": 11,
   "metadata": {},
   "outputs": [],
   "source": [
    "def exmaine_media(media, spend_plan, year, ratio):\n",
    "    time = df_time[df_time.FIS_YR_NB.between(year, year + 2)][['FIS_YR_NB', 'FIS_WK_NB', 'FIS_MO_NB']]\n",
    "    time[\"Month\"] = time['FIS_YR_NB'].astype(str) + '-' + time['FIS_MO_NB'].astype(str)\n",
    "\n",
    "\n",
    "    time2 =  df_time[df_time.FIS_YR_NB.between(year, year + 2)][['FIS_YR_NB', 'FIS_MO_NB']] .drop_duplicates()\n",
    "    time2 = time2.reset_index(drop=True)\n",
    "    time2.reset_index(inplace=True)\n",
    "    time = time2.merge(time, how='left', on=['FIS_YR_NB', 'FIS_MO_NB'])\n",
    "\n",
    "    check = compute_reward_X(media, spend_plan, year, ratio)[0]\n",
    "    items = check.columns\n",
    "    check['Month'] = time['Month'].values\n",
    "    check['Ind'] = time['index'].values\n",
    "    check.sort_values(by=['Ind'], inplace=True)\n",
    "\n",
    "    check = check.groupby(['Ind', 'Month'])[items].sum().reset_index()\n",
    "    check.iloc[:, 1:] = np.round(check.iloc[:, 1:], 1)\n",
    "    return check"
   ]
  },
  {
   "cell_type": "code",
   "execution_count": 12,
   "metadata": {},
   "outputs": [],
   "source": [
    "def compute_plan_reward(spend_data, planning_year, lead_years, lag_years, threshold):\n",
    "    \"\"\"\n",
    "    Compute the reward curves for all medias over an extended time frame, broken down by month and aggregated.\n",
    "\n",
    "    Args:\n",
    "        spend_data (pd.DataFrame): DataFrame containing spending data with columns:\n",
    "            - 'FIS_MO_NB': Fiscal month number.\n",
    "            - Media spending columns (e.g., 'X1', 'X2', 'X3').\n",
    "        lead_years (int): Number of years to add as leading zeros.\n",
    "        lag_years (int): Number of years to add as trailing zeros.2\n",
    "        planning_year (int): The fiscal year of the current spending plan.\n",
    "        threshold (float): Threshold value for reward calculations.\n",
    "\n",
    "    Returns:\n",
    "        list: A list of 13 numpy arrays:\n",
    "            - First 12 arrays represent the monthly rewards summed across all media\n",
    "            - Last array represents the aggregated rewards summed across all media\n",
    "            Each array includes leading and trailing zeros.\n",
    "    \"\"\"\n",
    "    # Ensure global access to necessary dataframes\n",
    "    # global df_curve, df_params, df_time\n",
    "\n",
    "    # Step 1: Get the list of media columns from spend_data\n",
    "    medias = spend_data.columns.tolist()[1:]\n",
    "\n",
    "    # Initialize lists to store the monthly and aggregated reward arrays\n",
    "    monthly_rewards = [[] for _ in range(12)]  # One list for each month\n",
    "    aggregated_rewards = []  # List for aggregated rewards\n",
    "\n",
    "    # Loop over each media to compute its reward curves\n",
    "    for media in medias:\n",
    "        # Extract spending data for the media\n",
    "        media_spend_data = spend_data[['FIS_MO_NB', media]]\n",
    "\n",
    "        # Call compute_reward_X for the current media\n",
    "        reward_df = compute_reward_X(media, media_spend_data, planning_year, threshold)[0]\n",
    "\n",
    "        # Extract monthly columns and aggregated column\n",
    "        for month in range(12):\n",
    "            month_col = f'Month_{month+1}'\n",
    "            monthly_rewards[month].append(reward_df[month_col].values)\n",
    "        \n",
    "        # Extract and store aggregated rewards\n",
    "        aggregated_rewards.append(reward_df['aggregated'].values)\n",
    "\n",
    "    # Step 2: Sum the reward arrays across all media for each month and aggregated\n",
    "    summed_monthly_rewards = [np.sum(month_arrays, axis=0) for month_arrays in monthly_rewards]\n",
    "    summed_aggregated_rewards = np.sum(aggregated_rewards, axis=0)\n",
    "\n",
    "    # Step 3: Add leading and trailing zeros to each array\n",
    "    leading_zeros = np.zeros(lead_years * 52)\n",
    "    trailing_zeros = np.zeros(lag_years * 52)\n",
    "\n",
    "    # Create final list of extended arrays (12 monthly + 1 aggregated)\n",
    "    extended_reward_curves = []\n",
    "    \n",
    "    # Process monthly arrays\n",
    "    for monthly_reward in summed_monthly_rewards:\n",
    "        extended_monthly = np.concatenate([leading_zeros, monthly_reward, trailing_zeros])\n",
    "        extended_reward_curves.append(extended_monthly)\n",
    "    \n",
    "    # Process aggregated array\n",
    "    extended_aggregated = np.concatenate([leading_zeros, summed_aggregated_rewards, trailing_zeros])\n",
    "    extended_reward_curves.append(extended_aggregated)\n",
    "\n",
    "    return extended_reward_curves\n"
   ]
  },
  {
   "cell_type": "code",
   "execution_count": 13,
   "metadata": {},
   "outputs": [],
   "source": [
    "def plan_forecast_craft(spend_data, planning_year, lead_years, lag_years, cutoff):\n",
    "    \"\"\"\n",
    "    Generate monthly and quarterly forecast tables based on spending data and reward calculations.\n",
    "\n",
    "    Args:\n",
    "        spend_data (pd.DataFrame): DataFrame containing spending data with columns:\n",
    "            - 'FIS_MO_NB': Fiscal month number.\n",
    "            - Media spending columns (e.g., 'NTV', 'ING', 'STR').\n",
    "        planning_year (int): The fiscal year of the current spending plan.\n",
    "        lead_years (int): Number of years to add as leading zeros.\n",
    "        lag_years (int): Number of years to add as trailing zeros.\n",
    "        cutoff (float): Threshold value for reward calculations.\n",
    "\n",
    "    Returns:\n",
    "        tuple: A tuple containing:\n",
    "            - craft_mo (pd.DataFrame): DataFrame with monthly forecast data.\n",
    "            - craft_qtr (pd.DataFrame): DataFrame with quarterly forecast data.\n",
    "    \"\"\"\n",
    "    df_time_scenario = df_time[df_time['FIS_YR_NB'].between(planning_year - lead_years, planning_year + lag_years)]\n",
    "    weekly_table = df_time_scenario[['FIS_WK_END_DT', 'FIS_YR_NB', 'FIS_QTR_NB', 'FIS_MO_NB']]\n",
    "    results = compute_plan_reward(spend_data, planning_year, lead_years, lag_years, cutoff)\n",
    "\n",
    "    names = []\n",
    "    for i in range(len(results)-1):\n",
    "        serl = list(results[i])\n",
    "        if len(serl) < weekly_table.shape[0]:\n",
    "            serl = serl + [0] * (weekly_table.shape[0] - len(serl))\n",
    "        if len(serl) > weekly_table.shape[0]:\n",
    "            serl = serl[:weekly_table.shape[0]]\n",
    "        col_name = str(planning_year) + ' ' + months_abbv[i]\n",
    "        names.append(col_name)\n",
    "        weekly_table[col_name] = serl\n",
    "\n",
    "    # Monthly Table\n",
    "    # ================================================================================================================\n",
    "    monthly_table = weekly_table.groupby(['FIS_YR_NB', 'FIS_MO_NB'])[names].sum().reset_index()\n",
    "    rewards = monthly_table.iloc[:, 2:].values.T\n",
    "    monthly_table.FIS_MO_NB.replace(dict(zip(range(1, 13), months_abbv)), inplace=True) \n",
    "    monthly_table['timeline'] = monthly_table.FIS_YR_NB.astype(str) + \" \" + monthly_table.FIS_MO_NB.astype(str) \n",
    "    \n",
    "    shard1 = pd.DataFrame({'Spending Month': names, \"Spend\": spend_data.iloc[:, 1:].sum(axis = 1).values})\n",
    "    shard2 = pd.DataFrame(rewards)\n",
    "    shard2.columns = monthly_table['timeline'].values\n",
    "    craft_mo = pd.concat([shard1, shard2], axis=1) \n",
    "\n",
    "\n",
    "    # Monthly Table\n",
    "    # ================================================================================================================\n",
    "    quarter_table = weekly_table.groupby(['FIS_YR_NB', 'FIS_QTR_NB'])[names].sum().reset_index()\n",
    "    rewards = quarter_table.iloc[:, 2:].values.T \n",
    "    rewards = rewards.reshape(4, 3, -1) # Turning monthly tracking into quarterly tracking\n",
    "    rewards = rewards.sum(axis = 1)\n",
    "    quarter_table.FIS_QTR_NB = quarter_table.FIS_QTR_NB.astype(str)\n",
    "    quarter_table['timeline'] = quarter_table.FIS_YR_NB.astype(str) + \" Q\" + quarter_table.FIS_QTR_NB.astype(str)\n",
    "\n",
    "    names = [str(planning_year) + \" Q\" + str(x) for x in range(1, 5)]\n",
    "    shard1 = pd.DataFrame({'Spending Quarter': names, \n",
    "                           \"Spend\": spend_data.iloc[:, 1:].values.sum(axis = 1).reshape(4, 3).sum(axis = 1)})\n",
    "    shard2 = pd.DataFrame(rewards)\n",
    "    shard2.columns = quarter_table['timeline'].values\n",
    "    craft_qtr = pd.concat([shard1, shard2], axis=1) \n",
    "\n",
    "\n",
    "    return craft_mo, craft_qtr\n",
    "    "
   ]
  },
  {
   "cell_type": "code",
   "execution_count": 14,
   "metadata": {},
   "outputs": [
    {
     "data": {
      "text/html": [
       "<div>\n",
       "<style scoped>\n",
       "    .dataframe tbody tr th:only-of-type {\n",
       "        vertical-align: middle;\n",
       "    }\n",
       "\n",
       "    .dataframe tbody tr th {\n",
       "        vertical-align: top;\n",
       "    }\n",
       "\n",
       "    .dataframe thead th {\n",
       "        text-align: right;\n",
       "    }\n",
       "</style>\n",
       "<table border=\"1\" class=\"dataframe\">\n",
       "  <thead>\n",
       "    <tr style=\"text-align: right;\">\n",
       "      <th></th>\n",
       "      <th>NTV</th>\n",
       "      <th>TTV</th>\n",
       "      <th>CTVP</th>\n",
       "      <th>CTVNP</th>\n",
       "      <th>DD</th>\n",
       "      <th>STRP</th>\n",
       "      <th>STRNP</th>\n",
       "      <th>YOT</th>\n",
       "      <th>CIN</th>\n",
       "      <th>DISP</th>\n",
       "      <th>DISNP</th>\n",
       "      <th>SEM</th>\n",
       "      <th>PAID_SOCIAL</th>\n",
       "      <th>DCI</th>\n",
       "      <th>DRD</th>\n",
       "    </tr>\n",
       "  </thead>\n",
       "  <tbody>\n",
       "    <tr>\n",
       "      <th>0</th>\n",
       "      <td>0.002189</td>\n",
       "      <td>0.002860</td>\n",
       "      <td>0.002800</td>\n",
       "      <td>0.003816</td>\n",
       "      <td>0.003013</td>\n",
       "      <td>0.008541</td>\n",
       "      <td>0.006379</td>\n",
       "      <td>0.005779</td>\n",
       "      <td>0.002623</td>\n",
       "      <td>0.006424</td>\n",
       "      <td>0.005661</td>\n",
       "      <td>0.008667</td>\n",
       "      <td>0.005758</td>\n",
       "      <td>0.002371</td>\n",
       "      <td>0.006388</td>\n",
       "    </tr>\n",
       "    <tr>\n",
       "      <th>1</th>\n",
       "      <td>0.004711</td>\n",
       "      <td>0.006160</td>\n",
       "      <td>0.006124</td>\n",
       "      <td>0.008176</td>\n",
       "      <td>0.006551</td>\n",
       "      <td>0.018383</td>\n",
       "      <td>0.013587</td>\n",
       "      <td>0.012283</td>\n",
       "      <td>0.005625</td>\n",
       "      <td>0.013568</td>\n",
       "      <td>0.012113</td>\n",
       "      <td>0.018245</td>\n",
       "      <td>0.012272</td>\n",
       "      <td>0.005154</td>\n",
       "      <td>0.013864</td>\n",
       "    </tr>\n",
       "    <tr>\n",
       "      <th>2</th>\n",
       "      <td>0.007619</td>\n",
       "      <td>0.009966</td>\n",
       "      <td>0.010081</td>\n",
       "      <td>0.013162</td>\n",
       "      <td>0.010711</td>\n",
       "      <td>0.029726</td>\n",
       "      <td>0.021731</td>\n",
       "      <td>0.019607</td>\n",
       "      <td>0.009060</td>\n",
       "      <td>0.021514</td>\n",
       "      <td>0.019468</td>\n",
       "      <td>0.028831</td>\n",
       "      <td>0.019643</td>\n",
       "      <td>0.008419</td>\n",
       "      <td>0.022619</td>\n",
       "    </tr>\n",
       "    <tr>\n",
       "      <th>3</th>\n",
       "      <td>0.010976</td>\n",
       "      <td>0.014358</td>\n",
       "      <td>0.014809</td>\n",
       "      <td>0.018864</td>\n",
       "      <td>0.015606</td>\n",
       "      <td>0.042804</td>\n",
       "      <td>0.030935</td>\n",
       "      <td>0.027856</td>\n",
       "      <td>0.012993</td>\n",
       "      <td>0.030354</td>\n",
       "      <td>0.027854</td>\n",
       "      <td>0.040530</td>\n",
       "      <td>0.027986</td>\n",
       "      <td>0.012251</td>\n",
       "      <td>0.032878</td>\n",
       "    </tr>\n",
       "    <tr>\n",
       "      <th>4</th>\n",
       "      <td>0.012662</td>\n",
       "      <td>0.016566</td>\n",
       "      <td>0.017674</td>\n",
       "      <td>0.021572</td>\n",
       "      <td>0.018360</td>\n",
       "      <td>0.049344</td>\n",
       "      <td>0.034957</td>\n",
       "      <td>0.031371</td>\n",
       "      <td>0.014871</td>\n",
       "      <td>0.033766</td>\n",
       "      <td>0.031760</td>\n",
       "      <td>0.044793</td>\n",
       "      <td>0.031672</td>\n",
       "      <td>0.014377</td>\n",
       "      <td>0.038519</td>\n",
       "    </tr>\n",
       "    <tr>\n",
       "      <th>5</th>\n",
       "      <td>0.014617</td>\n",
       "      <td>0.019115</td>\n",
       "      <td>0.021164</td>\n",
       "      <td>0.024678</td>\n",
       "      <td>0.021622</td>\n",
       "      <td>0.056896</td>\n",
       "      <td>0.039505</td>\n",
       "      <td>0.035341</td>\n",
       "      <td>0.017020</td>\n",
       "      <td>0.037567</td>\n",
       "      <td>0.036222</td>\n",
       "      <td>0.049504</td>\n",
       "      <td>0.035853</td>\n",
       "      <td>0.016872</td>\n",
       "      <td>0.045158</td>\n",
       "    </tr>\n",
       "    <tr>\n",
       "      <th>6</th>\n",
       "      <td>0.016885</td>\n",
       "      <td>0.022058</td>\n",
       "      <td>0.025421</td>\n",
       "      <td>0.028241</td>\n",
       "      <td>0.025489</td>\n",
       "      <td>0.065619</td>\n",
       "      <td>0.044646</td>\n",
       "      <td>0.039825</td>\n",
       "      <td>0.019480</td>\n",
       "      <td>0.041803</td>\n",
       "      <td>0.041323</td>\n",
       "      <td>0.054710</td>\n",
       "      <td>0.040595</td>\n",
       "      <td>0.019799</td>\n",
       "      <td>0.052976</td>\n",
       "    </tr>\n",
       "    <tr>\n",
       "      <th>7</th>\n",
       "      <td>0.019518</td>\n",
       "      <td>0.025456</td>\n",
       "      <td>0.030627</td>\n",
       "      <td>0.032330</td>\n",
       "      <td>0.030077</td>\n",
       "      <td>0.075696</td>\n",
       "      <td>0.050460</td>\n",
       "      <td>0.044893</td>\n",
       "      <td>0.022296</td>\n",
       "      <td>0.046524</td>\n",
       "      <td>0.047154</td>\n",
       "      <td>0.060464</td>\n",
       "      <td>0.045974</td>\n",
       "      <td>0.023234</td>\n",
       "      <td>0.062184</td>\n",
       "    </tr>\n",
       "    <tr>\n",
       "      <th>8</th>\n",
       "      <td>0.022574</td>\n",
       "      <td>0.029379</td>\n",
       "      <td>0.037002</td>\n",
       "      <td>0.037024</td>\n",
       "      <td>0.035527</td>\n",
       "      <td>0.084261</td>\n",
       "      <td>0.057034</td>\n",
       "      <td>0.050622</td>\n",
       "      <td>0.025518</td>\n",
       "      <td>0.051787</td>\n",
       "      <td>0.053822</td>\n",
       "      <td>0.066823</td>\n",
       "      <td>0.052079</td>\n",
       "      <td>0.027266</td>\n",
       "      <td>0.073034</td>\n",
       "    </tr>\n",
       "    <tr>\n",
       "      <th>9</th>\n",
       "      <td>0.025811</td>\n",
       "      <td>0.033838</td>\n",
       "      <td>0.044208</td>\n",
       "      <td>0.041897</td>\n",
       "      <td>0.041795</td>\n",
       "      <td>0.091021</td>\n",
       "      <td>0.064082</td>\n",
       "      <td>0.056550</td>\n",
       "      <td>0.029207</td>\n",
       "      <td>0.056761</td>\n",
       "      <td>0.060753</td>\n",
       "      <td>0.069326</td>\n",
       "      <td>0.058439</td>\n",
       "      <td>0.031997</td>\n",
       "      <td>0.085196</td>\n",
       "    </tr>\n",
       "    <tr>\n",
       "      <th>10</th>\n",
       "      <td>0.029319</td>\n",
       "      <td>0.038928</td>\n",
       "      <td>0.052603</td>\n",
       "      <td>0.047066</td>\n",
       "      <td>0.046006</td>\n",
       "      <td>0.089088</td>\n",
       "      <td>0.067267</td>\n",
       "      <td>0.062792</td>\n",
       "      <td>0.033428</td>\n",
       "      <td>0.060470</td>\n",
       "      <td>0.068104</td>\n",
       "      <td>0.068152</td>\n",
       "      <td>0.061912</td>\n",
       "      <td>0.037549</td>\n",
       "      <td>0.089572</td>\n",
       "    </tr>\n",
       "    <tr>\n",
       "      <th>11</th>\n",
       "      <td>0.033197</td>\n",
       "      <td>0.044758</td>\n",
       "      <td>0.062618</td>\n",
       "      <td>0.052656</td>\n",
       "      <td>0.048451</td>\n",
       "      <td>0.079671</td>\n",
       "      <td>0.066678</td>\n",
       "      <td>0.066465</td>\n",
       "      <td>0.038260</td>\n",
       "      <td>0.061696</td>\n",
       "      <td>0.076041</td>\n",
       "      <td>0.063424</td>\n",
       "      <td>0.062733</td>\n",
       "      <td>0.044064</td>\n",
       "      <td>0.086817</td>\n",
       "    </tr>\n",
       "    <tr>\n",
       "      <th>12</th>\n",
       "      <td>0.037555</td>\n",
       "      <td>0.051455</td>\n",
       "      <td>0.074782</td>\n",
       "      <td>0.058806</td>\n",
       "      <td>0.049310</td>\n",
       "      <td>0.066530</td>\n",
       "      <td>0.062341</td>\n",
       "      <td>0.066161</td>\n",
       "      <td>0.043790</td>\n",
       "      <td>0.060547</td>\n",
       "      <td>0.077861</td>\n",
       "      <td>0.055214</td>\n",
       "      <td>0.061071</td>\n",
       "      <td>0.051709</td>\n",
       "      <td>0.077283</td>\n",
       "    </tr>\n",
       "    <tr>\n",
       "      <th>13</th>\n",
       "      <td>0.042831</td>\n",
       "      <td>0.055347</td>\n",
       "      <td>0.090359</td>\n",
       "      <td>0.066183</td>\n",
       "      <td>0.048880</td>\n",
       "      <td>0.050486</td>\n",
       "      <td>0.054610</td>\n",
       "      <td>0.062513</td>\n",
       "      <td>0.050119</td>\n",
       "      <td>0.056770</td>\n",
       "      <td>0.074732</td>\n",
       "      <td>0.048067</td>\n",
       "      <td>0.057368</td>\n",
       "      <td>0.060681</td>\n",
       "      <td>0.061674</td>\n",
       "    </tr>\n",
       "    <tr>\n",
       "      <th>14</th>\n",
       "      <td>0.049162</td>\n",
       "      <td>0.056359</td>\n",
       "      <td>0.095741</td>\n",
       "      <td>0.069158</td>\n",
       "      <td>0.050238</td>\n",
       "      <td>0.038671</td>\n",
       "      <td>0.047837</td>\n",
       "      <td>0.055515</td>\n",
       "      <td>0.057363</td>\n",
       "      <td>0.051460</td>\n",
       "      <td>0.066928</td>\n",
       "      <td>0.041844</td>\n",
       "      <td>0.054941</td>\n",
       "      <td>0.071210</td>\n",
       "      <td>0.049263</td>\n",
       "    </tr>\n",
       "    <tr>\n",
       "      <th>15</th>\n",
       "      <td>0.056194</td>\n",
       "      <td>0.054370</td>\n",
       "      <td>0.092156</td>\n",
       "      <td>0.067910</td>\n",
       "      <td>0.052716</td>\n",
       "      <td>0.029902</td>\n",
       "      <td>0.041904</td>\n",
       "      <td>0.048106</td>\n",
       "      <td>0.061108</td>\n",
       "      <td>0.045901</td>\n",
       "      <td>0.054567</td>\n",
       "      <td>0.036428</td>\n",
       "      <td>0.051528</td>\n",
       "      <td>0.076034</td>\n",
       "      <td>0.039387</td>\n",
       "    </tr>\n",
       "    <tr>\n",
       "      <th>16</th>\n",
       "      <td>0.059853</td>\n",
       "      <td>0.049209</td>\n",
       "      <td>0.080145</td>\n",
       "      <td>0.062510</td>\n",
       "      <td>0.053197</td>\n",
       "      <td>0.023339</td>\n",
       "      <td>0.036708</td>\n",
       "      <td>0.041690</td>\n",
       "      <td>0.061383</td>\n",
       "      <td>0.040006</td>\n",
       "      <td>0.044510</td>\n",
       "      <td>0.031712</td>\n",
       "      <td>0.047056</td>\n",
       "      <td>0.075404</td>\n",
       "      <td>0.031525</td>\n",
       "    </tr>\n",
       "    <tr>\n",
       "      <th>17</th>\n",
       "      <td>0.060086</td>\n",
       "      <td>0.044539</td>\n",
       "      <td>0.059654</td>\n",
       "      <td>0.052927</td>\n",
       "      <td>0.051519</td>\n",
       "      <td>0.018383</td>\n",
       "      <td>0.032155</td>\n",
       "      <td>0.036136</td>\n",
       "      <td>0.058155</td>\n",
       "      <td>0.034898</td>\n",
       "      <td>0.036326</td>\n",
       "      <td>0.027607</td>\n",
       "      <td>0.041671</td>\n",
       "      <td>0.069408</td>\n",
       "      <td>0.025260</td>\n",
       "    </tr>\n",
       "    <tr>\n",
       "      <th>18</th>\n",
       "      <td>0.056769</td>\n",
       "      <td>0.040312</td>\n",
       "      <td>0.044475</td>\n",
       "      <td>0.044815</td>\n",
       "      <td>0.047505</td>\n",
       "      <td>0.014606</td>\n",
       "      <td>0.028168</td>\n",
       "      <td>0.031325</td>\n",
       "      <td>0.051335</td>\n",
       "      <td>0.030467</td>\n",
       "      <td>0.029663</td>\n",
       "      <td>0.024033</td>\n",
       "      <td>0.035253</td>\n",
       "      <td>0.057982</td>\n",
       "      <td>0.020265</td>\n",
       "    </tr>\n",
       "    <tr>\n",
       "      <th>19</th>\n",
       "      <td>0.050222</td>\n",
       "      <td>0.036488</td>\n",
       "      <td>0.033221</td>\n",
       "      <td>0.037948</td>\n",
       "      <td>0.041486</td>\n",
       "      <td>0.011701</td>\n",
       "      <td>0.024675</td>\n",
       "      <td>0.027158</td>\n",
       "      <td>0.045314</td>\n",
       "      <td>0.026620</td>\n",
       "      <td>0.024236</td>\n",
       "      <td>0.020922</td>\n",
       "      <td>0.029832</td>\n",
       "      <td>0.048436</td>\n",
       "      <td>0.016279</td>\n",
       "    </tr>\n",
       "    <tr>\n",
       "      <th>20</th>\n",
       "      <td>0.044433</td>\n",
       "      <td>0.033026</td>\n",
       "      <td>0.024869</td>\n",
       "      <td>0.032136</td>\n",
       "      <td>0.036281</td>\n",
       "      <td>0.009445</td>\n",
       "      <td>0.021615</td>\n",
       "      <td>0.023548</td>\n",
       "      <td>0.039999</td>\n",
       "      <td>0.023275</td>\n",
       "      <td>0.019814</td>\n",
       "      <td>0.018214</td>\n",
       "      <td>0.025251</td>\n",
       "      <td>0.040462</td>\n",
       "      <td>0.013095</td>\n",
       "    </tr>\n",
       "    <tr>\n",
       "      <th>21</th>\n",
       "      <td>0.039315</td>\n",
       "      <td>0.029894</td>\n",
       "      <td>0.018663</td>\n",
       "      <td>0.027215</td>\n",
       "      <td>0.031770</td>\n",
       "      <td>0.007677</td>\n",
       "      <td>0.018935</td>\n",
       "      <td>0.020420</td>\n",
       "      <td>0.035308</td>\n",
       "      <td>0.020365</td>\n",
       "      <td>0.016209</td>\n",
       "      <td>0.015856</td>\n",
       "      <td>0.021379</td>\n",
       "      <td>0.033801</td>\n",
       "      <td>0.010549</td>\n",
       "    </tr>\n",
       "    <tr>\n",
       "      <th>22</th>\n",
       "      <td>0.034789</td>\n",
       "      <td>0.027058</td>\n",
       "      <td>0.014045</td>\n",
       "      <td>0.023048</td>\n",
       "      <td>0.027851</td>\n",
       "      <td>0.006279</td>\n",
       "      <td>0.016587</td>\n",
       "      <td>0.017710</td>\n",
       "      <td>0.031167</td>\n",
       "      <td>0.017831</td>\n",
       "      <td>0.013269</td>\n",
       "      <td>0.013804</td>\n",
       "      <td>0.018106</td>\n",
       "      <td>0.028237</td>\n",
       "      <td>0.008511</td>\n",
       "    </tr>\n",
       "    <tr>\n",
       "      <th>23</th>\n",
       "      <td>0.030786</td>\n",
       "      <td>0.024492</td>\n",
       "      <td>0.010604</td>\n",
       "      <td>0.019521</td>\n",
       "      <td>0.024441</td>\n",
       "      <td>0.005165</td>\n",
       "      <td>0.014530</td>\n",
       "      <td>0.015361</td>\n",
       "      <td>0.027512</td>\n",
       "      <td>0.015622</td>\n",
       "      <td>0.010870</td>\n",
       "      <td>0.012017</td>\n",
       "      <td>0.015339</td>\n",
       "      <td>0.023588</td>\n",
       "      <td>0.006879</td>\n",
       "    </tr>\n",
       "    <tr>\n",
       "      <th>24</th>\n",
       "      <td>0.027247</td>\n",
       "      <td>0.022170</td>\n",
       "      <td>0.008035</td>\n",
       "      <td>0.016534</td>\n",
       "      <td>0.021468</td>\n",
       "      <td>0.004269</td>\n",
       "      <td>0.012729</td>\n",
       "      <td>0.013325</td>\n",
       "      <td>0.024285</td>\n",
       "      <td>0.013695</td>\n",
       "      <td>0.008911</td>\n",
       "      <td>0.010461</td>\n",
       "      <td>0.012998</td>\n",
       "      <td>0.019705</td>\n",
       "      <td>0.005569</td>\n",
       "    </tr>\n",
       "    <tr>\n",
       "      <th>25</th>\n",
       "      <td>0.024115</td>\n",
       "      <td>0.020068</td>\n",
       "      <td>0.006113</td>\n",
       "      <td>0.014006</td>\n",
       "      <td>0.018872</td>\n",
       "      <td>0.003544</td>\n",
       "      <td>0.011150</td>\n",
       "      <td>0.011560</td>\n",
       "      <td>0.021437</td>\n",
       "      <td>0.012012</td>\n",
       "      <td>0.007311</td>\n",
       "      <td>0.009107</td>\n",
       "      <td>0.011018</td>\n",
       "      <td>0.016461</td>\n",
       "      <td>0.004516</td>\n",
       "    </tr>\n",
       "    <tr>\n",
       "      <th>26</th>\n",
       "      <td>0.021346</td>\n",
       "      <td>0.018166</td>\n",
       "      <td>0.004672</td>\n",
       "      <td>0.011864</td>\n",
       "      <td>0.016602</td>\n",
       "      <td>0.002954</td>\n",
       "      <td>0.009768</td>\n",
       "      <td>0.010030</td>\n",
       "      <td>0.018923</td>\n",
       "      <td>0.010542</td>\n",
       "      <td>0.006003</td>\n",
       "      <td>0.007928</td>\n",
       "      <td>0.009342</td>\n",
       "      <td>0.013751</td>\n",
       "      <td>0.003670</td>\n",
       "    </tr>\n",
       "    <tr>\n",
       "      <th>27</th>\n",
       "      <td>0.018895</td>\n",
       "      <td>0.016444</td>\n",
       "      <td>0.003588</td>\n",
       "      <td>0.010051</td>\n",
       "      <td>0.014615</td>\n",
       "      <td>0.002470</td>\n",
       "      <td>0.008557</td>\n",
       "      <td>0.008703</td>\n",
       "      <td>0.016704</td>\n",
       "      <td>0.009257</td>\n",
       "      <td>0.004934</td>\n",
       "      <td>0.006902</td>\n",
       "      <td>0.007924</td>\n",
       "      <td>0.011487</td>\n",
       "      <td>0.002988</td>\n",
       "    </tr>\n",
       "    <tr>\n",
       "      <th>28</th>\n",
       "      <td>0.016727</td>\n",
       "      <td>0.014885</td>\n",
       "      <td>0.002770</td>\n",
       "      <td>0.008515</td>\n",
       "      <td>0.012872</td>\n",
       "      <td>0.002071</td>\n",
       "      <td>0.007496</td>\n",
       "      <td>0.007553</td>\n",
       "      <td>0.014744</td>\n",
       "      <td>0.008132</td>\n",
       "      <td>0.004058</td>\n",
       "      <td>0.006008</td>\n",
       "      <td>0.006723</td>\n",
       "      <td>0.009596</td>\n",
       "      <td>0.002438</td>\n",
       "    </tr>\n",
       "    <tr>\n",
       "      <th>29</th>\n",
       "      <td>0.014809</td>\n",
       "      <td>0.013474</td>\n",
       "      <td>0.002151</td>\n",
       "      <td>0.007215</td>\n",
       "      <td>0.011344</td>\n",
       "      <td>0.001741</td>\n",
       "      <td>0.006567</td>\n",
       "      <td>0.006555</td>\n",
       "      <td>0.013015</td>\n",
       "      <td>0.007148</td>\n",
       "      <td>0.003341</td>\n",
       "      <td>0.005231</td>\n",
       "      <td>0.005706</td>\n",
       "      <td>0.008016</td>\n",
       "      <td>0.001993</td>\n",
       "    </tr>\n",
       "    <tr>\n",
       "      <th>30</th>\n",
       "      <td>0.013112</td>\n",
       "      <td>0.012198</td>\n",
       "      <td>0.001681</td>\n",
       "      <td>0.006113</td>\n",
       "      <td>0.010001</td>\n",
       "      <td>0.001467</td>\n",
       "      <td>0.005752</td>\n",
       "      <td>0.005689</td>\n",
       "      <td>0.011489</td>\n",
       "      <td>0.006285</td>\n",
       "      <td>0.002754</td>\n",
       "      <td>0.004553</td>\n",
       "      <td>0.004845</td>\n",
       "      <td>0.006697</td>\n",
       "      <td>0.001633</td>\n",
       "    </tr>\n",
       "    <tr>\n",
       "      <th>31</th>\n",
       "      <td>0.011609</td>\n",
       "      <td>0.011042</td>\n",
       "      <td>0.001322</td>\n",
       "      <td>0.005180</td>\n",
       "      <td>0.008822</td>\n",
       "      <td>0.001238</td>\n",
       "      <td>0.005039</td>\n",
       "      <td>0.004939</td>\n",
       "      <td>0.010141</td>\n",
       "      <td>0.005529</td>\n",
       "      <td>0.002272</td>\n",
       "      <td>0.003964</td>\n",
       "      <td>0.004115</td>\n",
       "      <td>0.005594</td>\n",
       "      <td>0.001341</td>\n",
       "    </tr>\n",
       "    <tr>\n",
       "      <th>32</th>\n",
       "      <td>0.010280</td>\n",
       "      <td>0.009996</td>\n",
       "      <td>0.001046</td>\n",
       "      <td>0.004390</td>\n",
       "      <td>0.007784</td>\n",
       "      <td>0.001047</td>\n",
       "      <td>0.004415</td>\n",
       "      <td>0.004287</td>\n",
       "      <td>0.008952</td>\n",
       "      <td>0.004866</td>\n",
       "      <td>0.001876</td>\n",
       "      <td>0.003451</td>\n",
       "      <td>0.003496</td>\n",
       "      <td>0.004673</td>\n",
       "      <td>0.001104</td>\n",
       "    </tr>\n",
       "    <tr>\n",
       "      <th>33</th>\n",
       "      <td>0.009103</td>\n",
       "      <td>0.009049</td>\n",
       "      <td>0.000834</td>\n",
       "      <td>0.003720</td>\n",
       "      <td>0.006870</td>\n",
       "      <td>0.000886</td>\n",
       "      <td>0.003867</td>\n",
       "      <td>0.003722</td>\n",
       "      <td>0.007902</td>\n",
       "      <td>0.004284</td>\n",
       "      <td>0.001551</td>\n",
       "      <td>0.003004</td>\n",
       "      <td>0.002972</td>\n",
       "      <td>0.003904</td>\n",
       "      <td>0.000911</td>\n",
       "    </tr>\n",
       "    <tr>\n",
       "      <th>34</th>\n",
       "      <td>0.008062</td>\n",
       "      <td>0.008191</td>\n",
       "      <td>0.000669</td>\n",
       "      <td>0.003153</td>\n",
       "      <td>0.006066</td>\n",
       "      <td>0.000751</td>\n",
       "      <td>0.003388</td>\n",
       "      <td>0.003232</td>\n",
       "      <td>0.006975</td>\n",
       "      <td>0.003774</td>\n",
       "      <td>0.001283</td>\n",
       "      <td>0.002615</td>\n",
       "      <td>0.002527</td>\n",
       "      <td>0.003261</td>\n",
       "      <td>0.000753</td>\n",
       "    </tr>\n",
       "    <tr>\n",
       "      <th>35</th>\n",
       "      <td>0.007140</td>\n",
       "      <td>0.007415</td>\n",
       "      <td>0.000541</td>\n",
       "      <td>0.002673</td>\n",
       "      <td>0.005357</td>\n",
       "      <td>0.000637</td>\n",
       "      <td>0.002968</td>\n",
       "      <td>0.002806</td>\n",
       "      <td>0.006157</td>\n",
       "      <td>0.003325</td>\n",
       "      <td>0.001063</td>\n",
       "      <td>0.002277</td>\n",
       "      <td>0.002149</td>\n",
       "      <td>0.002724</td>\n",
       "      <td>0.000624</td>\n",
       "    </tr>\n",
       "    <tr>\n",
       "      <th>36</th>\n",
       "      <td>0.006324</td>\n",
       "      <td>0.006713</td>\n",
       "      <td>0.000440</td>\n",
       "      <td>0.002266</td>\n",
       "      <td>0.004732</td>\n",
       "      <td>0.000541</td>\n",
       "      <td>0.002600</td>\n",
       "      <td>0.002437</td>\n",
       "      <td>0.005435</td>\n",
       "      <td>0.002931</td>\n",
       "      <td>0.000882</td>\n",
       "      <td>0.001982</td>\n",
       "      <td>0.001829</td>\n",
       "      <td>0.002276</td>\n",
       "      <td>0.000519</td>\n",
       "    </tr>\n",
       "    <tr>\n",
       "      <th>37</th>\n",
       "      <td>0.005601</td>\n",
       "      <td>0.006077</td>\n",
       "      <td>0.000360</td>\n",
       "      <td>0.001921</td>\n",
       "      <td>0.004181</td>\n",
       "      <td>0.000460</td>\n",
       "      <td>0.002278</td>\n",
       "      <td>0.002116</td>\n",
       "      <td>0.004798</td>\n",
       "      <td>0.002584</td>\n",
       "      <td>0.000733</td>\n",
       "      <td>0.001725</td>\n",
       "      <td>0.001557</td>\n",
       "      <td>0.001901</td>\n",
       "      <td>0.000432</td>\n",
       "    </tr>\n",
       "    <tr>\n",
       "      <th>38</th>\n",
       "      <td>0.004961</td>\n",
       "      <td>0.005502</td>\n",
       "      <td>0.000297</td>\n",
       "      <td>0.001629</td>\n",
       "      <td>0.003695</td>\n",
       "      <td>0.000392</td>\n",
       "      <td>0.001995</td>\n",
       "      <td>0.001838</td>\n",
       "      <td>0.004235</td>\n",
       "      <td>0.002279</td>\n",
       "      <td>0.000609</td>\n",
       "      <td>0.001502</td>\n",
       "      <td>0.001326</td>\n",
       "      <td>0.001588</td>\n",
       "      <td>0.000360</td>\n",
       "    </tr>\n",
       "    <tr>\n",
       "      <th>39</th>\n",
       "      <td>0.004395</td>\n",
       "      <td>0.004981</td>\n",
       "      <td>0.000246</td>\n",
       "      <td>0.001381</td>\n",
       "      <td>0.003266</td>\n",
       "      <td>0.000334</td>\n",
       "      <td>0.001748</td>\n",
       "      <td>0.001596</td>\n",
       "      <td>0.003738</td>\n",
       "      <td>0.002011</td>\n",
       "      <td>0.000507</td>\n",
       "      <td>0.001308</td>\n",
       "      <td>0.001129</td>\n",
       "      <td>0.001327</td>\n",
       "      <td>0.000302</td>\n",
       "    </tr>\n",
       "    <tr>\n",
       "      <th>40</th>\n",
       "      <td>0.003893</td>\n",
       "      <td>0.004509</td>\n",
       "      <td>0.000205</td>\n",
       "      <td>0.001171</td>\n",
       "      <td>0.002887</td>\n",
       "      <td>0.000284</td>\n",
       "      <td>0.001531</td>\n",
       "      <td>0.001387</td>\n",
       "      <td>0.003300</td>\n",
       "      <td>0.001774</td>\n",
       "      <td>0.000423</td>\n",
       "      <td>0.001138</td>\n",
       "      <td>0.000962</td>\n",
       "      <td>0.001108</td>\n",
       "      <td>0.000253</td>\n",
       "    </tr>\n",
       "    <tr>\n",
       "      <th>41</th>\n",
       "      <td>0.003449</td>\n",
       "      <td>0.004082</td>\n",
       "      <td>0.000172</td>\n",
       "      <td>0.000993</td>\n",
       "      <td>0.002553</td>\n",
       "      <td>0.000242</td>\n",
       "      <td>0.001342</td>\n",
       "      <td>0.001205</td>\n",
       "      <td>0.002913</td>\n",
       "      <td>0.001567</td>\n",
       "      <td>0.000353</td>\n",
       "      <td>0.000991</td>\n",
       "      <td>0.000821</td>\n",
       "      <td>0.000926</td>\n",
       "      <td>0.000212</td>\n",
       "    </tr>\n",
       "    <tr>\n",
       "      <th>42</th>\n",
       "      <td>0.003056</td>\n",
       "      <td>0.003696</td>\n",
       "      <td>0.000145</td>\n",
       "      <td>0.000842</td>\n",
       "      <td>0.002257</td>\n",
       "      <td>0.000207</td>\n",
       "      <td>0.001175</td>\n",
       "      <td>0.001047</td>\n",
       "      <td>0.002571</td>\n",
       "      <td>0.001383</td>\n",
       "      <td>0.000295</td>\n",
       "      <td>0.000863</td>\n",
       "      <td>0.000700</td>\n",
       "      <td>0.000773</td>\n",
       "      <td>0.000179</td>\n",
       "    </tr>\n",
       "    <tr>\n",
       "      <th>43</th>\n",
       "      <td>0.002707</td>\n",
       "      <td>0.003346</td>\n",
       "      <td>0.000122</td>\n",
       "      <td>0.000714</td>\n",
       "      <td>0.001996</td>\n",
       "      <td>0.000176</td>\n",
       "      <td>0.001030</td>\n",
       "      <td>0.000909</td>\n",
       "      <td>0.002270</td>\n",
       "      <td>0.001222</td>\n",
       "      <td>0.000247</td>\n",
       "      <td>0.000751</td>\n",
       "      <td>0.000597</td>\n",
       "      <td>0.000646</td>\n",
       "      <td>0.000151</td>\n",
       "    </tr>\n",
       "    <tr>\n",
       "      <th>44</th>\n",
       "      <td>0.002399</td>\n",
       "      <td>0.003029</td>\n",
       "      <td>0.000104</td>\n",
       "      <td>0.000606</td>\n",
       "      <td>0.001766</td>\n",
       "      <td>0.000151</td>\n",
       "      <td>0.000902</td>\n",
       "      <td>0.000790</td>\n",
       "      <td>0.002003</td>\n",
       "      <td>0.001080</td>\n",
       "      <td>0.000207</td>\n",
       "      <td>0.000654</td>\n",
       "      <td>0.000510</td>\n",
       "      <td>0.000540</td>\n",
       "      <td>0.000128</td>\n",
       "    </tr>\n",
       "    <tr>\n",
       "      <th>45</th>\n",
       "      <td>0.002125</td>\n",
       "      <td>0.002742</td>\n",
       "      <td>0.000088</td>\n",
       "      <td>0.000514</td>\n",
       "      <td>0.001562</td>\n",
       "      <td>0.000129</td>\n",
       "      <td>0.000790</td>\n",
       "      <td>0.000686</td>\n",
       "      <td>0.001768</td>\n",
       "      <td>0.000954</td>\n",
       "      <td>0.000174</td>\n",
       "      <td>0.000569</td>\n",
       "      <td>0.000436</td>\n",
       "      <td>0.000451</td>\n",
       "      <td>0.000108</td>\n",
       "    </tr>\n",
       "    <tr>\n",
       "      <th>46</th>\n",
       "      <td>0.001883</td>\n",
       "      <td>0.002483</td>\n",
       "      <td>0.000076</td>\n",
       "      <td>0.000436</td>\n",
       "      <td>0.001382</td>\n",
       "      <td>0.000110</td>\n",
       "      <td>0.000692</td>\n",
       "      <td>0.000596</td>\n",
       "      <td>0.001561</td>\n",
       "      <td>0.000843</td>\n",
       "      <td>0.000146</td>\n",
       "      <td>0.000496</td>\n",
       "      <td>0.000372</td>\n",
       "      <td>0.000377</td>\n",
       "      <td>0.000092</td>\n",
       "    </tr>\n",
       "    <tr>\n",
       "      <th>47</th>\n",
       "      <td>0.001669</td>\n",
       "      <td>0.002248</td>\n",
       "      <td>0.000065</td>\n",
       "      <td>0.000370</td>\n",
       "      <td>0.001223</td>\n",
       "      <td>0.000094</td>\n",
       "      <td>0.000606</td>\n",
       "      <td>0.000518</td>\n",
       "      <td>0.001378</td>\n",
       "      <td>0.000746</td>\n",
       "      <td>0.000123</td>\n",
       "      <td>0.000431</td>\n",
       "      <td>0.000318</td>\n",
       "      <td>0.000315</td>\n",
       "      <td>0.000078</td>\n",
       "    </tr>\n",
       "    <tr>\n",
       "      <th>48</th>\n",
       "      <td>0.001479</td>\n",
       "      <td>0.002035</td>\n",
       "      <td>0.000056</td>\n",
       "      <td>0.000314</td>\n",
       "      <td>0.001082</td>\n",
       "      <td>0.000081</td>\n",
       "      <td>0.000531</td>\n",
       "      <td>0.000450</td>\n",
       "      <td>0.001216</td>\n",
       "      <td>0.000659</td>\n",
       "      <td>0.000103</td>\n",
       "      <td>0.000376</td>\n",
       "      <td>0.000272</td>\n",
       "      <td>0.000263</td>\n",
       "      <td>0.000067</td>\n",
       "    </tr>\n",
       "    <tr>\n",
       "      <th>49</th>\n",
       "      <td>0.001311</td>\n",
       "      <td>0.001842</td>\n",
       "      <td>0.000048</td>\n",
       "      <td>0.000267</td>\n",
       "      <td>0.000957</td>\n",
       "      <td>0.000069</td>\n",
       "      <td>0.000465</td>\n",
       "      <td>0.000391</td>\n",
       "      <td>0.001074</td>\n",
       "      <td>0.000583</td>\n",
       "      <td>0.000087</td>\n",
       "      <td>0.000327</td>\n",
       "      <td>0.000233</td>\n",
       "      <td>0.000220</td>\n",
       "      <td>0.000057</td>\n",
       "    </tr>\n",
       "    <tr>\n",
       "      <th>50</th>\n",
       "      <td>0.001161</td>\n",
       "      <td>0.001668</td>\n",
       "      <td>0.000041</td>\n",
       "      <td>0.000226</td>\n",
       "      <td>0.000847</td>\n",
       "      <td>0.000059</td>\n",
       "      <td>0.000408</td>\n",
       "      <td>0.000340</td>\n",
       "      <td>0.000948</td>\n",
       "      <td>0.000516</td>\n",
       "      <td>0.000074</td>\n",
       "      <td>0.000285</td>\n",
       "      <td>0.000199</td>\n",
       "      <td>0.000183</td>\n",
       "      <td>0.000048</td>\n",
       "    </tr>\n",
       "    <tr>\n",
       "      <th>51</th>\n",
       "      <td>0.009067</td>\n",
       "      <td>0.015960</td>\n",
       "      <td>0.000267</td>\n",
       "      <td>0.001276</td>\n",
       "      <td>0.006540</td>\n",
       "      <td>0.000359</td>\n",
       "      <td>0.002883</td>\n",
       "      <td>0.002265</td>\n",
       "      <td>0.007134</td>\n",
       "      <td>0.004022</td>\n",
       "      <td>0.000421</td>\n",
       "      <td>0.001914</td>\n",
       "      <td>0.001215</td>\n",
       "      <td>0.000931</td>\n",
       "      <td>0.000300</td>\n",
       "    </tr>\n",
       "  </tbody>\n",
       "</table>\n",
       "</div>"
      ],
      "text/plain": [
       "         NTV       TTV      CTVP     CTVNP        DD      STRP     STRNP  \\\n",
       "0   0.002189  0.002860  0.002800  0.003816  0.003013  0.008541  0.006379   \n",
       "1   0.004711  0.006160  0.006124  0.008176  0.006551  0.018383  0.013587   \n",
       "2   0.007619  0.009966  0.010081  0.013162  0.010711  0.029726  0.021731   \n",
       "3   0.010976  0.014358  0.014809  0.018864  0.015606  0.042804  0.030935   \n",
       "4   0.012662  0.016566  0.017674  0.021572  0.018360  0.049344  0.034957   \n",
       "5   0.014617  0.019115  0.021164  0.024678  0.021622  0.056896  0.039505   \n",
       "6   0.016885  0.022058  0.025421  0.028241  0.025489  0.065619  0.044646   \n",
       "7   0.019518  0.025456  0.030627  0.032330  0.030077  0.075696  0.050460   \n",
       "8   0.022574  0.029379  0.037002  0.037024  0.035527  0.084261  0.057034   \n",
       "9   0.025811  0.033838  0.044208  0.041897  0.041795  0.091021  0.064082   \n",
       "10  0.029319  0.038928  0.052603  0.047066  0.046006  0.089088  0.067267   \n",
       "11  0.033197  0.044758  0.062618  0.052656  0.048451  0.079671  0.066678   \n",
       "12  0.037555  0.051455  0.074782  0.058806  0.049310  0.066530  0.062341   \n",
       "13  0.042831  0.055347  0.090359  0.066183  0.048880  0.050486  0.054610   \n",
       "14  0.049162  0.056359  0.095741  0.069158  0.050238  0.038671  0.047837   \n",
       "15  0.056194  0.054370  0.092156  0.067910  0.052716  0.029902  0.041904   \n",
       "16  0.059853  0.049209  0.080145  0.062510  0.053197  0.023339  0.036708   \n",
       "17  0.060086  0.044539  0.059654  0.052927  0.051519  0.018383  0.032155   \n",
       "18  0.056769  0.040312  0.044475  0.044815  0.047505  0.014606  0.028168   \n",
       "19  0.050222  0.036488  0.033221  0.037948  0.041486  0.011701  0.024675   \n",
       "20  0.044433  0.033026  0.024869  0.032136  0.036281  0.009445  0.021615   \n",
       "21  0.039315  0.029894  0.018663  0.027215  0.031770  0.007677  0.018935   \n",
       "22  0.034789  0.027058  0.014045  0.023048  0.027851  0.006279  0.016587   \n",
       "23  0.030786  0.024492  0.010604  0.019521  0.024441  0.005165  0.014530   \n",
       "24  0.027247  0.022170  0.008035  0.016534  0.021468  0.004269  0.012729   \n",
       "25  0.024115  0.020068  0.006113  0.014006  0.018872  0.003544  0.011150   \n",
       "26  0.021346  0.018166  0.004672  0.011864  0.016602  0.002954  0.009768   \n",
       "27  0.018895  0.016444  0.003588  0.010051  0.014615  0.002470  0.008557   \n",
       "28  0.016727  0.014885  0.002770  0.008515  0.012872  0.002071  0.007496   \n",
       "29  0.014809  0.013474  0.002151  0.007215  0.011344  0.001741  0.006567   \n",
       "30  0.013112  0.012198  0.001681  0.006113  0.010001  0.001467  0.005752   \n",
       "31  0.011609  0.011042  0.001322  0.005180  0.008822  0.001238  0.005039   \n",
       "32  0.010280  0.009996  0.001046  0.004390  0.007784  0.001047  0.004415   \n",
       "33  0.009103  0.009049  0.000834  0.003720  0.006870  0.000886  0.003867   \n",
       "34  0.008062  0.008191  0.000669  0.003153  0.006066  0.000751  0.003388   \n",
       "35  0.007140  0.007415  0.000541  0.002673  0.005357  0.000637  0.002968   \n",
       "36  0.006324  0.006713  0.000440  0.002266  0.004732  0.000541  0.002600   \n",
       "37  0.005601  0.006077  0.000360  0.001921  0.004181  0.000460  0.002278   \n",
       "38  0.004961  0.005502  0.000297  0.001629  0.003695  0.000392  0.001995   \n",
       "39  0.004395  0.004981  0.000246  0.001381  0.003266  0.000334  0.001748   \n",
       "40  0.003893  0.004509  0.000205  0.001171  0.002887  0.000284  0.001531   \n",
       "41  0.003449  0.004082  0.000172  0.000993  0.002553  0.000242  0.001342   \n",
       "42  0.003056  0.003696  0.000145  0.000842  0.002257  0.000207  0.001175   \n",
       "43  0.002707  0.003346  0.000122  0.000714  0.001996  0.000176  0.001030   \n",
       "44  0.002399  0.003029  0.000104  0.000606  0.001766  0.000151  0.000902   \n",
       "45  0.002125  0.002742  0.000088  0.000514  0.001562  0.000129  0.000790   \n",
       "46  0.001883  0.002483  0.000076  0.000436  0.001382  0.000110  0.000692   \n",
       "47  0.001669  0.002248  0.000065  0.000370  0.001223  0.000094  0.000606   \n",
       "48  0.001479  0.002035  0.000056  0.000314  0.001082  0.000081  0.000531   \n",
       "49  0.001311  0.001842  0.000048  0.000267  0.000957  0.000069  0.000465   \n",
       "50  0.001161  0.001668  0.000041  0.000226  0.000847  0.000059  0.000408   \n",
       "51  0.009067  0.015960  0.000267  0.001276  0.006540  0.000359  0.002883   \n",
       "\n",
       "         YOT       CIN      DISP     DISNP       SEM  PAID_SOCIAL       DCI  \\\n",
       "0   0.005779  0.002623  0.006424  0.005661  0.008667     0.005758  0.002371   \n",
       "1   0.012283  0.005625  0.013568  0.012113  0.018245     0.012272  0.005154   \n",
       "2   0.019607  0.009060  0.021514  0.019468  0.028831     0.019643  0.008419   \n",
       "3   0.027856  0.012993  0.030354  0.027854  0.040530     0.027986  0.012251   \n",
       "4   0.031371  0.014871  0.033766  0.031760  0.044793     0.031672  0.014377   \n",
       "5   0.035341  0.017020  0.037567  0.036222  0.049504     0.035853  0.016872   \n",
       "6   0.039825  0.019480  0.041803  0.041323  0.054710     0.040595  0.019799   \n",
       "7   0.044893  0.022296  0.046524  0.047154  0.060464     0.045974  0.023234   \n",
       "8   0.050622  0.025518  0.051787  0.053822  0.066823     0.052079  0.027266   \n",
       "9   0.056550  0.029207  0.056761  0.060753  0.069326     0.058439  0.031997   \n",
       "10  0.062792  0.033428  0.060470  0.068104  0.068152     0.061912  0.037549   \n",
       "11  0.066465  0.038260  0.061696  0.076041  0.063424     0.062733  0.044064   \n",
       "12  0.066161  0.043790  0.060547  0.077861  0.055214     0.061071  0.051709   \n",
       "13  0.062513  0.050119  0.056770  0.074732  0.048067     0.057368  0.060681   \n",
       "14  0.055515  0.057363  0.051460  0.066928  0.041844     0.054941  0.071210   \n",
       "15  0.048106  0.061108  0.045901  0.054567  0.036428     0.051528  0.076034   \n",
       "16  0.041690  0.061383  0.040006  0.044510  0.031712     0.047056  0.075404   \n",
       "17  0.036136  0.058155  0.034898  0.036326  0.027607     0.041671  0.069408   \n",
       "18  0.031325  0.051335  0.030467  0.029663  0.024033     0.035253  0.057982   \n",
       "19  0.027158  0.045314  0.026620  0.024236  0.020922     0.029832  0.048436   \n",
       "20  0.023548  0.039999  0.023275  0.019814  0.018214     0.025251  0.040462   \n",
       "21  0.020420  0.035308  0.020365  0.016209  0.015856     0.021379  0.033801   \n",
       "22  0.017710  0.031167  0.017831  0.013269  0.013804     0.018106  0.028237   \n",
       "23  0.015361  0.027512  0.015622  0.010870  0.012017     0.015339  0.023588   \n",
       "24  0.013325  0.024285  0.013695  0.008911  0.010461     0.012998  0.019705   \n",
       "25  0.011560  0.021437  0.012012  0.007311  0.009107     0.011018  0.016461   \n",
       "26  0.010030  0.018923  0.010542  0.006003  0.007928     0.009342  0.013751   \n",
       "27  0.008703  0.016704  0.009257  0.004934  0.006902     0.007924  0.011487   \n",
       "28  0.007553  0.014744  0.008132  0.004058  0.006008     0.006723  0.009596   \n",
       "29  0.006555  0.013015  0.007148  0.003341  0.005231     0.005706  0.008016   \n",
       "30  0.005689  0.011489  0.006285  0.002754  0.004553     0.004845  0.006697   \n",
       "31  0.004939  0.010141  0.005529  0.002272  0.003964     0.004115  0.005594   \n",
       "32  0.004287  0.008952  0.004866  0.001876  0.003451     0.003496  0.004673   \n",
       "33  0.003722  0.007902  0.004284  0.001551  0.003004     0.002972  0.003904   \n",
       "34  0.003232  0.006975  0.003774  0.001283  0.002615     0.002527  0.003261   \n",
       "35  0.002806  0.006157  0.003325  0.001063  0.002277     0.002149  0.002724   \n",
       "36  0.002437  0.005435  0.002931  0.000882  0.001982     0.001829  0.002276   \n",
       "37  0.002116  0.004798  0.002584  0.000733  0.001725     0.001557  0.001901   \n",
       "38  0.001838  0.004235  0.002279  0.000609  0.001502     0.001326  0.001588   \n",
       "39  0.001596  0.003738  0.002011  0.000507  0.001308     0.001129  0.001327   \n",
       "40  0.001387  0.003300  0.001774  0.000423  0.001138     0.000962  0.001108   \n",
       "41  0.001205  0.002913  0.001567  0.000353  0.000991     0.000821  0.000926   \n",
       "42  0.001047  0.002571  0.001383  0.000295  0.000863     0.000700  0.000773   \n",
       "43  0.000909  0.002270  0.001222  0.000247  0.000751     0.000597  0.000646   \n",
       "44  0.000790  0.002003  0.001080  0.000207  0.000654     0.000510  0.000540   \n",
       "45  0.000686  0.001768  0.000954  0.000174  0.000569     0.000436  0.000451   \n",
       "46  0.000596  0.001561  0.000843  0.000146  0.000496     0.000372  0.000377   \n",
       "47  0.000518  0.001378  0.000746  0.000123  0.000431     0.000318  0.000315   \n",
       "48  0.000450  0.001216  0.000659  0.000103  0.000376     0.000272  0.000263   \n",
       "49  0.000391  0.001074  0.000583  0.000087  0.000327     0.000233  0.000220   \n",
       "50  0.000340  0.000948  0.000516  0.000074  0.000285     0.000199  0.000183   \n",
       "51  0.002265  0.007134  0.004022  0.000421  0.001914     0.001215  0.000931   \n",
       "\n",
       "         DRD  \n",
       "0   0.006388  \n",
       "1   0.013864  \n",
       "2   0.022619  \n",
       "3   0.032878  \n",
       "4   0.038519  \n",
       "5   0.045158  \n",
       "6   0.052976  \n",
       "7   0.062184  \n",
       "8   0.073034  \n",
       "9   0.085196  \n",
       "10  0.089572  \n",
       "11  0.086817  \n",
       "12  0.077283  \n",
       "13  0.061674  \n",
       "14  0.049263  \n",
       "15  0.039387  \n",
       "16  0.031525  \n",
       "17  0.025260  \n",
       "18  0.020265  \n",
       "19  0.016279  \n",
       "20  0.013095  \n",
       "21  0.010549  \n",
       "22  0.008511  \n",
       "23  0.006879  \n",
       "24  0.005569  \n",
       "25  0.004516  \n",
       "26  0.003670  \n",
       "27  0.002988  \n",
       "28  0.002438  \n",
       "29  0.001993  \n",
       "30  0.001633  \n",
       "31  0.001341  \n",
       "32  0.001104  \n",
       "33  0.000911  \n",
       "34  0.000753  \n",
       "35  0.000624  \n",
       "36  0.000519  \n",
       "37  0.000432  \n",
       "38  0.000360  \n",
       "39  0.000302  \n",
       "40  0.000253  \n",
       "41  0.000212  \n",
       "42  0.000179  \n",
       "43  0.000151  \n",
       "44  0.000128  \n",
       "45  0.000108  \n",
       "46  0.000092  \n",
       "47  0.000078  \n",
       "48  0.000067  \n",
       "49  0.000057  \n",
       "50  0.000048  \n",
       "51  0.000300  "
      ]
     },
     "execution_count": 14,
     "metadata": {},
     "output_type": "execute_result"
    }
   ],
   "source": [
    "df_curve"
   ]
  },
  {
   "cell_type": "code",
   "execution_count": 15,
   "metadata": {},
   "outputs": [
    {
     "data": {
      "text/html": [
       "<div>\n",
       "<style scoped>\n",
       "    .dataframe tbody tr th:only-of-type {\n",
       "        vertical-align: middle;\n",
       "    }\n",
       "\n",
       "    .dataframe tbody tr th {\n",
       "        vertical-align: top;\n",
       "    }\n",
       "\n",
       "    .dataframe thead th {\n",
       "        text-align: right;\n",
       "    }\n",
       "</style>\n",
       "<table border=\"1\" class=\"dataframe\">\n",
       "  <thead>\n",
       "    <tr style=\"text-align: right;\">\n",
       "      <th></th>\n",
       "      <th>Spending Quarter</th>\n",
       "      <th>Spend</th>\n",
       "      <th>2024 Q1</th>\n",
       "      <th>2024 Q2</th>\n",
       "      <th>2024 Q3</th>\n",
       "      <th>2024 Q4</th>\n",
       "      <th>2025 Q1</th>\n",
       "      <th>2025 Q2</th>\n",
       "      <th>2025 Q3</th>\n",
       "      <th>2025 Q4</th>\n",
       "      <th>2026 Q1</th>\n",
       "      <th>2026 Q2</th>\n",
       "      <th>2026 Q3</th>\n",
       "      <th>2026 Q4</th>\n",
       "      <th>2027 Q1</th>\n",
       "      <th>2027 Q2</th>\n",
       "      <th>2027 Q3</th>\n",
       "      <th>2027 Q4</th>\n",
       "    </tr>\n",
       "  </thead>\n",
       "  <tbody>\n",
       "    <tr>\n",
       "      <th>0</th>\n",
       "      <td>2025 Q1</td>\n",
       "      <td>47548717.12189</td>\n",
       "      <td>0.0</td>\n",
       "      <td>0.0</td>\n",
       "      <td>0.0</td>\n",
       "      <td>0.0</td>\n",
       "      <td>491939.942469</td>\n",
       "      <td>954366.301333</td>\n",
       "      <td>2.587955e+05</td>\n",
       "      <td>4.778327e+04</td>\n",
       "      <td>8867.474201</td>\n",
       "      <td>0.000000</td>\n",
       "      <td>0.000000</td>\n",
       "      <td>0.000000</td>\n",
       "      <td>0.0</td>\n",
       "      <td>0.0</td>\n",
       "      <td>0.0</td>\n",
       "      <td>0.0</td>\n",
       "    </tr>\n",
       "    <tr>\n",
       "      <th>1</th>\n",
       "      <td>2025 Q2</td>\n",
       "      <td>61557399.86867</td>\n",
       "      <td>0.0</td>\n",
       "      <td>0.0</td>\n",
       "      <td>0.0</td>\n",
       "      <td>0.0</td>\n",
       "      <td>0.000000</td>\n",
       "      <td>547031.147113</td>\n",
       "      <td>1.029594e+06</td>\n",
       "      <td>2.654761e+05</td>\n",
       "      <td>49965.350724</td>\n",
       "      <td>9336.427131</td>\n",
       "      <td>0.000000</td>\n",
       "      <td>0.000000</td>\n",
       "      <td>0.0</td>\n",
       "      <td>0.0</td>\n",
       "      <td>0.0</td>\n",
       "      <td>0.0</td>\n",
       "    </tr>\n",
       "    <tr>\n",
       "      <th>2</th>\n",
       "      <td>2025 Q3</td>\n",
       "      <td>65661321.72848</td>\n",
       "      <td>0.0</td>\n",
       "      <td>0.0</td>\n",
       "      <td>0.0</td>\n",
       "      <td>0.0</td>\n",
       "      <td>0.000000</td>\n",
       "      <td>0.000000</td>\n",
       "      <td>5.535354e+05</td>\n",
       "      <td>1.051372e+06</td>\n",
       "      <td>271086.258493</td>\n",
       "      <td>50608.015254</td>\n",
       "      <td>9575.189330</td>\n",
       "      <td>0.000000</td>\n",
       "      <td>0.0</td>\n",
       "      <td>0.0</td>\n",
       "      <td>0.0</td>\n",
       "      <td>0.0</td>\n",
       "    </tr>\n",
       "    <tr>\n",
       "      <th>3</th>\n",
       "      <td>2025 Q4</td>\n",
       "      <td>45984315.2809</td>\n",
       "      <td>0.0</td>\n",
       "      <td>0.0</td>\n",
       "      <td>0.0</td>\n",
       "      <td>0.0</td>\n",
       "      <td>0.000000</td>\n",
       "      <td>0.000000</td>\n",
       "      <td>0.000000e+00</td>\n",
       "      <td>4.973081e+05</td>\n",
       "      <td>931295.525272</td>\n",
       "      <td>236356.087441</td>\n",
       "      <td>41742.071785</td>\n",
       "      <td>7289.244017</td>\n",
       "      <td>0.0</td>\n",
       "      <td>0.0</td>\n",
       "      <td>0.0</td>\n",
       "      <td>0.0</td>\n",
       "    </tr>\n",
       "  </tbody>\n",
       "</table>\n",
       "</div>"
      ],
      "text/plain": [
       "  Spending Quarter           Spend  2024 Q1  2024 Q2  2024 Q3  2024 Q4  \\\n",
       "0          2025 Q1  47548717.12189      0.0      0.0      0.0      0.0   \n",
       "1          2025 Q2  61557399.86867      0.0      0.0      0.0      0.0   \n",
       "2          2025 Q3  65661321.72848      0.0      0.0      0.0      0.0   \n",
       "3          2025 Q4   45984315.2809      0.0      0.0      0.0      0.0   \n",
       "\n",
       "         2025 Q1        2025 Q2       2025 Q3       2025 Q4        2026 Q1  \\\n",
       "0  491939.942469  954366.301333  2.587955e+05  4.778327e+04    8867.474201   \n",
       "1       0.000000  547031.147113  1.029594e+06  2.654761e+05   49965.350724   \n",
       "2       0.000000       0.000000  5.535354e+05  1.051372e+06  271086.258493   \n",
       "3       0.000000       0.000000  0.000000e+00  4.973081e+05  931295.525272   \n",
       "\n",
       "         2026 Q2       2026 Q3      2026 Q4  2027 Q1  2027 Q2  2027 Q3  \\\n",
       "0       0.000000      0.000000     0.000000      0.0      0.0      0.0   \n",
       "1    9336.427131      0.000000     0.000000      0.0      0.0      0.0   \n",
       "2   50608.015254   9575.189330     0.000000      0.0      0.0      0.0   \n",
       "3  236356.087441  41742.071785  7289.244017      0.0      0.0      0.0   \n",
       "\n",
       "   2027 Q4  \n",
       "0      0.0  \n",
       "1      0.0  \n",
       "2      0.0  \n",
       "3      0.0  "
      ]
     },
     "execution_count": 15,
     "metadata": {},
     "output_type": "execute_result"
    }
   ],
   "source": [
    "plan_forecast_craft(scenario1, 2025, 1, 2, 0.46)[1]"
   ]
  },
  {
   "cell_type": "code",
   "execution_count": 16,
   "metadata": {},
   "outputs": [],
   "source": [
    "def build_plan_summary(spend_data, planning_year, threshold, unit_revenue):\n",
    "    \"\"\"\n",
    "    Build a summary report of the spending plan with total spend, total reward,\n",
    "    cost per reward, and marginal cost per reward for each media and aggregated.\n",
    "\n",
    "    Args:\n",
    "        spend_data (pd.DataFrame): DataFrame containing spending data with columns:\n",
    "            - 'FIS_MO_NB': Fiscal month number.\n",
    "            - Media spending columns (e.g., 'YOT', 'FAB').\n",
    "        planning_year (int): The fiscal year of the current spending plan.\n",
    "\n",
    "    Returns:\n",
    "        pd.DataFrame: A DataFrame 'plan_summary' with columns:\n",
    "            - 'Total Spend'\n",
    "            - 'Total Reward'\n",
    "            - 'Cost per Reward'\n",
    "            - 'Marginal Cost per Reward'\n",
    "        and rows:\n",
    "            - 'Total' (aggregated over all medias)\n",
    "            - One row per media (e.g., 'YOT', 'FAB')\n",
    "    \"\"\"\n",
    "    # Ensure nonlocal access to necessary dataframes\n",
    "    # nonlocal df_curve, df_params, df_time\n",
    "\n",
    "    # Initialize dictionaries to store summary data\n",
    "    total_spend_dict = {}\n",
    "    total_reward_dict = {}\n",
    "    minc_X_dict = {}\n",
    "    mc_X_dict = {}\n",
    "\n",
    "    # List of media columns (exclude 'FIS_MO_NB')\n",
    "    medias = spend_data.columns.tolist()[1:]\n",
    "\n",
    "    # Loop over each media to compute summary metrics\n",
    "    for media in medias:\n",
    "        # Extract spending data for the media\n",
    "        media_spend_data = spend_data[['FIS_MO_NB', media]]\n",
    "\n",
    "\n",
    "        # Total spend for media: sum of monthly spend\n",
    "        total_spend = media_spend_data[media].sum()\n",
    "        total_spend_dict[media] = total_spend\n",
    "\n",
    "\n",
    "        # Call compute_reward_X for the current media\n",
    "        reward_df, minc_X, mc_X = compute_reward_X(media, media_spend_data, planning_year, threshold)\n",
    "        \n",
    "\n",
    "        # Total reward for media: sum of the 'aggregated' column\n",
    "        total_reward = reward_df['aggregated'].sum()\n",
    "        total_reward_dict[media] = total_reward\n",
    "\n",
    "        # Store minc_X and mc_X\n",
    "        minc_X_dict[media] = minc_X\n",
    "        mc_X_dict[media] = mc_X\n",
    "\n",
    "\n",
    "    # Calculate aggregated totals\n",
    "    total_spend_agg = sum(total_spend_dict.values())\n",
    "    total_reward_agg = sum(total_reward_dict.values())\n",
    "    minc_X_agg = sum(minc_X_dict.values())\n",
    "    mc_X_agg = sum(mc_X_dict.values())\n",
    "\n",
    "\n",
    "    # Build the summary DataFrame\n",
    "    plan_summary = pd.DataFrame(columns=['Total Spend', 'Total Attendance', 'Cost per Attendance', 'Marginal Cost per Attendance'])\n",
    "\n",
    "    # Add aggregated totals to the summary\n",
    "    plan_summary.loc['Total'] = {\n",
    "        'Total Spend': total_spend_agg,\n",
    "        'Total Attendance': total_reward_agg,\n",
    "        'Cost per Attendance': total_spend_agg / total_reward_agg if total_reward_agg != 0 else np.nan,\n",
    "        'Marginal Cost per Attendance': mc_X_agg / minc_X_agg if minc_X_agg != 0 else np.nan\n",
    "    }\n",
    "\n",
    "    # Add individual media data to the summary\n",
    "    for media in medias:\n",
    "        total_spend = total_spend_dict[media]\n",
    "        total_reward = total_reward_dict[media]\n",
    "        minc_X = minc_X_dict[media]\n",
    "        mc_X = mc_X_dict[media]\n",
    "\n",
    "        plan_summary.loc[media] = {\n",
    "            'Total Spend': total_spend,\n",
    "            'Total Attendance': total_reward,\n",
    "            'Cost per Attendance': total_spend / total_reward if total_reward != 0 else np.nan,\n",
    "            'Marginal Cost per Attendance': mc_X / minc_X if minc_X != 0 else np.nan\n",
    "        }\n",
    "\n",
    "    # Reorder rows: aggregated totals first, then individual medias\n",
    "    plan_summary = plan_summary.reset_index().rename(columns={'index': 'Media'})\n",
    "    plan_summary = plan_summary[['Media', 'Total Spend', 'Total Attendance', 'Cost per Attendance', 'Marginal Cost per Attendance']]\n",
    "\n",
    "    # Add ROAS and MROAS\n",
    "    plan_summary['ROAS'] = unit_revenue * plan_summary['Total Attendance'] / plan_summary['Total Spend']\n",
    "    plan_summary['MROAS'] = 1 + ((unit_revenue - plan_summary['Marginal Cost per Attendance']) / plan_summary['Marginal Cost per Attendance'])\n",
    "\n",
    "\n",
    "    # Round up columns\n",
    "    plan_summary['Total Spend'] = plan_summary['Total Spend'].astype(int)\n",
    "    plan_summary['Total Attendance'] = plan_summary['Total Attendance'].astype(int)\n",
    "    plan_summary['Cost per Attendance'] = plan_summary['Cost per Attendance'].round(1)\n",
    "    plan_summary['Marginal Cost per Attendance'] = plan_summary['Marginal Cost per Attendance'].round(1)\n",
    "    plan_summary['ROAS'] = plan_summary['ROAS'].round(1)\n",
    "    plan_summary['MROAS'] = plan_summary['MROAS'].round(1)\n",
    "\n",
    "\n",
    "    return plan_summary"
   ]
  },
  {
   "cell_type": "code",
   "execution_count": 17,
   "metadata": {},
   "outputs": [
    {
     "data": {
      "text/html": [
       "<div>\n",
       "<style scoped>\n",
       "    .dataframe tbody tr th:only-of-type {\n",
       "        vertical-align: middle;\n",
       "    }\n",
       "\n",
       "    .dataframe tbody tr th {\n",
       "        vertical-align: top;\n",
       "    }\n",
       "\n",
       "    .dataframe thead th {\n",
       "        text-align: right;\n",
       "    }\n",
       "</style>\n",
       "<table border=\"1\" class=\"dataframe\">\n",
       "  <thead>\n",
       "    <tr style=\"text-align: right;\">\n",
       "      <th></th>\n",
       "      <th>Media</th>\n",
       "      <th>Total Spend</th>\n",
       "      <th>Total Attendance</th>\n",
       "      <th>Cost per Attendance</th>\n",
       "      <th>Marginal Cost per Attendance</th>\n",
       "      <th>ROAS</th>\n",
       "      <th>MROAS</th>\n",
       "    </tr>\n",
       "  </thead>\n",
       "  <tbody>\n",
       "    <tr>\n",
       "      <th>0</th>\n",
       "      <td>Total</td>\n",
       "      <td>220751753</td>\n",
       "      <td>7313323</td>\n",
       "      <td>30.2</td>\n",
       "      <td>23745.4</td>\n",
       "      <td>5.5</td>\n",
       "      <td>0.0</td>\n",
       "    </tr>\n",
       "    <tr>\n",
       "      <th>1</th>\n",
       "      <td>NTV</td>\n",
       "      <td>34285760</td>\n",
       "      <td>813710</td>\n",
       "      <td>42.1</td>\n",
       "      <td>27474.2</td>\n",
       "      <td>3.9</td>\n",
       "      <td>0.0</td>\n",
       "    </tr>\n",
       "    <tr>\n",
       "      <th>2</th>\n",
       "      <td>TTV</td>\n",
       "      <td>8371501</td>\n",
       "      <td>227353</td>\n",
       "      <td>36.8</td>\n",
       "      <td>25565.3</td>\n",
       "      <td>4.5</td>\n",
       "      <td>0.0</td>\n",
       "    </tr>\n",
       "    <tr>\n",
       "      <th>3</th>\n",
       "      <td>CTVP</td>\n",
       "      <td>1888728</td>\n",
       "      <td>50169</td>\n",
       "      <td>37.6</td>\n",
       "      <td>18485.5</td>\n",
       "      <td>4.4</td>\n",
       "      <td>0.0</td>\n",
       "    </tr>\n",
       "    <tr>\n",
       "      <th>4</th>\n",
       "      <td>CTVNP</td>\n",
       "      <td>5288366</td>\n",
       "      <td>155580</td>\n",
       "      <td>34.0</td>\n",
       "      <td>24309.4</td>\n",
       "      <td>4.9</td>\n",
       "      <td>0.0</td>\n",
       "    </tr>\n",
       "    <tr>\n",
       "      <th>5</th>\n",
       "      <td>DD</td>\n",
       "      <td>14006112</td>\n",
       "      <td>369625</td>\n",
       "      <td>37.9</td>\n",
       "      <td>24217.7</td>\n",
       "      <td>4.4</td>\n",
       "      <td>0.0</td>\n",
       "    </tr>\n",
       "    <tr>\n",
       "      <th>6</th>\n",
       "      <td>STRP</td>\n",
       "      <td>12150034</td>\n",
       "      <td>418161</td>\n",
       "      <td>29.1</td>\n",
       "      <td>20481.3</td>\n",
       "      <td>5.7</td>\n",
       "      <td>0.0</td>\n",
       "    </tr>\n",
       "    <tr>\n",
       "      <th>7</th>\n",
       "      <td>STRNP</td>\n",
       "      <td>30495772</td>\n",
       "      <td>960916</td>\n",
       "      <td>31.7</td>\n",
       "      <td>25815.1</td>\n",
       "      <td>5.2</td>\n",
       "      <td>0.0</td>\n",
       "    </tr>\n",
       "    <tr>\n",
       "      <th>8</th>\n",
       "      <td>YOT</td>\n",
       "      <td>10992749</td>\n",
       "      <td>474626</td>\n",
       "      <td>23.2</td>\n",
       "      <td>18956.2</td>\n",
       "      <td>7.1</td>\n",
       "      <td>0.0</td>\n",
       "    </tr>\n",
       "    <tr>\n",
       "      <th>9</th>\n",
       "      <td>CIN</td>\n",
       "      <td>6576649</td>\n",
       "      <td>188332</td>\n",
       "      <td>34.9</td>\n",
       "      <td>25894.9</td>\n",
       "      <td>4.7</td>\n",
       "      <td>0.0</td>\n",
       "    </tr>\n",
       "    <tr>\n",
       "      <th>10</th>\n",
       "      <td>DISP</td>\n",
       "      <td>28008637</td>\n",
       "      <td>1183352</td>\n",
       "      <td>23.7</td>\n",
       "      <td>22380.1</td>\n",
       "      <td>7.0</td>\n",
       "      <td>0.0</td>\n",
       "    </tr>\n",
       "    <tr>\n",
       "      <th>11</th>\n",
       "      <td>DISNP</td>\n",
       "      <td>2097545</td>\n",
       "      <td>101147</td>\n",
       "      <td>20.7</td>\n",
       "      <td>15497.9</td>\n",
       "      <td>8.0</td>\n",
       "      <td>0.0</td>\n",
       "    </tr>\n",
       "    <tr>\n",
       "      <th>12</th>\n",
       "      <td>SEM</td>\n",
       "      <td>29598168</td>\n",
       "      <td>1199813</td>\n",
       "      <td>24.7</td>\n",
       "      <td>24674.9</td>\n",
       "      <td>6.7</td>\n",
       "      <td>0.0</td>\n",
       "    </tr>\n",
       "    <tr>\n",
       "      <th>13</th>\n",
       "      <td>PAID_SOCIAL</td>\n",
       "      <td>27598857</td>\n",
       "      <td>899872</td>\n",
       "      <td>30.7</td>\n",
       "      <td>23752.0</td>\n",
       "      <td>5.4</td>\n",
       "      <td>0.0</td>\n",
       "    </tr>\n",
       "    <tr>\n",
       "      <th>14</th>\n",
       "      <td>DCI</td>\n",
       "      <td>3699742</td>\n",
       "      <td>75846</td>\n",
       "      <td>48.8</td>\n",
       "      <td>26248.2</td>\n",
       "      <td>3.4</td>\n",
       "      <td>0.0</td>\n",
       "    </tr>\n",
       "    <tr>\n",
       "      <th>15</th>\n",
       "      <td>DRD</td>\n",
       "      <td>5693129</td>\n",
       "      <td>194814</td>\n",
       "      <td>29.2</td>\n",
       "      <td>18235.1</td>\n",
       "      <td>5.6</td>\n",
       "      <td>0.0</td>\n",
       "    </tr>\n",
       "  </tbody>\n",
       "</table>\n",
       "</div>"
      ],
      "text/plain": [
       "          Media  Total Spend  Total Attendance  Cost per Attendance  \\\n",
       "0         Total    220751753           7313323                 30.2   \n",
       "1           NTV     34285760            813710                 42.1   \n",
       "2           TTV      8371501            227353                 36.8   \n",
       "3          CTVP      1888728             50169                 37.6   \n",
       "4         CTVNP      5288366            155580                 34.0   \n",
       "5            DD     14006112            369625                 37.9   \n",
       "6          STRP     12150034            418161                 29.1   \n",
       "7         STRNP     30495772            960916                 31.7   \n",
       "8           YOT     10992749            474626                 23.2   \n",
       "9           CIN      6576649            188332                 34.9   \n",
       "10         DISP     28008637           1183352                 23.7   \n",
       "11        DISNP      2097545            101147                 20.7   \n",
       "12          SEM     29598168           1199813                 24.7   \n",
       "13  PAID_SOCIAL     27598857            899872                 30.7   \n",
       "14          DCI      3699742             75846                 48.8   \n",
       "15          DRD      5693129            194814                 29.2   \n",
       "\n",
       "    Marginal Cost per Attendance  ROAS  MROAS  \n",
       "0                        23745.4   5.5    0.0  \n",
       "1                        27474.2   3.9    0.0  \n",
       "2                        25565.3   4.5    0.0  \n",
       "3                        18485.5   4.4    0.0  \n",
       "4                        24309.4   4.9    0.0  \n",
       "5                        24217.7   4.4    0.0  \n",
       "6                        20481.3   5.7    0.0  \n",
       "7                        25815.1   5.2    0.0  \n",
       "8                        18956.2   7.1    0.0  \n",
       "9                        25894.9   4.7    0.0  \n",
       "10                       22380.1   7.0    0.0  \n",
       "11                       15497.9   8.0    0.0  \n",
       "12                       24674.9   6.7    0.0  \n",
       "13                       23752.0   5.4    0.0  \n",
       "14                       26248.2   3.4    0.0  \n",
       "15                       18235.1   5.6    0.0  "
      ]
     },
     "execution_count": 17,
     "metadata": {},
     "output_type": "execute_result"
    }
   ],
   "source": [
    "build_plan_summary(scenario1, 2025, 0.46, ticket_price)"
   ]
  },
  {
   "cell_type": "code",
   "execution_count": 18,
   "metadata": {},
   "outputs": [
    {
     "data": {
      "text/plain": [
       "65661321"
      ]
     },
     "execution_count": 18,
     "metadata": {},
     "output_type": "execute_result"
    }
   ],
   "source": [
    "plan0 = scenario1.copy()\n",
    "planning_months = [7, 8, 9]\n",
    "\n",
    "int(plan0[plan0.FIS_MO_NB.isin(planning_months)].iloc[:, 1:].values.sum())\n"
   ]
  },
  {
   "cell_type": "code",
   "execution_count": 19,
   "metadata": {},
   "outputs": [],
   "source": [
    "def optimization_summary(plan0, plan1, planning_year, planning_months, rewards, cutoff, unit_revenue):\n",
    "\n",
    "    # Table 1 - Aggregate Summary\n",
    "    # ****************************************************************************************************************\n",
    "    contents = ['Total Spend', 'Total Reward', 'Total Reward in Planning Period', 'Cost per Reward', 'Marginal Cost per Reward', 'ROAS', \"MROAS\"]\n",
    "    summary0 = build_plan_summary(plan0, planning_year, cutoff, unit_revenue)\n",
    "    summary1 = build_plan_summary(plan1, planning_year, cutoff, unit_revenue)\n",
    "    spend0 = int(plan0[plan0.FIS_MO_NB.isin(planning_months)].iloc[:, 1:].values.sum())\n",
    "    spend1 = int(plan1[plan1.FIS_MO_NB.isin(planning_months)].iloc[:, 1:].values.sum())\n",
    "\n",
    "    total_original = summary0.iloc[0, 1:].values.tolist()\n",
    "    planning_original = rewards[0]\n",
    "    collect_original = total_original[:2] + [planning_original] + total_original[2:]\n",
    "\n",
    "    total_optimized = summary1.iloc[0, 1:].values.tolist()\n",
    "    planning_optimized = rewards[1]\n",
    "    collect_optimized = total_optimized[:2] + [planning_optimized] + total_optimized[2:]\n",
    "\n",
    "    table1 = pd.DataFrame({\n",
    "        'Contents': contents,\n",
    "        'Original': collect_original,\n",
    "        'Optimized': collect_optimized\n",
    "    })\n",
    "\n",
    "    array_original = table1.Original.values\n",
    "    array_optimized = table1.Optimized.values\n",
    "\n",
    "    \n",
    "    array_original[0] = spend0\n",
    "    array_original[3] = np.round(array_original[0] / array_original[2], 1) \n",
    "    array_original[5] = np.round(unit_revenue * array_original[2] / array_original[0], 1)\n",
    "    table1['Original'] = array_original\n",
    "\n",
    "    array_optimized[0] = spend1\n",
    "    array_optimized[3] = np.round(array_optimized[0] / array_optimized[2], 1)\n",
    "    array_optimized[5] = np.round(unit_revenue * array_optimized[2] / array_optimized[0], 1)\n",
    "    table1['Optimized'] = array_optimized\n",
    "\n",
    "\n",
    "    # table1.loc[table1.Contents == 'Cost per Reward', 'Original'] = np.round(table1.loc[table1.Contents == 'Total Spend', 'Original'] / table1.loc[table1.Contents == 'Total Reward in Planning Period', 'Original'], 1)\n",
    "    # table1.loc[table1.Contents == 'Cost per Reward', 'Optimized'] = np.round(table1.loc[table1.Contents == 'Total Spend', 'Optimized'] / table1.loc[table1.Contents == 'Total Reward in Planning Period', 'Optimized'], 1)\n",
    "\n",
    "    # table1.loc[table1.Contents == 'ROAS', 'Original'] =  np.round((unit_revenue * table1.loc[table1.Contents == 'Total Reward in Planning Period', 'Original'].values[0]) / table1.loc[table1.Contents == 'Total Spend', 'Original'], 1)\n",
    "    # table1.loc[table1.Contents == 'ROAS', 'Optimized'] =  np.round((unit_revenue * table1.loc[table1.Contents == 'Total Reward in Planning Period', 'Optimized'].values[0]) / table1.loc[table1.Contents == 'Total Spend', 'Optimized'], 1)\n",
    "\n",
    "\n",
    "    table1['Change'] = table1['Optimized'] - table1['Original']\n",
    "    table1['Change (%)'] = np.round((table1.Optimized / table1.Original - 1) * 100, 1)\n",
    "\n",
    "\n",
    "    # Table 2 - Media Level Summary\n",
    "    # ****************************************************************************************************************\n",
    "    values = []\n",
    "    for x in media_list:\n",
    "        collect0 = np.round(summary0[summary0.Media == x].iloc[:, 1:].values, 1)[0]\n",
    "        spend0 = collect0[0]\n",
    "        reward0_total = collect0[1]\n",
    "        reward0_plan = np.round(compute_reward_X(x, plan0, planning_year, cutoff)[0]['aggregated'].values[:52].sum(),1) \n",
    "        cpa0 = collect0[2]\n",
    "        mcpa0 = collect0[3]\n",
    "        values.append([x, 'original', spend0, reward0_total, reward0_plan, cpa0, mcpa0])\n",
    "\n",
    "        collect1 = np.round(summary1[summary1.Media == x].iloc[:, 1:].values, 1)[0]\n",
    "        spend1 = collect1[0]\n",
    "        reward1_total = collect1[1]\n",
    "        reward1_plan = np.round(compute_reward_X(x, plan1, planning_year, cutoff)[0]['aggregated'].values[:52].sum(),1)\n",
    "        cpa1 = collect1[2]\n",
    "        mcpa1 = collect1[3]\n",
    "        values.append([x, 'optimized', spend1, reward1_total, reward1_plan, cpa1, mcpa1])\n",
    "\n",
    "    table2 = pd.DataFrame(values, columns=['Media', 'Version', 'Total Spend', 'Total Reward', 'Total Reward in Planning Period', 'Cost per Reward', 'Marginal Cost per Reward'])\n",
    "    table2.iloc[:, 2:] = np.round(table2.iloc[:, 2:], 1)\n",
    "    \n",
    "    craft = pd.DataFrame(table2['Media'])\n",
    "    for x in table2.columns[2:]:\n",
    "        df = table2[['Media', 'Version', x]]\n",
    "        hierarchical_df = df.set_index(['Media', 'Version']).unstack(level=1)\n",
    "        hierarchical_df.columns = [f'{col[0]} ({col[1]})' for col in hierarchical_df.columns]\n",
    "        hierarchical_df = hierarchical_df.reset_index()\n",
    "        hierarchical_df[x + ' Change(%)'] = 100 * (hierarchical_df[x + ' (optimized)'] / hierarchical_df[x + ' (original)'] - 1)\n",
    "        hierarchical_df[x + ' Change(%)'] = np.round(hierarchical_df[x + ' Change(%)'], 1)\n",
    "        craft = craft.merge(hierarchical_df, how = 'left', on = \"Media\").drop_duplicates()\n",
    "    table2 = craft\n",
    "\n",
    "    return [plan1, table1, table2]"
   ]
  },
  {
   "cell_type": "markdown",
   "metadata": {},
   "source": [
    "# Minimizer"
   ]
  },
  {
   "cell_type": "code",
   "execution_count": null,
   "metadata": {},
   "outputs": [],
   "source": [
    "# Inputs\n",
    "\n",
    "spend_plan = scenario1\n",
    "planning_months = [7, 8, 9]\n",
    "planning_year = 2025 \n",
    "target_year = 2026\n",
    "target_months = [1, 2, 3]\n",
    "reward_goal = "
   ]
  },
  {
   "cell_type": "markdown",
   "metadata": {},
   "source": [
    "# Scenrio Plots"
   ]
  },
  {
   "cell_type": "code",
   "execution_count": 53,
   "metadata": {},
   "outputs": [],
   "source": [
    "import plotly.graph_objects as go\n",
    "from plotly.subplots import make_subplots"
   ]
  },
  {
   "cell_type": "code",
   "execution_count": 54,
   "metadata": {},
   "outputs": [
    {
     "data": {
      "text/plain": [
       "[2, 2, 3]"
      ]
     },
     "execution_count": 54,
     "metadata": {},
     "output_type": "execute_result"
    }
   ],
   "source": [
    "l1 = [1, 2, 3]\n",
    "l2 = [2, 1, 2]\n",
    "[max(l1[i], l2[i]) for i in np.arange(len(l1))]"
   ]
  },
  {
   "cell_type": "code",
   "execution_count": 55,
   "metadata": {},
   "outputs": [
    {
     "data": {
      "text/plain": [
       "array([0, 1, 2])"
      ]
     },
     "execution_count": 55,
     "metadata": {},
     "output_type": "execute_result"
    }
   ],
   "source": [
    "np.arange(3)"
   ]
  },
  {
   "cell_type": "markdown",
   "metadata": {},
   "source": [
    "You can find the intersection of two sets using the `intersection()` method or the `&` operator in Python. Here is an example:\n",
    "\n",
    "```python\n",
    "# Define two sets\n",
    "set1 = {1, 2, 3, 4, 5}\n",
    "set2 = {4, 5, 6, 7, 8}\n",
    "\n",
    "# Find the intersection using the intersection() method\n",
    "intersection_set = set1.intersection(set2)\n",
    "print(intersection_set)\n",
    "\n",
    "# Find the intersection using the & operator\n",
    "intersection_set = set1 & set2\n",
    "print(intersection_set)\n",
    "```\n",
    "\n",
    "Both methods will give you the intersection of the two sets."
   ]
  },
  {
   "cell_type": "code",
   "execution_count": 71,
   "metadata": {},
   "outputs": [],
   "source": [
    "def scenario_plots(scenarios, metrics, channels, colors, title, ylabel1, ylabel2, currency_symbol):\n",
    "    # **********************************************************************************\n",
    "    # Read numbers\n",
    "    # **********************************************************************************\n",
    "    board1 = scenarios[0]\n",
    "    board2 = scenarios[1]\n",
    "\n",
    "    metric1 = metrics[0]\n",
    "    metric2 = metrics[1]\n",
    "\n",
    "    # Drop medias with no spending\n",
    "    # ******************************************************************************\n",
    "    drops = []\n",
    "    set1 = set(board1.loc[board1[metric1] == 0, 'Media'].values) \n",
    "    set2 = set(board2.loc[board2[metric1] == 0, 'Media'].values)\n",
    "    drops.append(list(set1.intersection(set2)))\n",
    "    board1 = board1[~board1['Media'].isin(drops[0])]\n",
    "    board2 = board2[~board2['Media'].isin(drops[0])] \n",
    "    channels = [x for x in channels if x not in drops[0]]\n",
    "\n",
    "\n",
    "    # Set up metrics\n",
    "    # ********************************************************************************** \n",
    "    metric1_s1 = board1[metric1].values\n",
    "    metric1_s2 = board2[metric1].values\n",
    "    max_metric1 =  max(max(metric1_s1), max(metric1_s2))\n",
    "\n",
    "    metric2_s1 = board1[metric2].values\n",
    "    metric2_s2 = board2[metric2].values\n",
    "    max_metric2 = max(max(metric2_s1), max(metric2_s2))\n",
    "\n",
    "    metric1_compare = [(s2 - s1) / s1 * 100 for s1, s2 in zip(metric1_s1, metric1_s2)]\n",
    "    metric2_compare = [(s2 - s1) / s1 * 100 for s1, s2 in zip(metric2_s1, metric2_s2)]\n",
    "\n",
    "    color1_s1 = colors[0]\n",
    "    color1_s2 = colors[1]\n",
    "    color2_s1 = colors[2]\n",
    "    color2_s2 = colors[3]\n",
    "\n",
    "    default_textpos = 0.5 * max_metric1\n",
    "\n",
    "    # Create figure with secondary y-axis\n",
    "    fig = make_subplots(specs=[[{\"secondary_y\": True}]])\n",
    "\n",
    "    # **********************************************************************************\n",
    "    # The bar plots\n",
    "    # **********************************************************************************\n",
    "    # Scenario 1\n",
    "    # ....................................................\n",
    "    fig.add_trace(\n",
    "        go.Bar(\n",
    "            x= channels,\n",
    "            y= metric1_s1,\n",
    "            name= \"1\",\n",
    "            marker_color= color1_s1\n",
    "        ),\n",
    "        secondary_y=False,\n",
    "    )\n",
    "\n",
    "    # Scenario 2\n",
    "    # ....................................................\n",
    "    fig.add_trace(\n",
    "        go.Bar(\n",
    "            x= channels,\n",
    "            y= metric1_s2,\n",
    "            name= \"2\",\n",
    "            marker_color= color1_s2\n",
    "        ),\n",
    "        secondary_y=False,\n",
    "    )\n",
    "\n",
    "\n",
    "\n",
    "\n",
    "    # **********************************************************************************\n",
    "    # Line plots\n",
    "    # **********************************************************************************\n",
    "    # Scenario 1\n",
    "    # ....................................................\n",
    "    fig.add_trace(\n",
    "        go.Scatter(\n",
    "            x=channels,\n",
    "            y= metric2_s1,\n",
    "            name=\"MROAS 1\",\n",
    "            line=dict(\n",
    "                color= color2_s1, \n",
    "                width=3, dash='dash',\n",
    "                shape='spline',  # This creates a smooth curve\n",
    "                smoothing=1.3    # Adjust smoothing intensity (0.5-1.5 range works well)\n",
    "                ),\n",
    "            marker=dict(\n",
    "                size=10,         # Larger marker size\n",
    "                color=color2_s1,\n",
    "                line=dict(\n",
    "                    width=1,\n",
    "                    color='white'\n",
    "                )\n",
    "            )\n",
    "\n",
    "        ),\n",
    "        secondary_y=True,\n",
    "    )\n",
    "\n",
    "    # Scenario 2\n",
    "    # ....................................................\n",
    "    fig.add_trace(\n",
    "        go.Scatter(\n",
    "            x=channels,\n",
    "            y= metric2_s2,\n",
    "            name=\"MROAS 2\",\n",
    "            line=dict(color= color2_s2, \n",
    "                      width=3, dash='dash',\n",
    "                      shape='spline',  # This creates a smooth curve\n",
    "                      smoothing=1.3    # Adjust smoothing intensity (0.5-1.5 range works well)\n",
    "                ),\n",
    "            marker=dict(\n",
    "                size=10,         # Larger marker size\n",
    "                color=color2_s2,\n",
    "                line=dict(\n",
    "                    width=1,\n",
    "                    color='white'\n",
    "                )\n",
    "            )\n",
    "        ),\n",
    "        secondary_y=True,\n",
    "    )\n",
    "\n",
    "\n",
    "\n",
    "\n",
    "    # **********************************************************************************\n",
    "    # Costmetics\n",
    "    # **********************************************************************************\n",
    "\n",
    "    # Annotations for metric 1 change\n",
    "    for i, channel in enumerate(channels):\n",
    "        change = metric1_compare[i]\n",
    "        \n",
    "        # Determine color based on change\n",
    "        color = \"green\" if change >= 0 else \"red\"\n",
    "        \n",
    "        # Format text with plus/minus sign and percentage\n",
    "        if change >= 0:\n",
    "            text = f\"+{change:.1f}%\"  # Add plus sign for positive changes\n",
    "        else:\n",
    "            text = f\"{change:.1f}%\"   # Negative sign is automatically included\n",
    "        \n",
    "        # Improved positioning logic\n",
    "        current_value = max(metric1_s1[i], metric1_s2[i])\n",
    "        \n",
    "        # If the value is very small (less than 5% of the maximum), use a fixed position\n",
    "        if current_value < 0.03 * max_metric1:\n",
    "            ypos = 0.12 * max_metric1  # Position at 15% of max height for very small values\n",
    "        # If it's the maximum value, add a bit more space\n",
    "        elif current_value >= 0.95 * max_metric1:\n",
    "            ypos = 1.05 * max_metric1  # Position at 110% of max for the largest values\n",
    "        # For medium values, position proportionally\n",
    "        else:\n",
    "            ypos = current_value + (0.125 * max_metric1)  # Position above the bar with consistent spacing\n",
    "        \n",
    "        # Add the annotation without arrows\n",
    "        fig.add_annotation(\n",
    "            x=channel,\n",
    "            y=ypos, \n",
    "            text=text,\n",
    "            showarrow=False,  # No arrow\n",
    "            font=dict(\n",
    "                color=color, \n",
    "                size=14,      # Slightly larger font for better visibility\n",
    "                weight='bold' # Make it bold for emphasis\n",
    "            ),\n",
    "            align='center',\n",
    "            bgcolor='rgba(255,255,255,0.7)',  # Semi-transparent white background\n",
    "            bordercolor=color,\n",
    "            borderwidth=1,\n",
    "            borderpad=3\n",
    "        )\n",
    "\n",
    "\n",
    "\n",
    "\n",
    "    fig.update_layout(\n",
    "        # Wider plot for spacing\n",
    "        width=1300,\n",
    "        height=700,\n",
    "        # Extra large left margin\n",
    "        margin=dict(t=80, r=50, b=100, l=150),\n",
    "        # Title styling\n",
    "        title=dict(\n",
    "            text= title,\n",
    "            font=dict(\n",
    "                size=28,\n",
    "                color= color1_s2,\n",
    "                weight='bold'\n",
    "            ),\n",
    "            x=0.5\n",
    "        ),\n",
    "        # Other layout\n",
    "        barmode='group',\n",
    "        legend=dict(\n",
    "            orientation=\"h\",\n",
    "            yanchor=\"bottom\", \n",
    "            y=-0.15,\n",
    "            xanchor=\"center\",\n",
    "            x=0.5\n",
    "        ),\n",
    "        paper_bgcolor='white',\n",
    "        plot_bgcolor='white'\n",
    "    )\n",
    "\n",
    "    # Set x-axis properties\n",
    "    fig.update_xaxes(\n",
    "        title_text=\"\",\n",
    "        showgrid=False,\n",
    "        showline=True,\n",
    "        linewidth=2,\n",
    "        linecolor='lightgray'\n",
    "    )\n",
    "\n",
    "    # Set y-axes properties\n",
    "    fig.update_yaxes(\n",
    "        title_text= ylabel1,\n",
    "        title_font=dict(size=16),\n",
    "        range=[0, 1.2 * max(max(metric1_s2), max(metric1_s1))],\n",
    "        showgrid=True,\n",
    "        gridcolor='lightgray',\n",
    "        secondary_y=False,\n",
    "        tickformat=','\n",
    "    )\n",
    "\n",
    "    fig.update_yaxes(\n",
    "        title_text= ylabel2,\n",
    "        title_font=dict(size=16),\n",
    "        range=[0, 1.2 * max(max(metric2_s2), max(metric2_s1))],\n",
    "        showgrid=False,\n",
    "        secondary_y=True,\n",
    "        tickprefix= currency_symbol,\n",
    "        ticksuffix='.0'\n",
    "    )\n",
    "\n",
    "    # Show the figure\n",
    "    fig.show()"
   ]
  },
  {
   "cell_type": "code",
   "execution_count": 73,
   "metadata": {},
   "outputs": [
    {
     "data": {
      "text/html": [
       "<div>\n",
       "<style scoped>\n",
       "    .dataframe tbody tr th:only-of-type {\n",
       "        vertical-align: middle;\n",
       "    }\n",
       "\n",
       "    .dataframe tbody tr th {\n",
       "        vertical-align: top;\n",
       "    }\n",
       "\n",
       "    .dataframe thead th {\n",
       "        text-align: right;\n",
       "    }\n",
       "</style>\n",
       "<table border=\"1\" class=\"dataframe\">\n",
       "  <thead>\n",
       "    <tr style=\"text-align: right;\">\n",
       "      <th></th>\n",
       "      <th>Media</th>\n",
       "      <th>Total Spend</th>\n",
       "      <th>Total Attendance</th>\n",
       "      <th>Cost per Attendance</th>\n",
       "      <th>Marginal Cost per Attendance</th>\n",
       "      <th>ROAS</th>\n",
       "      <th>MROAS</th>\n",
       "    </tr>\n",
       "  </thead>\n",
       "  <tbody>\n",
       "    <tr>\n",
       "      <th>1</th>\n",
       "      <td>NTV</td>\n",
       "      <td>5678942</td>\n",
       "      <td>331380</td>\n",
       "      <td>17.1</td>\n",
       "      <td>62.7</td>\n",
       "      <td>6.1</td>\n",
       "      <td>1.7</td>\n",
       "    </tr>\n",
       "    <tr>\n",
       "      <th>2</th>\n",
       "      <td>STR</td>\n",
       "      <td>2205421</td>\n",
       "      <td>149220</td>\n",
       "      <td>14.8</td>\n",
       "      <td>34.3</td>\n",
       "      <td>7.1</td>\n",
       "      <td>3.1</td>\n",
       "    </tr>\n",
       "    <tr>\n",
       "      <th>3</th>\n",
       "      <td>BAN</td>\n",
       "      <td>410196</td>\n",
       "      <td>52691</td>\n",
       "      <td>7.8</td>\n",
       "      <td>16.3</td>\n",
       "      <td>13.5</td>\n",
       "      <td>6.4</td>\n",
       "    </tr>\n",
       "    <tr>\n",
       "      <th>4</th>\n",
       "      <td>RAD</td>\n",
       "      <td>265052</td>\n",
       "      <td>16515</td>\n",
       "      <td>16.0</td>\n",
       "      <td>29.7</td>\n",
       "      <td>6.5</td>\n",
       "      <td>3.5</td>\n",
       "    </tr>\n",
       "    <tr>\n",
       "      <th>5</th>\n",
       "      <td>AFF</td>\n",
       "      <td>77974</td>\n",
       "      <td>12020</td>\n",
       "      <td>6.5</td>\n",
       "      <td>11.0</td>\n",
       "      <td>16.2</td>\n",
       "      <td>9.6</td>\n",
       "    </tr>\n",
       "    <tr>\n",
       "      <th>6</th>\n",
       "      <td>CEM</td>\n",
       "      <td>0</td>\n",
       "      <td>0</td>\n",
       "      <td>NaN</td>\n",
       "      <td>NaN</td>\n",
       "      <td>NaN</td>\n",
       "      <td>NaN</td>\n",
       "    </tr>\n",
       "    <tr>\n",
       "      <th>7</th>\n",
       "      <td>SEM</td>\n",
       "      <td>1075893</td>\n",
       "      <td>118347</td>\n",
       "      <td>9.1</td>\n",
       "      <td>19.7</td>\n",
       "      <td>11.5</td>\n",
       "      <td>5.3</td>\n",
       "    </tr>\n",
       "    <tr>\n",
       "      <th>8</th>\n",
       "      <td>Total_Social</td>\n",
       "      <td>3902440</td>\n",
       "      <td>346163</td>\n",
       "      <td>11.3</td>\n",
       "      <td>26.9</td>\n",
       "      <td>9.3</td>\n",
       "      <td>3.9</td>\n",
       "    </tr>\n",
       "  </tbody>\n",
       "</table>\n",
       "</div>"
      ],
      "text/plain": [
       "          Media  Total Spend  Total Attendance  Cost per Attendance  \\\n",
       "1           NTV      5678942            331380                 17.1   \n",
       "2           STR      2205421            149220                 14.8   \n",
       "3           BAN       410196             52691                  7.8   \n",
       "4           RAD       265052             16515                 16.0   \n",
       "5           AFF        77974             12020                  6.5   \n",
       "6           CEM            0                 0                  NaN   \n",
       "7           SEM      1075893            118347                  9.1   \n",
       "8  Total_Social      3902440            346163                 11.3   \n",
       "\n",
       "   Marginal Cost per Attendance  ROAS  MROAS  \n",
       "1                          62.7   6.1    1.7  \n",
       "2                          34.3   7.1    3.1  \n",
       "3                          16.3  13.5    6.4  \n",
       "4                          29.7   6.5    3.5  \n",
       "5                          11.0  16.2    9.6  \n",
       "6                           NaN   NaN    NaN  \n",
       "7                          19.7  11.5    5.3  \n",
       "8                          26.9   9.3    3.9  "
      ]
     },
     "execution_count": 73,
     "metadata": {},
     "output_type": "execute_result"
    }
   ],
   "source": [
    "build_plan_summary(scenario2, 2024, 0.9, ticket_price).iloc[1:, :]"
   ]
  },
  {
   "cell_type": "code",
   "execution_count": 72,
   "metadata": {},
   "outputs": [
    {
     "data": {
      "application/vnd.plotly.v1+json": {
       "config": {
        "plotlyServerURL": "https://plot.ly"
       },
       "data": [
        {
         "marker": {
          "color": "rgb(174, 139, 113)"
         },
         "name": "1",
         "type": "bar",
         "x": [
          "NTV",
          "STR",
          "BAN",
          "RAD",
          "AFF",
          "SEM",
          "Total_Social"
         ],
         "xaxis": "x",
         "y": {
          "bdata": "XqdWAO2mIQBUQgYAXAsEAJYwAQC1ahAA6Is7AA==",
          "dtype": "i4"
         },
         "yaxis": "y"
        },
        {
         "marker": {
          "color": "rgb(140, 63, 12)"
         },
         "name": "2",
         "type": "bar",
         "x": [
          "NTV",
          "STR",
          "BAN",
          "RAD",
          "AFF",
          "SEM",
          "Total_Social"
         ],
         "xaxis": "x",
         "y": {
          "bdata": "ssZOAMGXHgCpsAUAPa0DAOYUAQCk7A4AGSI2AA==",
          "dtype": "i4"
         },
         "yaxis": "y"
        },
        {
         "line": {
          "color": "rgb(174, 139, 113)",
          "dash": "dash",
          "shape": "spline",
          "smoothing": 1.3,
          "width": 3
         },
         "marker": {
          "color": "rgb(174, 139, 113)",
          "line": {
           "color": "white",
           "width": 1
          },
          "size": 10
         },
         "name": "MROAS 1",
         "type": "scatter",
         "x": [
          "NTV",
          "STR",
          "BAN",
          "RAD",
          "AFF",
          "SEM",
          "Total_Social"
         ],
         "xaxis": "x",
         "y": {
          "bdata": "MzMzMzMz+z/NzMzMzMwIQJqZmZmZmRlAAAAAAAAADEAzMzMzMzMjQDMzMzMzMxVAMzMzMzMzD0A=",
          "dtype": "f8"
         },
         "yaxis": "y2"
        },
        {
         "line": {
          "color": "rgb(140, 63, 12)",
          "dash": "dash",
          "shape": "spline",
          "smoothing": 1.3,
          "width": 3
         },
         "marker": {
          "color": "rgb(140, 63, 12)",
          "line": {
           "color": "white",
           "width": 1
          },
          "size": 10
         },
         "name": "MROAS 2",
         "type": "scatter",
         "x": [
          "NTV",
          "STR",
          "BAN",
          "RAD",
          "AFF",
          "SEM",
          "Total_Social"
         ],
         "xaxis": "x",
         "y": {
          "bdata": "zczMzMzM/D+amZmZmZkJQDMzMzMzMxtAmpmZmZmZDUDNzMzMzMwjQGZmZmZmZhZAZmZmZmZmEEA=",
          "dtype": "f8"
         },
         "yaxis": "y2"
        }
       ],
       "layout": {
        "annotations": [
         {
          "align": "center",
          "bgcolor": "rgba(255,255,255,0.7)",
          "bordercolor": "red",
          "borderpad": 3,
          "borderwidth": 1,
          "font": {
           "color": "red",
           "size": 14,
           "weight": "bold"
          },
          "showarrow": false,
          "text": "-9.1%",
          "x": "NTV",
          "y": 5962889.100000001
         },
         {
          "align": "center",
          "bgcolor": "rgba(255,255,255,0.7)",
          "bordercolor": "red",
          "borderpad": 3,
          "borderwidth": 1,
          "font": {
           "color": "red",
           "size": 14,
           "weight": "bold"
          },
          "showarrow": false,
          "text": "-9.1%",
          "x": "STR",
          "y": 2915288.75
         },
         {
          "align": "center",
          "bgcolor": "rgba(255,255,255,0.7)",
          "bordercolor": "red",
          "borderpad": 3,
          "borderwidth": 1,
          "font": {
           "color": "red",
           "size": 14,
           "weight": "bold"
          },
          "showarrow": false,
          "text": "-9.1%",
          "x": "BAN",
          "y": 1120063.75
         },
         {
          "align": "center",
          "bgcolor": "rgba(255,255,255,0.7)",
          "bordercolor": "red",
          "borderpad": 3,
          "borderwidth": 1,
          "font": {
           "color": "red",
           "size": 14,
           "weight": "bold"
          },
          "showarrow": false,
          "text": "-9.1%",
          "x": "RAD",
          "y": 974919.75
         },
         {
          "align": "center",
          "bgcolor": "rgba(255,255,255,0.7)",
          "bordercolor": "red",
          "borderpad": 3,
          "borderwidth": 1,
          "font": {
           "color": "red",
           "size": 14,
           "weight": "bold"
          },
          "showarrow": false,
          "text": "-9.1%",
          "x": "AFF",
          "y": 681473.0399999999
         },
         {
          "align": "center",
          "bgcolor": "rgba(255,255,255,0.7)",
          "bordercolor": "red",
          "borderpad": 3,
          "borderwidth": 1,
          "font": {
           "color": "red",
           "size": 14,
           "weight": "bold"
          },
          "showarrow": false,
          "text": "-9.1%",
          "x": "SEM",
          "y": 1785760.75
         },
         {
          "align": "center",
          "bgcolor": "rgba(255,255,255,0.7)",
          "bordercolor": "red",
          "borderpad": 3,
          "borderwidth": 1,
          "font": {
           "color": "red",
           "size": 14,
           "weight": "bold"
          },
          "showarrow": false,
          "text": "-9.1%",
          "x": "Total_Social",
          "y": 4612307.75
         }
        ],
        "barmode": "group",
        "height": 700,
        "legend": {
         "orientation": "h",
         "x": 0.5,
         "xanchor": "center",
         "y": -0.15,
         "yanchor": "bottom"
        },
        "margin": {
         "b": 100,
         "l": 150,
         "r": 50,
         "t": 80
        },
        "paper_bgcolor": "white",
        "plot_bgcolor": "white",
        "template": {
         "data": {
          "candlestick": [
           {
            "decreasing": {
             "line": {
              "color": "#000033"
             }
            },
            "increasing": {
             "line": {
              "color": "#000032"
             }
            },
            "type": "candlestick"
           }
          ],
          "contour": [
           {
            "colorscale": [
             [
              0,
              "#000011"
             ],
             [
              0.1111111111111111,
              "#000012"
             ],
             [
              0.2222222222222222,
              "#000013"
             ],
             [
              0.3333333333333333,
              "#000014"
             ],
             [
              0.4444444444444444,
              "#000015"
             ],
             [
              0.5555555555555556,
              "#000016"
             ],
             [
              0.6666666666666666,
              "#000017"
             ],
             [
              0.7777777777777778,
              "#000018"
             ],
             [
              0.8888888888888888,
              "#000019"
             ],
             [
              1,
              "#000020"
             ]
            ],
            "type": "contour"
           }
          ],
          "contourcarpet": [
           {
            "colorscale": [
             [
              0,
              "#000011"
             ],
             [
              0.1111111111111111,
              "#000012"
             ],
             [
              0.2222222222222222,
              "#000013"
             ],
             [
              0.3333333333333333,
              "#000014"
             ],
             [
              0.4444444444444444,
              "#000015"
             ],
             [
              0.5555555555555556,
              "#000016"
             ],
             [
              0.6666666666666666,
              "#000017"
             ],
             [
              0.7777777777777778,
              "#000018"
             ],
             [
              0.8888888888888888,
              "#000019"
             ],
             [
              1,
              "#000020"
             ]
            ],
            "type": "contourcarpet"
           }
          ],
          "heatmap": [
           {
            "colorscale": [
             [
              0,
              "#000011"
             ],
             [
              0.1111111111111111,
              "#000012"
             ],
             [
              0.2222222222222222,
              "#000013"
             ],
             [
              0.3333333333333333,
              "#000014"
             ],
             [
              0.4444444444444444,
              "#000015"
             ],
             [
              0.5555555555555556,
              "#000016"
             ],
             [
              0.6666666666666666,
              "#000017"
             ],
             [
              0.7777777777777778,
              "#000018"
             ],
             [
              0.8888888888888888,
              "#000019"
             ],
             [
              1,
              "#000020"
             ]
            ],
            "type": "heatmap"
           }
          ],
          "histogram2d": [
           {
            "colorscale": [
             [
              0,
              "#000011"
             ],
             [
              0.1111111111111111,
              "#000012"
             ],
             [
              0.2222222222222222,
              "#000013"
             ],
             [
              0.3333333333333333,
              "#000014"
             ],
             [
              0.4444444444444444,
              "#000015"
             ],
             [
              0.5555555555555556,
              "#000016"
             ],
             [
              0.6666666666666666,
              "#000017"
             ],
             [
              0.7777777777777778,
              "#000018"
             ],
             [
              0.8888888888888888,
              "#000019"
             ],
             [
              1,
              "#000020"
             ]
            ],
            "type": "histogram2d"
           }
          ],
          "icicle": [
           {
            "textfont": {
             "color": "white"
            },
            "type": "icicle"
           }
          ],
          "sankey": [
           {
            "textfont": {
             "color": "#000036"
            },
            "type": "sankey"
           }
          ],
          "scatter": [
           {
            "marker": {
             "line": {
              "width": 0
             }
            },
            "type": "scatter"
           }
          ],
          "table": [
           {
            "cells": {
             "fill": {
              "color": "#000038"
             },
             "font": {
              "color": "#000037"
             },
             "line": {
              "color": "#000039"
             }
            },
            "header": {
             "fill": {
              "color": "#000040"
             },
             "font": {
              "color": "#000036"
             },
             "line": {
              "color": "#000039"
             }
            },
            "type": "table"
           }
          ],
          "waterfall": [
           {
            "connector": {
             "line": {
              "color": "#000036",
              "width": 2
             }
            },
            "decreasing": {
             "marker": {
              "color": "#000033"
             }
            },
            "increasing": {
             "marker": {
              "color": "#000032"
             }
            },
            "totals": {
             "marker": {
              "color": "#000034"
             }
            },
            "type": "waterfall"
           }
          ]
         },
         "layout": {
          "coloraxis": {
           "colorscale": [
            [
             0,
             "#000011"
            ],
            [
             0.1111111111111111,
             "#000012"
            ],
            [
             0.2222222222222222,
             "#000013"
            ],
            [
             0.3333333333333333,
             "#000014"
            ],
            [
             0.4444444444444444,
             "#000015"
            ],
            [
             0.5555555555555556,
             "#000016"
            ],
            [
             0.6666666666666666,
             "#000017"
            ],
            [
             0.7777777777777778,
             "#000018"
            ],
            [
             0.8888888888888888,
             "#000019"
            ],
            [
             1,
             "#000020"
            ]
           ]
          },
          "colorscale": {
           "diverging": [
            [
             0,
             "#000021"
            ],
            [
             0.1,
             "#000022"
            ],
            [
             0.2,
             "#000023"
            ],
            [
             0.3,
             "#000024"
            ],
            [
             0.4,
             "#000025"
            ],
            [
             0.5,
             "#000026"
            ],
            [
             0.6,
             "#000027"
            ],
            [
             0.7,
             "#000028"
            ],
            [
             0.8,
             "#000029"
            ],
            [
             0.9,
             "#000030"
            ],
            [
             1,
             "#000031"
            ]
           ],
           "sequential": [
            [
             0,
             "#000011"
            ],
            [
             0.1111111111111111,
             "#000012"
            ],
            [
             0.2222222222222222,
             "#000013"
            ],
            [
             0.3333333333333333,
             "#000014"
            ],
            [
             0.4444444444444444,
             "#000015"
            ],
            [
             0.5555555555555556,
             "#000016"
            ],
            [
             0.6666666666666666,
             "#000017"
            ],
            [
             0.7777777777777778,
             "#000018"
            ],
            [
             0.8888888888888888,
             "#000019"
            ],
            [
             1,
             "#000020"
            ]
           ],
           "sequentialminus": [
            [
             0,
             "#000011"
            ],
            [
             0.1111111111111111,
             "#000012"
            ],
            [
             0.2222222222222222,
             "#000013"
            ],
            [
             0.3333333333333333,
             "#000014"
            ],
            [
             0.4444444444444444,
             "#000015"
            ],
            [
             0.5555555555555556,
             "#000016"
            ],
            [
             0.6666666666666666,
             "#000017"
            ],
            [
             0.7777777777777778,
             "#000018"
            ],
            [
             0.8888888888888888,
             "#000019"
            ],
            [
             1,
             "#000020"
            ]
           ]
          },
          "colorway": [
           "#000001",
           "#000002",
           "#000003",
           "#000004",
           "#000005",
           "#000006",
           "#000007",
           "#000008",
           "#000009",
           "#000010"
          ]
         }
        },
        "title": {
         "font": {
          "color": "rgb(140, 63, 12)",
          "size": 28,
          "weight": "bold"
         },
         "text": "Media budget & MROAS variation per touchpoint",
         "x": 0.5
        },
        "width": 1300,
        "xaxis": {
         "anchor": "y",
         "domain": [
          0,
          0.94
         ],
         "linecolor": "lightgray",
         "linewidth": 2,
         "showgrid": false,
         "showline": true,
         "title": {
          "text": ""
         }
        },
        "yaxis": {
         "anchor": "x",
         "domain": [
          0,
          1
         ],
         "gridcolor": "lightgray",
         "range": [
          0,
          6814730.399999999
         ],
         "showgrid": true,
         "tickformat": ",",
         "title": {
          "font": {
           "size": 16
          },
          "text": ""
         }
        },
        "yaxis2": {
         "anchor": "x",
         "overlaying": "y",
         "range": [
          0,
          11.88
         ],
         "showgrid": false,
         "side": "right",
         "tickprefix": "£",
         "ticksuffix": ".0",
         "title": {
          "font": {
           "size": 16
          },
          "text": ""
         }
        }
       }
      }
     },
     "metadata": {},
     "output_type": "display_data"
    },
    {
     "ename": "TypeError",
     "evalue": "'NoneType' object is not subscriptable",
     "output_type": "error",
     "traceback": [
      "\u001b[1;31m---------------------------------------------------------------------------\u001b[0m",
      "\u001b[1;31mTypeError\u001b[0m                                 Traceback (most recent call last)",
      "Cell \u001b[1;32mIn[72], line 1\u001b[0m\n\u001b[1;32m----> 1\u001b[0m \u001b[43mscenario_plots\u001b[49m\u001b[43m(\u001b[49m\n\u001b[0;32m      2\u001b[0m \u001b[43m    \u001b[49m\u001b[43mscenarios\u001b[49m\u001b[43m \u001b[49m\u001b[38;5;241;43m=\u001b[39;49m\u001b[43m \u001b[49m\u001b[43m[\u001b[49m\u001b[43mbuild_plan_summary\u001b[49m\u001b[43m(\u001b[49m\u001b[43mscenario2\u001b[49m\u001b[43m,\u001b[49m\u001b[43m \u001b[49m\u001b[38;5;241;43m2024\u001b[39;49m\u001b[43m,\u001b[49m\u001b[43m \u001b[49m\u001b[38;5;241;43m0.9\u001b[39;49m\u001b[43m,\u001b[49m\u001b[43m \u001b[49m\u001b[43mticket_price\u001b[49m\u001b[43m)\u001b[49m\u001b[38;5;241;43m.\u001b[39;49m\u001b[43miloc\u001b[49m\u001b[43m[\u001b[49m\u001b[38;5;241;43m1\u001b[39;49m\u001b[43m:\u001b[49m\u001b[43m,\u001b[49m\u001b[43m \u001b[49m\u001b[43m:\u001b[49m\u001b[43m]\u001b[49m\u001b[43m,\u001b[49m\u001b[43m \u001b[49m\n\u001b[0;32m      3\u001b[0m \u001b[43m                 \u001b[49m\u001b[43mbuild_plan_summary\u001b[49m\u001b[43m(\u001b[49m\u001b[43mscenario1\u001b[49m\u001b[43m,\u001b[49m\u001b[43m \u001b[49m\u001b[38;5;241;43m2024\u001b[39;49m\u001b[43m,\u001b[49m\u001b[43m \u001b[49m\u001b[38;5;241;43m0.9\u001b[39;49m\u001b[43m,\u001b[49m\u001b[43m \u001b[49m\u001b[43mticket_price\u001b[49m\u001b[43m)\u001b[49m\u001b[38;5;241;43m.\u001b[39;49m\u001b[43miloc\u001b[49m\u001b[43m[\u001b[49m\u001b[38;5;241;43m1\u001b[39;49m\u001b[43m:\u001b[49m\u001b[43m,\u001b[49m\u001b[43m \u001b[49m\u001b[43m:\u001b[49m\u001b[43m]\u001b[49m\u001b[43m]\u001b[49m\u001b[43m,\u001b[49m\n\u001b[0;32m      4\u001b[0m \n\u001b[0;32m      5\u001b[0m \u001b[43m    \u001b[49m\u001b[43mmetrics\u001b[49m\u001b[43m \u001b[49m\u001b[38;5;241;43m=\u001b[39;49m\u001b[43m \u001b[49m\u001b[43m[\u001b[49m\u001b[38;5;124;43m'\u001b[39;49m\u001b[38;5;124;43mTotal Spend\u001b[39;49m\u001b[38;5;124;43m'\u001b[39;49m\u001b[43m,\u001b[49m\u001b[43m \u001b[49m\u001b[38;5;124;43m'\u001b[39;49m\u001b[38;5;124;43mMROAS\u001b[39;49m\u001b[38;5;124;43m'\u001b[39;49m\u001b[43m]\u001b[49m\u001b[43m,\u001b[49m\n\u001b[0;32m      6\u001b[0m \n\u001b[0;32m      7\u001b[0m \u001b[43m    \u001b[49m\u001b[43mchannels\u001b[49m\u001b[43m \u001b[49m\u001b[38;5;241;43m=\u001b[39;49m\u001b[43m \u001b[49m\u001b[43mmedia_list\u001b[49m\u001b[43m,\u001b[49m\n\u001b[0;32m      8\u001b[0m \n\u001b[0;32m      9\u001b[0m \u001b[43m    \u001b[49m\u001b[43mcolors\u001b[49m\u001b[43m \u001b[49m\u001b[38;5;241;43m=\u001b[39;49m\u001b[43m \u001b[49m\u001b[43m[\u001b[49m\u001b[38;5;124;43m'\u001b[39;49m\u001b[38;5;124;43mrgb(174, 139, 113)\u001b[39;49m\u001b[38;5;124;43m'\u001b[39;49m\u001b[43m,\u001b[49m\u001b[43m \u001b[49m\n\u001b[0;32m     10\u001b[0m \u001b[43m            \u001b[49m\u001b[38;5;124;43m'\u001b[39;49m\u001b[38;5;124;43mrgb(140, 63, 12)\u001b[39;49m\u001b[38;5;124;43m'\u001b[39;49m\u001b[43m,\u001b[49m\n\u001b[0;32m     11\u001b[0m \u001b[43m            \u001b[49m\u001b[38;5;124;43m'\u001b[39;49m\u001b[38;5;124;43mrgb(174, 139, 113)\u001b[39;49m\u001b[38;5;124;43m'\u001b[39;49m\u001b[43m,\u001b[49m\n\u001b[0;32m     12\u001b[0m \u001b[43m            \u001b[49m\u001b[38;5;124;43m'\u001b[39;49m\u001b[38;5;124;43mrgb(140, 63, 12)\u001b[39;49m\u001b[38;5;124;43m'\u001b[39;49m\n\u001b[0;32m     13\u001b[0m \u001b[43m            \u001b[49m\n\u001b[0;32m     14\u001b[0m \u001b[43m            \u001b[49m\u001b[43m]\u001b[49m\u001b[43m,\u001b[49m\n\u001b[0;32m     15\u001b[0m \n\u001b[0;32m     16\u001b[0m \u001b[43m    \u001b[49m\u001b[43mtitle\u001b[49m\u001b[43m \u001b[49m\u001b[38;5;241;43m=\u001b[39;49m\u001b[43m \u001b[49m\u001b[38;5;124;43m\"\u001b[39;49m\u001b[38;5;124;43mMedia budget & MROAS variation per touchpoint\u001b[39;49m\u001b[38;5;124;43m\"\u001b[39;49m\u001b[43m,\u001b[49m\u001b[43m \u001b[49m\n\u001b[0;32m     17\u001b[0m \n\u001b[0;32m     18\u001b[0m \u001b[43m    \u001b[49m\u001b[43mylabel1\u001b[49m\u001b[43m \u001b[49m\u001b[38;5;241;43m=\u001b[39;49m\u001b[43m \u001b[49m\u001b[38;5;124;43m\"\u001b[39;49m\u001b[38;5;124;43m\"\u001b[39;49m\u001b[43m,\u001b[49m\u001b[43m \u001b[49m\u001b[43mylabel2\u001b[49m\u001b[38;5;241;43m=\u001b[39;49m\u001b[43m \u001b[49m\u001b[38;5;124;43m\"\u001b[39;49m\u001b[38;5;124;43m\"\u001b[39;49m\u001b[43m,\u001b[49m\u001b[43m \u001b[49m\u001b[43mcurrency_symbol\u001b[49m\u001b[43m \u001b[49m\u001b[38;5;241;43m=\u001b[39;49m\u001b[43m \u001b[49m\u001b[38;5;124;43m\"\u001b[39;49m\u001b[38;5;124;43m£\u001b[39;49m\u001b[38;5;124;43m\"\u001b[39;49m\u001b[43m \u001b[49m\n\u001b[0;32m     19\u001b[0m \u001b[43m)\u001b[49m\u001b[43m[\u001b[49m\u001b[38;5;241;43m0\u001b[39;49m\u001b[43m]\u001b[49m\n",
      "\u001b[1;31mTypeError\u001b[0m: 'NoneType' object is not subscriptable"
     ]
    }
   ],
   "source": [
    "scenario_plots(\n",
    "    scenarios = [build_plan_summary(scenario2, 2024, 0.9, ticket_price).iloc[1:, :], \n",
    "                 build_plan_summary(scenario1, 2024, 0.9, ticket_price).iloc[1:, :]],\n",
    "\n",
    "    metrics = ['Total Spend', 'MROAS'],\n",
    "\n",
    "    channels = media_list,\n",
    "\n",
    "    colors = ['rgb(174, 139, 113)', \n",
    "            'rgb(140, 63, 12)',\n",
    "            'rgb(174, 139, 113)',\n",
    "            'rgb(140, 63, 12)'\n",
    "            \n",
    "            ],\n",
    "\n",
    "    title = \"Media budget & MROAS variation per touchpoint\", \n",
    "\n",
    "    ylabel1 = \"\", ylabel2= \"\", currency_symbol = \"£\" \n",
    ")[0]"
   ]
  },
  {
   "cell_type": "code",
   "execution_count": 25,
   "metadata": {},
   "outputs": [
    {
     "ename": "NameError",
     "evalue": "name 'scenario_plots' is not defined",
     "output_type": "error",
     "traceback": [
      "\u001b[1;31m---------------------------------------------------------------------------\u001b[0m",
      "\u001b[1;31mNameError\u001b[0m                                 Traceback (most recent call last)",
      "Cell \u001b[1;32mIn[25], line 1\u001b[0m\n\u001b[1;32m----> 1\u001b[0m \u001b[43mscenario_plots\u001b[49m(\n\u001b[0;32m      2\u001b[0m     scenarios \u001b[38;5;241m=\u001b[39m [build_plan_summary(scenario1, \u001b[38;5;241m2024\u001b[39m, \u001b[38;5;241m0.9\u001b[39m, ticket_price)\u001b[38;5;241m.\u001b[39miloc[\u001b[38;5;241m1\u001b[39m:, :], \n\u001b[0;32m      3\u001b[0m                  build_plan_summary(scenario2, \u001b[38;5;241m2024\u001b[39m, \u001b[38;5;241m0.9\u001b[39m, ticket_price)\u001b[38;5;241m.\u001b[39miloc[\u001b[38;5;241m1\u001b[39m:, :]],\n\u001b[0;32m      4\u001b[0m \n\u001b[0;32m      5\u001b[0m     metrics \u001b[38;5;241m=\u001b[39m [\u001b[38;5;124m'\u001b[39m\u001b[38;5;124mTotal Attendance\u001b[39m\u001b[38;5;124m'\u001b[39m, \u001b[38;5;124m'\u001b[39m\u001b[38;5;124mCost per Attendance\u001b[39m\u001b[38;5;124m'\u001b[39m],\n\u001b[0;32m      6\u001b[0m \n\u001b[0;32m      7\u001b[0m     channels \u001b[38;5;241m=\u001b[39m media_list,\n\u001b[0;32m      8\u001b[0m \n\u001b[0;32m      9\u001b[0m     colors \u001b[38;5;241m=\u001b[39m [\u001b[38;5;124m'\u001b[39m\u001b[38;5;124mrgb(188, 214, 150)\u001b[39m\u001b[38;5;124m'\u001b[39m, \n\u001b[0;32m     10\u001b[0m             \u001b[38;5;124m'\u001b[39m\u001b[38;5;124mrgb(36, 84, 40)\u001b[39m\u001b[38;5;124m'\u001b[39m,\n\u001b[0;32m     11\u001b[0m             \u001b[38;5;124m'\u001b[39m\u001b[38;5;124mrgb(188, 214, 150)\u001b[39m\u001b[38;5;124m'\u001b[39m, \n\u001b[0;32m     12\u001b[0m             \u001b[38;5;124m'\u001b[39m\u001b[38;5;124mrgb(36, 84, 40)\u001b[39m\u001b[38;5;124m'\u001b[39m\n\u001b[0;32m     13\u001b[0m             ],\n\u001b[0;32m     14\u001b[0m \n\u001b[0;32m     15\u001b[0m     title \u001b[38;5;241m=\u001b[39m \u001b[38;5;124m\"\u001b[39m\u001b[38;5;124mIncremental attendance & CPA evolution\u001b[39m\u001b[38;5;124m\"\u001b[39m, \n\u001b[0;32m     16\u001b[0m \n\u001b[0;32m     17\u001b[0m     ylabel1 \u001b[38;5;241m=\u001b[39m \u001b[38;5;124m\"\u001b[39m\u001b[38;5;124m\"\u001b[39m, ylabel2\u001b[38;5;241m=\u001b[39m \u001b[38;5;124m\"\u001b[39m\u001b[38;5;124m\"\u001b[39m, currency_symbol \u001b[38;5;241m=\u001b[39m \u001b[38;5;124m\"\u001b[39m\u001b[38;5;124m£\u001b[39m\u001b[38;5;124m\"\u001b[39m \n\u001b[0;32m     18\u001b[0m )\n",
      "\u001b[1;31mNameError\u001b[0m: name 'scenario_plots' is not defined"
     ]
    }
   ],
   "source": [
    "scenario_plots(\n",
    "    scenarios = [build_plan_summary(scenario1, 2024, 0.9, ticket_price).iloc[1:, :], \n",
    "                 build_plan_summary(scenario2, 2024, 0.9, ticket_price).iloc[1:, :]],\n",
    "\n",
    "    metrics = ['Total Attendance', 'Cost per Attendance'],\n",
    "\n",
    "    channels = media_list,\n",
    "\n",
    "    colors = ['rgb(188, 214, 150)', \n",
    "            'rgb(36, 84, 40)',\n",
    "            'rgb(188, 214, 150)', \n",
    "            'rgb(36, 84, 40)'\n",
    "            ],\n",
    "\n",
    "    title = \"Incremental attendance & CPA evolution\", \n",
    "\n",
    "    ylabel1 = \"\", ylabel2= \"\", currency_symbol = \"£\" \n",
    ")"
   ]
  },
  {
   "cell_type": "markdown",
   "metadata": {},
   "source": [
    "# Labeled plot"
   ]
  },
  {
   "cell_type": "code",
   "execution_count": 4,
   "metadata": {},
   "outputs": [
    {
     "data": {
      "application/vnd.plotly.v1+json": {
       "config": {
        "plotlyServerURL": "https://plot.ly"
       },
       "data": [
        {
         "domain": {
          "x": [
           0,
           1
          ],
          "y": [
           0,
           0.4
          ]
         },
         "gauge": {
          "axis": {
           "range": [
            0,
            100
           ],
           "showticklabels": false,
           "tickcolor": "white",
           "tickwidth": 1,
           "visible": true
          },
          "bar": {
           "color": "white"
          },
          "bgcolor": "rgba(0,0,0,0)",
          "bordercolor": "rgba(0,0,0,0)",
          "borderwidth": 0,
          "threshold": {
           "line": {
            "color": "white",
            "width": 4
           },
           "thickness": 0.75,
           "value": 11
          }
         },
         "mode": "gauge",
         "type": "indicator",
         "value": 11
        }
       ],
       "layout": {
        "annotations": [
         {
          "font": {
           "color": "white",
           "size": 16
          },
          "showarrow": false,
          "text": "<b>CPA variation</b>",
          "x": 0.5,
          "y": 0.8
         },
         {
          "font": {
           "color": "white",
           "size": 24
          },
          "showarrow": false,
          "text": "€1.4",
          "x": 0.5,
          "y": 0.65
         },
         {
          "font": {
           "color": "red",
           "size": 28
          },
          "showarrow": false,
          "text": "<b style='color:red'>11%</b>",
          "x": 0.5,
          "y": 0.5
         }
        ],
        "height": 400,
        "margin": {
         "b": 80,
         "l": 40,
         "r": 40,
         "t": 120
        },
        "paper_bgcolor": "#333333",
        "plot_bgcolor": "rgba(0,0,0,0)",
        "showlegend": false,
        "template": {
         "data": {
          "candlestick": [
           {
            "decreasing": {
             "line": {
              "color": "#000033"
             }
            },
            "increasing": {
             "line": {
              "color": "#000032"
             }
            },
            "type": "candlestick"
           }
          ],
          "contour": [
           {
            "colorscale": [
             [
              0,
              "#000011"
             ],
             [
              0.1111111111111111,
              "#000012"
             ],
             [
              0.2222222222222222,
              "#000013"
             ],
             [
              0.3333333333333333,
              "#000014"
             ],
             [
              0.4444444444444444,
              "#000015"
             ],
             [
              0.5555555555555556,
              "#000016"
             ],
             [
              0.6666666666666666,
              "#000017"
             ],
             [
              0.7777777777777778,
              "#000018"
             ],
             [
              0.8888888888888888,
              "#000019"
             ],
             [
              1,
              "#000020"
             ]
            ],
            "type": "contour"
           }
          ],
          "contourcarpet": [
           {
            "colorscale": [
             [
              0,
              "#000011"
             ],
             [
              0.1111111111111111,
              "#000012"
             ],
             [
              0.2222222222222222,
              "#000013"
             ],
             [
              0.3333333333333333,
              "#000014"
             ],
             [
              0.4444444444444444,
              "#000015"
             ],
             [
              0.5555555555555556,
              "#000016"
             ],
             [
              0.6666666666666666,
              "#000017"
             ],
             [
              0.7777777777777778,
              "#000018"
             ],
             [
              0.8888888888888888,
              "#000019"
             ],
             [
              1,
              "#000020"
             ]
            ],
            "type": "contourcarpet"
           }
          ],
          "heatmap": [
           {
            "colorscale": [
             [
              0,
              "#000011"
             ],
             [
              0.1111111111111111,
              "#000012"
             ],
             [
              0.2222222222222222,
              "#000013"
             ],
             [
              0.3333333333333333,
              "#000014"
             ],
             [
              0.4444444444444444,
              "#000015"
             ],
             [
              0.5555555555555556,
              "#000016"
             ],
             [
              0.6666666666666666,
              "#000017"
             ],
             [
              0.7777777777777778,
              "#000018"
             ],
             [
              0.8888888888888888,
              "#000019"
             ],
             [
              1,
              "#000020"
             ]
            ],
            "type": "heatmap"
           }
          ],
          "histogram2d": [
           {
            "colorscale": [
             [
              0,
              "#000011"
             ],
             [
              0.1111111111111111,
              "#000012"
             ],
             [
              0.2222222222222222,
              "#000013"
             ],
             [
              0.3333333333333333,
              "#000014"
             ],
             [
              0.4444444444444444,
              "#000015"
             ],
             [
              0.5555555555555556,
              "#000016"
             ],
             [
              0.6666666666666666,
              "#000017"
             ],
             [
              0.7777777777777778,
              "#000018"
             ],
             [
              0.8888888888888888,
              "#000019"
             ],
             [
              1,
              "#000020"
             ]
            ],
            "type": "histogram2d"
           }
          ],
          "icicle": [
           {
            "textfont": {
             "color": "white"
            },
            "type": "icicle"
           }
          ],
          "sankey": [
           {
            "textfont": {
             "color": "#000036"
            },
            "type": "sankey"
           }
          ],
          "scatter": [
           {
            "marker": {
             "line": {
              "width": 0
             }
            },
            "type": "scatter"
           }
          ],
          "table": [
           {
            "cells": {
             "fill": {
              "color": "#000038"
             },
             "font": {
              "color": "#000037"
             },
             "line": {
              "color": "#000039"
             }
            },
            "header": {
             "fill": {
              "color": "#000040"
             },
             "font": {
              "color": "#000036"
             },
             "line": {
              "color": "#000039"
             }
            },
            "type": "table"
           }
          ],
          "waterfall": [
           {
            "connector": {
             "line": {
              "color": "#000036",
              "width": 2
             }
            },
            "decreasing": {
             "marker": {
              "color": "#000033"
             }
            },
            "increasing": {
             "marker": {
              "color": "#000032"
             }
            },
            "totals": {
             "marker": {
              "color": "#000034"
             }
            },
            "type": "waterfall"
           }
          ]
         },
         "layout": {
          "coloraxis": {
           "colorscale": [
            [
             0,
             "#000011"
            ],
            [
             0.1111111111111111,
             "#000012"
            ],
            [
             0.2222222222222222,
             "#000013"
            ],
            [
             0.3333333333333333,
             "#000014"
            ],
            [
             0.4444444444444444,
             "#000015"
            ],
            [
             0.5555555555555556,
             "#000016"
            ],
            [
             0.6666666666666666,
             "#000017"
            ],
            [
             0.7777777777777778,
             "#000018"
            ],
            [
             0.8888888888888888,
             "#000019"
            ],
            [
             1,
             "#000020"
            ]
           ]
          },
          "colorscale": {
           "diverging": [
            [
             0,
             "#000021"
            ],
            [
             0.1,
             "#000022"
            ],
            [
             0.2,
             "#000023"
            ],
            [
             0.3,
             "#000024"
            ],
            [
             0.4,
             "#000025"
            ],
            [
             0.5,
             "#000026"
            ],
            [
             0.6,
             "#000027"
            ],
            [
             0.7,
             "#000028"
            ],
            [
             0.8,
             "#000029"
            ],
            [
             0.9,
             "#000030"
            ],
            [
             1,
             "#000031"
            ]
           ],
           "sequential": [
            [
             0,
             "#000011"
            ],
            [
             0.1111111111111111,
             "#000012"
            ],
            [
             0.2222222222222222,
             "#000013"
            ],
            [
             0.3333333333333333,
             "#000014"
            ],
            [
             0.4444444444444444,
             "#000015"
            ],
            [
             0.5555555555555556,
             "#000016"
            ],
            [
             0.6666666666666666,
             "#000017"
            ],
            [
             0.7777777777777778,
             "#000018"
            ],
            [
             0.8888888888888888,
             "#000019"
            ],
            [
             1,
             "#000020"
            ]
           ],
           "sequentialminus": [
            [
             0,
             "#000011"
            ],
            [
             0.1111111111111111,
             "#000012"
            ],
            [
             0.2222222222222222,
             "#000013"
            ],
            [
             0.3333333333333333,
             "#000014"
            ],
            [
             0.4444444444444444,
             "#000015"
            ],
            [
             0.5555555555555556,
             "#000016"
            ],
            [
             0.6666666666666666,
             "#000017"
            ],
            [
             0.7777777777777778,
             "#000018"
            ],
            [
             0.8888888888888888,
             "#000019"
            ],
            [
             1,
             "#000020"
            ]
           ]
          },
          "colorway": [
           "#000001",
           "#000002",
           "#000003",
           "#000004",
           "#000005",
           "#000006",
           "#000007",
           "#000008",
           "#000009",
           "#000010"
          ]
         }
        },
        "width": 400
       }
      }
     },
     "metadata": {},
     "output_type": "display_data"
    }
   ],
   "source": [
    "import plotly.graph_objects as go\n",
    "\n",
    "# Create a figure\n",
    "fig = go.Figure()\n",
    "\n",
    "# Add the gauge (just the arc/dial part)\n",
    "fig.add_trace(go.Indicator(\n",
    "    mode=\"gauge\",\n",
    "    value=11,\n",
    "    gauge={\n",
    "        'axis': {\n",
    "            'range': [0, 100],\n",
    "            'visible': True,\n",
    "            'showticklabels': False,\n",
    "            'tickwidth': 1,\n",
    "            'tickcolor': \"white\"\n",
    "        },\n",
    "        'bar': {'color': \"white\"},\n",
    "        'bgcolor': \"rgba(0,0,0,0)\",\n",
    "        'borderwidth': 0,\n",
    "        'bordercolor': \"rgba(0,0,0,0)\",\n",
    "        'steps': [],\n",
    "        'threshold': {\n",
    "            'line': {'color': \"white\", 'width': 4},\n",
    "            'thickness': 0.75,\n",
    "            'value': 11\n",
    "        }\n",
    "    },\n",
    "    domain={'x': [0, 1], 'y': [0, 0.4]}  # Position the gauge at the bottom\n",
    "))\n",
    "\n",
    "# Add the text elements with proper spacing\n",
    "fig.add_annotation(\n",
    "    text=\"<b>CPA variation</b>\",\n",
    "    x=0.5, y=0.8,  # Position at the top\n",
    "    showarrow=False,\n",
    "    font=dict(size=16, color=\"white\")\n",
    ")\n",
    "\n",
    "fig.add_annotation(\n",
    "    text=\"€1.4\",\n",
    "    x=0.5, y=0.65,  # Position below the title with space\n",
    "    showarrow=False,\n",
    "    font=dict(size=24, color=\"white\")\n",
    ")\n",
    "\n",
    "fig.add_annotation(\n",
    "    text=\"<b style='color:red'>11%</b>\",\n",
    "    x=0.5, y=0.5,  # Position below the value with space\n",
    "    showarrow=False,\n",
    "    font=dict(size=28, color=\"red\")\n",
    ")\n",
    "\n",
    "# Update layout with dark background\n",
    "fig.update_layout(\n",
    "    paper_bgcolor=\"#333333\",  # Dark gray background\n",
    "    plot_bgcolor=\"rgba(0,0,0,0)\",\n",
    "    height=400,\n",
    "    width=400,\n",
    "    margin=dict(t=120, b=80, l=40, r=40),  # Add more margin to ensure everything fits\n",
    "    showlegend=False\n",
    ")\n",
    "\n",
    "# Show the figure\n",
    "fig.show()\n",
    "\n",
    "# To save:\n",
    "# fig.write_image(\"gauge_chart.png\")\n",
    "# fig.write_html(\"gauge_chart.html\")"
   ]
  },
  {
   "cell_type": "code",
   "execution_count": 3,
   "metadata": {},
   "outputs": [
    {
     "data": {
      "application/vnd.plotly.v1+json": {
       "config": {
        "plotlyServerURL": "https://plot.ly"
       },
       "data": [
        {
         "domain": {
          "x": [
           0,
           1
          ],
          "y": [
           0,
           0.6
          ]
         },
         "gauge": {
          "axis": {
           "range": [
            null,
            100
           ],
           "showticklabels": false,
           "tickcolor": "white",
           "tickwidth": 1,
           "visible": true
          },
          "bar": {
           "color": "white"
          },
          "bgcolor": "rgba(0,0,0,0)",
          "bordercolor": "rgba(0,0,0,0)",
          "borderwidth": 0,
          "threshold": {
           "line": {
            "color": "white",
            "width": 4
           },
           "thickness": 0.75,
           "value": 11
          }
         },
         "mode": "gauge",
         "type": "indicator",
         "value": 11
        }
       ],
       "layout": {
        "annotations": [
         {
          "font": {
           "color": "white",
           "size": 16
          },
          "showarrow": false,
          "text": "<b>CPA variation</b>",
          "x": 0.5,
          "y": 0.7
         },
         {
          "font": {
           "color": "white",
           "size": 24
          },
          "showarrow": false,
          "text": "€1.4",
          "x": 0.5,
          "y": 0.6
         },
         {
          "font": {
           "color": "red",
           "size": 24
          },
          "showarrow": false,
          "text": "11%",
          "x": 0.5,
          "y": 0.4
         }
        ],
        "height": 300,
        "margin": {
         "b": 0,
         "l": 0,
         "r": 0,
         "t": 100
        },
        "paper_bgcolor": "rgba(0,0,0,0)",
        "plot_bgcolor": "rgba(0,0,0,0)",
        "showlegend": false,
        "template": {
         "data": {
          "candlestick": [
           {
            "decreasing": {
             "line": {
              "color": "#000033"
             }
            },
            "increasing": {
             "line": {
              "color": "#000032"
             }
            },
            "type": "candlestick"
           }
          ],
          "contour": [
           {
            "colorscale": [
             [
              0,
              "#000011"
             ],
             [
              0.1111111111111111,
              "#000012"
             ],
             [
              0.2222222222222222,
              "#000013"
             ],
             [
              0.3333333333333333,
              "#000014"
             ],
             [
              0.4444444444444444,
              "#000015"
             ],
             [
              0.5555555555555556,
              "#000016"
             ],
             [
              0.6666666666666666,
              "#000017"
             ],
             [
              0.7777777777777778,
              "#000018"
             ],
             [
              0.8888888888888888,
              "#000019"
             ],
             [
              1,
              "#000020"
             ]
            ],
            "type": "contour"
           }
          ],
          "contourcarpet": [
           {
            "colorscale": [
             [
              0,
              "#000011"
             ],
             [
              0.1111111111111111,
              "#000012"
             ],
             [
              0.2222222222222222,
              "#000013"
             ],
             [
              0.3333333333333333,
              "#000014"
             ],
             [
              0.4444444444444444,
              "#000015"
             ],
             [
              0.5555555555555556,
              "#000016"
             ],
             [
              0.6666666666666666,
              "#000017"
             ],
             [
              0.7777777777777778,
              "#000018"
             ],
             [
              0.8888888888888888,
              "#000019"
             ],
             [
              1,
              "#000020"
             ]
            ],
            "type": "contourcarpet"
           }
          ],
          "heatmap": [
           {
            "colorscale": [
             [
              0,
              "#000011"
             ],
             [
              0.1111111111111111,
              "#000012"
             ],
             [
              0.2222222222222222,
              "#000013"
             ],
             [
              0.3333333333333333,
              "#000014"
             ],
             [
              0.4444444444444444,
              "#000015"
             ],
             [
              0.5555555555555556,
              "#000016"
             ],
             [
              0.6666666666666666,
              "#000017"
             ],
             [
              0.7777777777777778,
              "#000018"
             ],
             [
              0.8888888888888888,
              "#000019"
             ],
             [
              1,
              "#000020"
             ]
            ],
            "type": "heatmap"
           }
          ],
          "histogram2d": [
           {
            "colorscale": [
             [
              0,
              "#000011"
             ],
             [
              0.1111111111111111,
              "#000012"
             ],
             [
              0.2222222222222222,
              "#000013"
             ],
             [
              0.3333333333333333,
              "#000014"
             ],
             [
              0.4444444444444444,
              "#000015"
             ],
             [
              0.5555555555555556,
              "#000016"
             ],
             [
              0.6666666666666666,
              "#000017"
             ],
             [
              0.7777777777777778,
              "#000018"
             ],
             [
              0.8888888888888888,
              "#000019"
             ],
             [
              1,
              "#000020"
             ]
            ],
            "type": "histogram2d"
           }
          ],
          "icicle": [
           {
            "textfont": {
             "color": "white"
            },
            "type": "icicle"
           }
          ],
          "sankey": [
           {
            "textfont": {
             "color": "#000036"
            },
            "type": "sankey"
           }
          ],
          "scatter": [
           {
            "marker": {
             "line": {
              "width": 0
             }
            },
            "type": "scatter"
           }
          ],
          "table": [
           {
            "cells": {
             "fill": {
              "color": "#000038"
             },
             "font": {
              "color": "#000037"
             },
             "line": {
              "color": "#000039"
             }
            },
            "header": {
             "fill": {
              "color": "#000040"
             },
             "font": {
              "color": "#000036"
             },
             "line": {
              "color": "#000039"
             }
            },
            "type": "table"
           }
          ],
          "waterfall": [
           {
            "connector": {
             "line": {
              "color": "#000036",
              "width": 2
             }
            },
            "decreasing": {
             "marker": {
              "color": "#000033"
             }
            },
            "increasing": {
             "marker": {
              "color": "#000032"
             }
            },
            "totals": {
             "marker": {
              "color": "#000034"
             }
            },
            "type": "waterfall"
           }
          ]
         },
         "layout": {
          "coloraxis": {
           "colorscale": [
            [
             0,
             "#000011"
            ],
            [
             0.1111111111111111,
             "#000012"
            ],
            [
             0.2222222222222222,
             "#000013"
            ],
            [
             0.3333333333333333,
             "#000014"
            ],
            [
             0.4444444444444444,
             "#000015"
            ],
            [
             0.5555555555555556,
             "#000016"
            ],
            [
             0.6666666666666666,
             "#000017"
            ],
            [
             0.7777777777777778,
             "#000018"
            ],
            [
             0.8888888888888888,
             "#000019"
            ],
            [
             1,
             "#000020"
            ]
           ]
          },
          "colorscale": {
           "diverging": [
            [
             0,
             "#000021"
            ],
            [
             0.1,
             "#000022"
            ],
            [
             0.2,
             "#000023"
            ],
            [
             0.3,
             "#000024"
            ],
            [
             0.4,
             "#000025"
            ],
            [
             0.5,
             "#000026"
            ],
            [
             0.6,
             "#000027"
            ],
            [
             0.7,
             "#000028"
            ],
            [
             0.8,
             "#000029"
            ],
            [
             0.9,
             "#000030"
            ],
            [
             1,
             "#000031"
            ]
           ],
           "sequential": [
            [
             0,
             "#000011"
            ],
            [
             0.1111111111111111,
             "#000012"
            ],
            [
             0.2222222222222222,
             "#000013"
            ],
            [
             0.3333333333333333,
             "#000014"
            ],
            [
             0.4444444444444444,
             "#000015"
            ],
            [
             0.5555555555555556,
             "#000016"
            ],
            [
             0.6666666666666666,
             "#000017"
            ],
            [
             0.7777777777777778,
             "#000018"
            ],
            [
             0.8888888888888888,
             "#000019"
            ],
            [
             1,
             "#000020"
            ]
           ],
           "sequentialminus": [
            [
             0,
             "#000011"
            ],
            [
             0.1111111111111111,
             "#000012"
            ],
            [
             0.2222222222222222,
             "#000013"
            ],
            [
             0.3333333333333333,
             "#000014"
            ],
            [
             0.4444444444444444,
             "#000015"
            ],
            [
             0.5555555555555556,
             "#000016"
            ],
            [
             0.6666666666666666,
             "#000017"
            ],
            [
             0.7777777777777778,
             "#000018"
            ],
            [
             0.8888888888888888,
             "#000019"
            ],
            [
             1,
             "#000020"
            ]
           ]
          },
          "colorway": [
           "#000001",
           "#000002",
           "#000003",
           "#000004",
           "#000005",
           "#000006",
           "#000007",
           "#000008",
           "#000009",
           "#000010"
          ]
         }
        },
        "width": 300
       }
      }
     },
     "metadata": {},
     "output_type": "display_data"
    }
   ],
   "source": [
    "import plotly.graph_objects as go\n",
    "from plotly.subplots import make_subplots\n",
    "\n",
    "# Create figure with customized gauge\n",
    "fig = go.Figure()\n",
    "\n",
    "# Add the gauge\n",
    "fig.add_trace(go.Indicator(\n",
    "    mode=\"gauge\",\n",
    "    value=11,  # The percentage value (11%)\n",
    "    gauge={\n",
    "        'axis': {\n",
    "            'range': [None, 100], \n",
    "            'visible': True,\n",
    "            'showticklabels': False,\n",
    "            'tickwidth': 1, \n",
    "            'tickcolor': \"white\"\n",
    "        },\n",
    "        'bar': {'color': \"white\"},\n",
    "        'bgcolor': \"rgba(0,0,0,0)\",\n",
    "        'borderwidth': 0,\n",
    "        'bordercolor': \"rgba(0,0,0,0)\",\n",
    "        'steps': [],\n",
    "        'threshold': {\n",
    "            'line': {'color': \"white\", 'width': 4},\n",
    "            'thickness': 0.75,\n",
    "            'value': 11\n",
    "        }\n",
    "    },\n",
    "    domain={'x': [0, 1], 'y': [0, 0.6]}\n",
    "))\n",
    "\n",
    "# Add the textual components separately for more control\n",
    "fig.add_annotation(\n",
    "    text=\"<b>CPA variation</b>\",\n",
    "    x=0.5, y=0.7,\n",
    "    showarrow=False,\n",
    "    font=dict(size=16, color=\"white\")\n",
    ")\n",
    "\n",
    "fig.add_annotation(\n",
    "    text=\"€1.4\",\n",
    "    x=0.5, y=0.6,\n",
    "    showarrow=False,\n",
    "    font=dict(size=24, color=\"white\")\n",
    ")\n",
    "\n",
    "fig.add_annotation(\n",
    "    text=\"11%\",\n",
    "    x=0.5, y=0.4,\n",
    "    showarrow=False,\n",
    "    font=dict(size=24, color=\"red\")\n",
    ")\n",
    "\n",
    "# Update layout\n",
    "fig.update_layout(\n",
    "    paper_bgcolor=\"rgba(0,0,0,0)\",\n",
    "    plot_bgcolor=\"rgba(0,0,0,0)\",\n",
    "    margin=dict(t=100, b=0, l=0, r=0),\n",
    "    height=300,\n",
    "    width=300,\n",
    "    showlegend=False\n",
    ")\n",
    "\n",
    "# Show the figure\n",
    "fig.show()\n",
    "\n",
    "# To save as an image or HTML file:\n",
    "# fig.write_image(\"gauge_chart.png\")\n",
    "# fig.write_html(\"gauge_chart.html\")"
   ]
  }
 ],
 "metadata": {
  "kernelspec": {
   "display_name": "Python 3",
   "language": "python",
   "name": "python3"
  },
  "language_info": {
   "codemirror_mode": {
    "name": "ipython",
    "version": 3
   },
   "file_extension": ".py",
   "mimetype": "text/x-python",
   "name": "python",
   "nbconvert_exporter": "python",
   "pygments_lexer": "ipython3",
   "version": "3.11.8"
  }
 },
 "nbformat": 4,
 "nbformat_minor": 2
}
