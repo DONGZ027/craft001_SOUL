{
 "cells": [
  {
   "cell_type": "markdown",
   "metadata": {},
   "source": [
    "# Set up"
   ]
  },
  {
   "cell_type": "code",
   "execution_count": 41,
   "metadata": {},
   "outputs": [],
   "source": [
    "import streamlit as st\n",
    "import pandas as pd\n",
    "import numpy as np\n",
    "from datetime import date\n",
    "import io\n",
    "import random\n",
    "\n",
    "\n",
    "import warnings\n",
    "\n",
    "# Ignore all warnings\n",
    "warnings.filterwarnings(\"ignore\")"
   ]
  },
  {
   "cell_type": "code",
   "execution_count": 42,
   "metadata": {},
   "outputs": [],
   "source": [
    "region_name = 'WDW'"
   ]
  },
  {
   "cell_type": "code",
   "execution_count": 43,
   "metadata": {},
   "outputs": [],
   "source": [
    "parent_path = 'C:\\\\Users\\\\DONGZ027\\\\Desktop\\\\Local Crafts\\\\craft001_Soul'\n",
    "\n",
    "mmmYear = 2023\n",
    "ticket_price = 165\n",
    "\n",
    "media_mapping_file = pd.read_csv(parent_path + '\\data\\media_label.csv')\n",
    "media_mapping = media_mapping_file[media_mapping_file.region == region_name].set_index('media_code').to_dict()['media_label']\n",
    "\n",
    "media_mapping_reverse = {v: k for k, v in media_mapping.items()}\n",
    "\n",
    "spend_prefix = \"M_P_\"  \n",
    "inc_prefix = \"TIncT_P_\" \n",
    "cpt_prefix = \"CPT_P_\"\n",
    "mcpt_prefix = \"MCPT_P_\" \n",
    "minc_prefix = \"nMTIncT_P_\"\n",
    "\n",
    "months_abbv = ['Oct', 'Nov', 'Dec', 'Jan', 'Feb', 'Mar', 'Apr', 'May', 'Jun', 'Jul', 'Aug', 'Sep']\n",
    "months_full = ['October', 'November', 'December', 'January', 'February', 'March', 'April', 'May', 'June', 'July', 'August', 'September'] "
   ]
  },
  {
   "cell_type": "code",
   "execution_count": 44,
   "metadata": {},
   "outputs": [],
   "source": [
    "# Time reference\n",
    "file_path = f\"{parent_path}\\data\\DT_snowflake.csv\"\n",
    "time_ref = pd.read_csv(file_path)\n",
    "\n",
    "time_ref = time_ref[[\n",
    "    'FIS_WK_END_DT', 'FIS_YR_NB', 'FIS_QTR_NB', 'FIS_MO_NB', 'FIS_WK_NB', \n",
    "]].drop_duplicates() \n",
    "time_ref = time_ref[time_ref['FIS_YR_NB'] >= mmmYear]\n",
    "time_ref['FIS_WK_END_DT'] = pd.to_datetime(time_ref['FIS_WK_END_DT']).dt.date\n",
    "time_ref = time_ref.sort_values(by=['FIS_WK_END_DT']) \n",
    "\n",
    "counting_months = time_ref.groupby(['FIS_YR_NB', 'FIS_MO_NB']).size().reset_index(name='weeks_count') \n",
    "counting_months['lag_weeks'] = counting_months.groupby(['FIS_YR_NB'])['weeks_count'].cumsum().shift(fill_value=0) \n",
    "counting_months.loc[counting_months.FIS_MO_NB == 1, 'lag_weeks'] = 0\n",
    "\n",
    "time_ref = time_ref.merge(counting_months, how = 'left', on = ['FIS_YR_NB', 'FIS_MO_NB']).drop_duplicates() \n",
    "\n",
    "counting_months2 = time_ref[['FIS_YR_NB', 'FIS_MO_NB']].drop_duplicates()\n",
    "counting_months2 = counting_months2.reset_index(drop=True)\n",
    "counting_months2['lag_months'] = counting_months2.index   \n",
    "\n",
    "time_ref = time_ref.merge(counting_months2, how = 'left', on = ['FIS_YR_NB', 'FIS_MO_NB']).drop_duplicates() \n",
    "df_time = time_ref.reset_index()"
   ]
  },
  {
   "cell_type": "code",
   "execution_count": 60,
   "metadata": {},
   "outputs": [
    {
     "name": "stdout",
     "output_type": "stream",
     "text": [
      "NTV [0.0029 0.0062 0.01   0.0144 0.0166 0.0192 0.0222 0.0256 0.0295 0.034\n",
      " 0.0391 0.045  0.0517 0.0556 0.0566 0.0546 0.0494 0.0448 0.0405 0.0367\n",
      " 0.0332 0.03   0.0272 0.0246 0.0223 0.0202 0.0183 0.0165 0.015  0.0135\n",
      " 0.0123 0.0111 0.01   0.0091 0.0082 0.0075 0.0067 0.0061 0.0055 0.005\n",
      " 0.0045 0.0041 0.0037 0.0034 0.003  0.0028 0.0025 0.0023 0.002  0.0019\n",
      " 0.0017 0.0015 0.0014 0.0012 0.0011 0.001  0.0009 0.0008 0.0008 0.0007\n",
      " 0.0006 0.0006 0.0005]\n",
      "TTV [0.0029 0.0062 0.01   0.0144 0.0166 0.0192 0.0222 0.0256 0.0295 0.034\n",
      " 0.0391 0.045  0.0517 0.0556 0.0566 0.0546 0.0494 0.0448 0.0405 0.0367\n",
      " 0.0332 0.03   0.0272 0.0246 0.0223 0.0202 0.0183 0.0165 0.015  0.0135\n",
      " 0.0123 0.0111 0.01   0.0091 0.0082 0.0075 0.0067 0.0061 0.0055 0.005\n",
      " 0.0045 0.0041 0.0037 0.0034 0.003  0.0028 0.0025 0.0023 0.002  0.0019\n",
      " 0.0017 0.0015 0.0014 0.0012 0.0011 0.001  0.0009 0.0008 0.0008 0.0007\n",
      " 0.0006 0.0006 0.0005]\n",
      "CTVP [0.0029 0.0062 0.01   0.0144 0.0166 0.0192 0.0222 0.0256 0.0295 0.034\n",
      " 0.0391 0.045  0.0517 0.0556 0.0566 0.0546 0.0494 0.0448 0.0405 0.0367\n",
      " 0.0332 0.03   0.0272 0.0246 0.0223 0.0202 0.0183 0.0165 0.015  0.0135\n",
      " 0.0123 0.0111 0.01   0.0091 0.0082 0.0075 0.0067 0.0061 0.0055 0.005\n",
      " 0.0045 0.0041 0.0037 0.0034 0.003  0.0028 0.0025 0.0023 0.002  0.0019\n",
      " 0.0017 0.0015 0.0014 0.0012    nan    nan    nan    nan    nan    nan\n",
      "    nan    nan    nan]\n",
      "CTVNP [0.0029 0.0062 0.01   0.0144 0.0166 0.0192 0.0222 0.0256 0.0295 0.034\n",
      " 0.0391 0.045  0.0517 0.0556 0.0566 0.0546 0.0494 0.0448 0.0405 0.0367\n",
      " 0.0332 0.03   0.0272 0.0246 0.0223 0.0202 0.0183 0.0165 0.015  0.0135\n",
      " 0.0123 0.0111 0.01   0.0091 0.0082 0.0075 0.0067 0.0061 0.0055 0.005\n",
      " 0.0045 0.0041 0.0037 0.0034 0.003  0.0028 0.0025 0.0023 0.002  0.0019\n",
      " 0.0017 0.0015 0.0014 0.0012 0.0011 0.001  0.0009 0.0008 0.0008 0.0007\n",
      " 0.0006 0.0006 0.0005]\n",
      "DD [0.0029 0.0062 0.01   0.0144 0.0166 0.0192 0.0222 0.0256 0.0295 0.034\n",
      " 0.0391 0.045  0.0517 0.0556 0.0566 0.0546 0.0494 0.0448 0.0405 0.0367\n",
      " 0.0332 0.03   0.0272 0.0246 0.0223 0.0202 0.0183 0.0165 0.015  0.0135\n",
      " 0.0123 0.0111 0.01   0.0091 0.0082 0.0075 0.0067 0.0061 0.0055 0.005\n",
      " 0.0045 0.0041 0.0037 0.0034 0.003  0.0028 0.0025 0.0023 0.002  0.0019\n",
      " 0.0017 0.0015 0.0014 0.0012 0.0011 0.001  0.0009 0.0008    nan    nan\n",
      "    nan    nan    nan]\n",
      "STRP [0.0029 0.0062 0.01   0.0144 0.0166 0.0192 0.0222 0.0256 0.0295 0.034\n",
      " 0.0391 0.045  0.0517 0.0556 0.0566 0.0546 0.0494 0.0448 0.0405 0.0367\n",
      " 0.0332 0.03   0.0272 0.0246 0.0223 0.0202 0.0183 0.0165 0.015  0.0135\n",
      " 0.0123 0.0111 0.01   0.0091 0.0082 0.0075 0.0067 0.0061 0.0055 0.005\n",
      " 0.0045 0.0041 0.0037 0.0034 0.003  0.0028 0.0025 0.0023 0.002  0.0019\n",
      " 0.0017 0.0015 0.0014 0.0012 0.0011 0.001  0.0009 0.0008 0.0008 0.0007\n",
      " 0.0006 0.0006 0.0005]\n",
      "STRNP [0.0029 0.0062 0.01   0.0144 0.0166 0.0192 0.0222 0.0256 0.0295 0.034\n",
      " 0.0391 0.045  0.0517 0.0556 0.0566 0.0546 0.0494 0.0448 0.0405 0.0367\n",
      " 0.0332 0.03   0.0272 0.0246 0.0223 0.0202 0.0183 0.0165 0.015  0.0135\n",
      " 0.0123 0.0111 0.01   0.0091 0.0082 0.0075 0.0067 0.0061 0.0055 0.005\n",
      " 0.0045 0.0041 0.0037 0.0034 0.003  0.0028 0.0025 0.0023 0.002  0.0019\n",
      " 0.0017 0.0015 0.0014 0.0012 0.0011 0.001  0.0009 0.0008 0.0008 0.0007\n",
      " 0.0006 0.0006 0.0005]\n",
      "YOT [0.0029 0.0062 0.01   0.0144 0.0166 0.0192 0.0222 0.0256 0.0295 0.034\n",
      " 0.0391 0.045  0.0517 0.0556 0.0566 0.0546 0.0494 0.0448 0.0405 0.0367\n",
      " 0.0332 0.03   0.0272 0.0246 0.0223 0.0202 0.0183 0.0165 0.015  0.0135\n",
      " 0.0123 0.0111 0.01   0.0091 0.0082 0.0075 0.0067 0.0061 0.0055 0.005\n",
      " 0.0045 0.0041 0.0037 0.0034 0.003  0.0028 0.0025 0.0023 0.002  0.0019\n",
      " 0.0017 0.0015 0.0014 0.0012 0.0011 0.001     nan    nan    nan    nan\n",
      "    nan    nan    nan]\n",
      "CIN [0.0029 0.0062 0.01   0.0144 0.0166 0.0192 0.0222 0.0256 0.0295 0.034\n",
      " 0.0391 0.045  0.0517 0.0556 0.0566 0.0546 0.0494 0.0448 0.0405 0.0367\n",
      " 0.0332 0.03   0.0272 0.0246 0.0223 0.0202 0.0183 0.0165 0.015  0.0135\n",
      " 0.0123 0.0111 0.01   0.0091 0.0082 0.0075 0.0067 0.0061 0.0055 0.005\n",
      " 0.0045 0.0041 0.0037 0.0034 0.003  0.0028 0.0025 0.0023 0.002  0.0019\n",
      " 0.0017 0.0015 0.0014 0.0012 0.0011 0.001  0.0009 0.0008 0.0008 0.0007\n",
      " 0.0006 0.0006 0.0005]\n",
      "DISP [0.0029 0.0062 0.01   0.0144 0.0166 0.0192 0.0222 0.0256 0.0295 0.034\n",
      " 0.0391 0.045  0.0517 0.0556 0.0566 0.0546 0.0494 0.0448 0.0405 0.0367\n",
      " 0.0332 0.03   0.0272 0.0246 0.0223 0.0202 0.0183 0.0165 0.015  0.0135\n",
      " 0.0123 0.0111 0.01   0.0091 0.0082 0.0075 0.0067 0.0061 0.0055 0.005\n",
      " 0.0045 0.0041 0.0037 0.0034 0.003  0.0028 0.0025 0.0023 0.002  0.0019\n",
      " 0.0017 0.0015 0.0014 0.0012 0.0011 0.001  0.0009 0.0008    nan    nan\n",
      "    nan    nan    nan]\n",
      "DISNP [0.0029 0.0062 0.01   0.0144 0.0166 0.0192 0.0222 0.0256 0.0295 0.034\n",
      " 0.0391 0.045  0.0517 0.0556 0.0566 0.0546 0.0494 0.0448 0.0405 0.0367\n",
      " 0.0332 0.03   0.0272 0.0246 0.0223 0.0202 0.0183 0.0165 0.015  0.0135\n",
      " 0.0123 0.0111 0.01   0.0091 0.0082 0.0075 0.0067 0.0061 0.0055 0.005\n",
      " 0.0045 0.0041 0.0037 0.0034 0.003  0.0028 0.0025 0.0023 0.002  0.0019\n",
      " 0.0017 0.0015 0.0014 0.0012 0.0011 0.001  0.0009 0.0008 0.0008 0.0007\n",
      " 0.0006 0.0006 0.0005]\n",
      "SEM [0.0029 0.0062 0.01   0.0144 0.0166 0.0192 0.0222 0.0256 0.0295 0.034\n",
      " 0.0391 0.045  0.0517 0.0556 0.0566 0.0546 0.0494 0.0448 0.0405 0.0367\n",
      " 0.0332 0.03   0.0272 0.0246 0.0223 0.0202 0.0183 0.0165 0.015  0.0135\n",
      " 0.0123 0.0111 0.01   0.0091 0.0082 0.0075 0.0067 0.0061 0.0055 0.005\n",
      " 0.0045 0.0041 0.0037 0.0034 0.003  0.0028 0.0025 0.0023 0.002  0.0019\n",
      " 0.0017 0.0015 0.0014 0.0012 0.0011 0.001  0.0009 0.0008 0.0008 0.0007\n",
      " 0.0006 0.0006 0.0005]\n",
      "PAID_SOCIAL [0.0029 0.0062 0.01   0.0144 0.0166 0.0192 0.0222 0.0256 0.0295 0.034\n",
      " 0.0391 0.045  0.0517 0.0556 0.0566 0.0546 0.0494 0.0448 0.0405 0.0367\n",
      " 0.0332 0.03   0.0272 0.0246 0.0223 0.0202 0.0183 0.0165 0.015  0.0135\n",
      " 0.0123 0.0111 0.01   0.0091 0.0082 0.0075 0.0067 0.0061 0.0055 0.005\n",
      " 0.0045 0.0041 0.0037 0.0034 0.003  0.0028 0.0025 0.0023 0.002  0.0019\n",
      " 0.0017 0.0015 0.0014 0.0012 0.0011 0.001  0.0009 0.0008 0.0008 0.0007\n",
      " 0.0006 0.0006 0.0005]\n",
      "DCI [0.0029 0.0062 0.01   0.0144 0.0166 0.0192 0.0222 0.0256 0.0295 0.034\n",
      " 0.0391 0.045  0.0517 0.0556 0.0566 0.0546 0.0494 0.0448 0.0405 0.0367\n",
      " 0.0332 0.03   0.0272 0.0246 0.0223 0.0202 0.0183 0.0165 0.015  0.0135\n",
      " 0.0123 0.0111 0.01   0.0091 0.0082 0.0075 0.0067 0.0061 0.0055 0.005\n",
      " 0.0045 0.0041 0.0037 0.0034 0.003  0.0028 0.0025 0.0023 0.002  0.0019\n",
      " 0.0017 0.0015 0.0014 0.0012 0.0011 0.001  0.0009 0.0008 0.0008 0.0007\n",
      " 0.0006 0.0006 0.0005]\n",
      "DRD [0.0029 0.0062 0.01   0.0144 0.0166 0.0192 0.0222 0.0256 0.0295 0.034\n",
      " 0.0391 0.045  0.0517 0.0556 0.0566 0.0546 0.0494 0.0448 0.0405 0.0367\n",
      " 0.0332 0.03   0.0272 0.0246 0.0223 0.0202 0.0183 0.0165 0.015  0.0135\n",
      " 0.0123 0.0111 0.01   0.0091 0.0082 0.0075 0.0067 0.0061 0.0055 0.005\n",
      " 0.0045 0.0041 0.0037 0.0034 0.003  0.0028 0.0025 0.0023 0.002  0.0019\n",
      " 0.0017 0.0015 0.0014 0.0012 0.0011 0.001     nan    nan    nan    nan\n",
      "    nan    nan    nan]\n"
     ]
    }
   ],
   "source": [
    "# Media timing file\n",
    "# **********************************************************************************\n",
    "file_path = f\"{parent_path}\\\\data\\\\{region_name}\\\\input_mediaTiming.csv\"\n",
    "df_curve  = pd.read_csv(file_path)\n",
    "media_list = df_curve.columns\n",
    "\n",
    "\n",
    "filler = []\n",
    "for x in df_curve.columns:\n",
    "    shard = np.zeros(104)\n",
    "    values = df_curve[x].values\n",
    "    print(x, values)\n",
    "    shard[:len(values)] = values\n",
    "    filler.append(shard)\n",
    "df_curve = pd.DataFrame(np.array(filler).T, columns=df_curve.columns)\n",
    "df_curve = df_curve.loc[~(df_curve == 0).all(axis=1)]\n",
    "df_curve = df_curve.fillna(0) \n",
    "\n",
    "# Media parameters file\n",
    "# **********************************************************************************\n",
    "file_path = f\"{parent_path}\\\\data\\\\{region_name}\\\\input_300pct.csv\"\n",
    "df_params  = pd.read_csv(file_path)\n",
    "names = list(df_params.columns)\n",
    "names2 = [s.replace(\"FABING\", \"ING\") for s in names]\n",
    "names2 = [s.replace(\"DIS_BAN\", \"BAN\") for s in names2]\n",
    "names2 = [s.replace(\"DIS_AFF\", \"AFF\") for s in names2]\n",
    "names2 = [s.replace(\"TlncT\", \"TIncT\") for s in names2]\n",
    "df_params.columns = names2"
   ]
  },
  {
   "cell_type": "code",
   "execution_count": 46,
   "metadata": {},
   "outputs": [],
   "source": [
    "def processing_spend_df(file_path):\n",
    "    data = pd.read_csv(file_path)\n",
    "\n",
    "    data = data.T.iloc[1:, :]\n",
    "    data.columns = media_mapping.keys()\n",
    "    data.reset_index(inplace=True)\n",
    "    data.rename(columns={'index': 'FIS_MO_NB'}, inplace=True)\n",
    "    data['FIS_MO_NB'] = np.arange(1, 13)\n",
    "    return data\n",
    "\n",
    "\n",
    "scenario1 = processing_spend_df(f\"{parent_path}\\\\samples\\WDW Demo\\WDW_FY24.csv\")\n",
    "scenario2 = processing_spend_df(f\"{parent_path}\\\\samples\\WDW Demo\\WDW_FY24_110.csv\")\n",
    "base_year = scenario1\n"
   ]
  },
  {
   "cell_type": "markdown",
   "metadata": {},
   "source": [
    "# Mature Functions"
   ]
  },
  {
   "cell_type": "code",
   "execution_count": 47,
   "metadata": {},
   "outputs": [],
   "source": [
    "def focal_check(X, spend_data, month, threshold):\n",
    "    M_P_X_col = spend_prefix + X\n",
    "    Inc_X_col = inc_prefix + X\n",
    "\n",
    "    spend_array = spend_data[X].values\n",
    "    S_total = spend_array.sum()\n",
    "    benchmark_spend = 3 * S_total / np.count_nonzero(spend_array)\n",
    "\n",
    "    # Handle the case when total spending is zero to avoid division by zero\n",
    "    if S_total == 0:\n",
    "        spend_percentages = np.zeros_like(spend_array)\n",
    "    else:\n",
    "        # Compute the percentage of total spend per month\n",
    "        spend_percentages = spend_array / S_total\n",
    "    multiplier = np.sum(spend_percentages >= (threshold / 100))\n",
    "\n",
    "    m = spend_array[month - 1]\n",
    "    M = min(m, benchmark_spend) * multiplier\n",
    "\n",
    "    idx_closest = (np.abs(df_params[M_P_X_col] - M)).idxmin()\n",
    "    M300 = df_params[M_P_X_col].iloc[idx_closest]\n",
    "    Y300 = df_params[Inc_X_col].iloc[idx_closest]\n",
    "    CPT300 = df_params[cpt_prefix + X].iloc[idx_closest]\n",
    "    MA = df_params[minc_prefix + X].iloc[idx_closest]\n",
    "    delta = df_params.at[idx_closest, 'Pct_Delta']\n",
    "    MC =  delta * M\n",
    "\n",
    "    y1 = Y300 / multiplier\n",
    "    y2 = m / CPT300\n",
    "\n",
    "    print(X, \"at Month\", month)\n",
    "    print(\"multiplier = \", multiplier)\n",
    "    print(\"monthly spend = \", m)\n",
    "    print(\"benchmark spend = \", benchmark_spend)\n",
    "    print(f\"Annual index = {idx_closest}, Annual spend = {M}, Annual spend on table = {M300}\")\n",
    "    print(f\"Closest M300: {M300}, Y300: {Y300}, CPT300: {CPT300}, MA: {MA}, MC: {MC}, delta: {delta}\")\n",
    "    print(\"y1 = \", y1, \"y2 = \", y2)\n",
    "\n",
    "    return y2"
   ]
  },
  {
   "cell_type": "code",
   "execution_count": 48,
   "metadata": {},
   "outputs": [],
   "source": [
    "def compute_reward_X(X, spend_data, planning_year, threshold):\n",
    "    \"\"\"\n",
    "    Compute the rewards over a 104-week period for a given media type and calculate\n",
    "    marginal increments and costs, with an updated multiplier calculation based on a threshold.\n",
    "\n",
    "    Args:\n",
    "        X (str): The media type (e.g., \"X1\").\n",
    "        spend_data (pd.DataFrame): DataFrame containing spending data with columns:\n",
    "            - 'FIS_MO_NB': Fiscal month number.\n",
    "            - Media spending columns (e.g., 'X1', 'X2', 'X3').\n",
    "        planning_year (int): The fiscal year of the current spending plan.\n",
    "        threshold (float): A value between 0 and 100. Months with spending percentage\n",
    "            greater than threshold/100 will be counted towards the multiplier.\n",
    "\n",
    "    Returns:\n",
    "        tuple: A tuple containing:\n",
    "            - reward_df (pd.DataFrame): DataFrame of shape (104, 13) with the reward curves.\n",
    "            - minc_X (float): Total marginal rewards for media X over 12 months.\n",
    "            - mc_X (float): Total marginal costs for media X over 12 months.\n",
    "    \"\"\"\n",
    "    # Ensure global access to necessary dataframes\n",
    "    global df_curve, df_params, df_time\n",
    "\n",
    "    # ================================================================================================================\n",
    "    # Step 1: Extract the spending array and compute the multiplier\n",
    "    # ================================================================================================================\n",
    "    spend_array = spend_data[X].values  # Spending for media X over 12 months\n",
    "    # Compute total spending S_total\n",
    "    S_total = spend_array.sum()\n",
    "    benchmark_spend = 3 * S_total / np.count_nonzero(spend_array) # Compute the benchmark, or upper bound, for monthly spending\n",
    "\n",
    "    # Handle the case when total spending is zero to avoid division by zero\n",
    "    if S_total == 0:\n",
    "        spend_percentages = np.zeros_like(spend_array)\n",
    "    else:\n",
    "        # Compute the percentage of total spend per month\n",
    "        spend_percentages = spend_array / S_total\n",
    "\n",
    "    # Compute the multiplier based on the threshold\n",
    "    multiplier = np.sum(spend_percentages >= (threshold / 100))\n",
    "\n",
    "    # If multiplier is zero, set it to 1 to avoid division by zero later\n",
    "    if multiplier == 0:\n",
    "        multiplier = 1\n",
    "\n",
    "    # ================================================================================================================\n",
    "    # Step 2: Compute the timing stuff\n",
    "    # ================================================================================================================\n",
    "    # Prepare a list to hold the 104-length arrays for each month\n",
    "    monthly_arrays = []\n",
    "\n",
    "    # Get fiscal years and months from spend_data\n",
    "    fiscal_months = spend_data.FIS_MO_NB.values.flatten()\n",
    "\n",
    "    # Filter df_time for the relevant fiscal year\n",
    "    df_time_filtered = df_time[df_time['FIS_YR_NB'] == planning_year]\n",
    "\n",
    "    # Group by fiscal month and count the number of weeks in each month\n",
    "    weeks_in_month = df_time_filtered.groupby('FIS_MO_NB')['FIS_WK_NB'].nunique()\n",
    "    weeks_in_month = weeks_in_month.reindex(range(1, 13), fill_value=0)\n",
    "\n",
    "    # Compute cumulative weeks to determine the starting week for each month\n",
    "    cumulative_weeks = weeks_in_month.cumsum()\n",
    "    start_weeks = [0] + cumulative_weeks.values.tolist()[:-1]\n",
    "\n",
    "    timeline = df_time[df_time.FIS_YR_NB.between(planning_year, planning_year + 2)].shape[0]\n",
    "    timeline = np.zeros(timeline)\n",
    "\n",
    "    # Initialize total marginal increments and costs\n",
    "    minc_X = 0.0\n",
    "    mc_X = 0.0\n",
    "\n",
    "    # ================================================================================================================\n",
    "    # Loop over each month to compute the rewards\n",
    "    # ================================================================================================================\n",
    "    for idx, S_mo in enumerate(spend_array):\n",
    "        fiscal_month = fiscal_months[idx]\n",
    "\n",
    "        if S_mo == 0:\n",
    "            # If the spending is zero, append an array of zeros\n",
    "            monthly_array = timeline.copy()  # Create a an array of all 0s\n",
    "            monthly_arrays.append(monthly_array)\n",
    "            continue\n",
    "\n",
    "        # Step 2: Calculate annualized spending and find the closest match in df_params\n",
    "        S_yr = min(S_mo, benchmark_spend) * multiplier\n",
    "        M_P_X_col = spend_prefix + X\n",
    "        TIncT_P_X_col = inc_prefix + X\n",
    "        nMTIncT_P_X_col = minc_prefix + X  # Marginal rewards column\n",
    "        Pct_Delta_col = 'Pct_Delta'   \n",
    "\n",
    "        # Find the index of the closest spending value in df_params\n",
    "        idx_closest = (np.abs(df_params[M_P_X_col] - S_yr)).idxmin()\n",
    "\n",
    "        if idx_closest == 0:\n",
    "            reward_mo = 0\n",
    "        else:\n",
    "            cpt_yr = df_params[cpt_prefix + X].iloc[idx_closest]\n",
    "            reward_mo = S_mo / cpt_yr\n",
    "\n",
    "        # Calculate minc_mo and mc_mo for marginal cost per reward\n",
    "        minc_mo = df_params.at[idx_closest, nMTIncT_P_X_col]\n",
    "        mc_mo = df_params.at[idx_closest, Pct_Delta_col] * S_yr\n",
    "        # mc_mo = 0.001 * S_yr\n",
    "\n",
    "\n",
    "        # Accumulate total marginal increments and costs\n",
    "        minc_X += minc_mo\n",
    "        mc_X += mc_mo\n",
    "\n",
    "        # Step 3: Generate the reward curve for the month\n",
    "        timing_curve = df_curve[X].values  # Timing curve of length 52\n",
    "        monthly_reward_curve = reward_mo * timing_curve\n",
    "        # monthly_arrays.append(monthly_reward_curve)\n",
    "\n",
    "        # Step 4: Create a 3yr-length array with appropriate leading zeros\n",
    "        start_week = start_weeks[fiscal_month - 1]\n",
    "        end_week = start_week + len(monthly_reward_curve) \n",
    "\n",
    "        monthly_array = timeline.copy()  \n",
    "        monthly_array[start_week:end_week] = monthly_reward_curve \n",
    "        monthly_arrays.append(monthly_array)\n",
    "    \n",
    "    \n",
    "    # # #Aggregate the monthly arrays into a final reward curve\n",
    "    # # monthly_arrays = [arr[:len(timeline)] for arr in monthly_arrays]  # Ensure each array is at most 104 elements\n",
    "    # # # Pad any shorter arrays to exactly 104 elements\n",
    "    # # monthly_arrays = [np.pad(arr, (0, len(timeline) - len(arr)), 'constant') if len(arr) < len(timeline) else arr for arr in monthly_arrays]\n",
    "    reward_X = np.sum(monthly_arrays, axis=0)\n",
    "\n",
    "\n",
    "    # Construct the output DataFrame\n",
    "    columns = [f'Month_{i+1}' for i in range(12)] + ['aggregated']\n",
    "    data = np.column_stack(monthly_arrays + [reward_X])\n",
    "    reward_df = pd.DataFrame(data, columns=columns)\n",
    "\n",
    "    return reward_df, minc_X, mc_X\n",
    "\n",
    "\n"
   ]
  },
  {
   "cell_type": "code",
   "execution_count": 49,
   "metadata": {},
   "outputs": [],
   "source": [
    "def exmaine_media(media, spend_plan, year, ratio):\n",
    "    time = df_time[df_time.FIS_YR_NB.between(year, year + 2)][['FIS_YR_NB', 'FIS_WK_NB', 'FIS_MO_NB']]\n",
    "    time[\"Month\"] = time['FIS_YR_NB'].astype(str) + '-' + time['FIS_MO_NB'].astype(str)\n",
    "\n",
    "\n",
    "    time2 =  df_time[df_time.FIS_YR_NB.between(year, year + 2)][['FIS_YR_NB', 'FIS_MO_NB']] .drop_duplicates()\n",
    "    time2 = time2.reset_index(drop=True)\n",
    "    time2.reset_index(inplace=True)\n",
    "    time = time2.merge(time, how='left', on=['FIS_YR_NB', 'FIS_MO_NB'])\n",
    "\n",
    "    check = compute_reward_X(media, spend_plan, year, ratio)[0]\n",
    "    items = check.columns\n",
    "    check['Month'] = time['Month'].values\n",
    "    check['Ind'] = time['index'].values\n",
    "    check.sort_values(by=['Ind'], inplace=True)\n",
    "\n",
    "    check = check.groupby(['Ind', 'Month'])[items].sum().reset_index()\n",
    "    check.iloc[:, 1:] = np.round(check.iloc[:, 1:], 1)\n",
    "    return check"
   ]
  },
  {
   "cell_type": "code",
   "execution_count": 50,
   "metadata": {},
   "outputs": [],
   "source": [
    "def compute_plan_reward(spend_data, planning_year, lead_years, lag_years, threshold):\n",
    "    \"\"\"\n",
    "    Compute the reward curves for all medias over an extended time frame, broken down by month and aggregated.\n",
    "\n",
    "    Args:\n",
    "        spend_data (pd.DataFrame): DataFrame containing spending data with columns:\n",
    "            - 'FIS_MO_NB': Fiscal month number.\n",
    "            - Media spending columns (e.g., 'X1', 'X2', 'X3').\n",
    "        lead_years (int): Number of years to add as leading zeros.\n",
    "        lag_years (int): Number of years to add as trailing zeros.2\n",
    "        planning_year (int): The fiscal year of the current spending plan.\n",
    "        threshold (float): Threshold value for reward calculations.\n",
    "\n",
    "    Returns:\n",
    "        list: A list of 13 numpy arrays:\n",
    "            - First 12 arrays represent the monthly rewards summed across all media\n",
    "            - Last array represents the aggregated rewards summed across all media\n",
    "            Each array includes leading and trailing zeros.\n",
    "    \"\"\"\n",
    "    # Ensure global access to necessary dataframes\n",
    "    # global df_curve, df_params, df_time\n",
    "\n",
    "    # Step 1: Get the list of media columns from spend_data\n",
    "    medias = spend_data.columns.tolist()[1:]\n",
    "\n",
    "    # Initialize lists to store the monthly and aggregated reward arrays\n",
    "    monthly_rewards = [[] for _ in range(12)]  # One list for each month\n",
    "    aggregated_rewards = []  # List for aggregated rewards\n",
    "\n",
    "    # Loop over each media to compute its reward curves\n",
    "    for media in medias:\n",
    "        # Extract spending data for the media\n",
    "        media_spend_data = spend_data[['FIS_MO_NB', media]]\n",
    "\n",
    "        # Call compute_reward_X for the current media\n",
    "        reward_df = compute_reward_X(media, media_spend_data, planning_year, threshold)[0]\n",
    "\n",
    "        # Extract monthly columns and aggregated column\n",
    "        for month in range(12):\n",
    "            month_col = f'Month_{month+1}'\n",
    "            monthly_rewards[month].append(reward_df[month_col].values)\n",
    "        \n",
    "        # Extract and store aggregated rewards\n",
    "        aggregated_rewards.append(reward_df['aggregated'].values)\n",
    "\n",
    "    # Step 2: Sum the reward arrays across all media for each month and aggregated\n",
    "    summed_monthly_rewards = [np.sum(month_arrays, axis=0) for month_arrays in monthly_rewards]\n",
    "    summed_aggregated_rewards = np.sum(aggregated_rewards, axis=0)\n",
    "\n",
    "    # Step 3: Add leading and trailing zeros to each array\n",
    "    leading_zeros = np.zeros(lead_years * 52)\n",
    "    trailing_zeros = np.zeros(lag_years * 52)\n",
    "\n",
    "    # Create final list of extended arrays (12 monthly + 1 aggregated)\n",
    "    extended_reward_curves = []\n",
    "    \n",
    "    # Process monthly arrays\n",
    "    for monthly_reward in summed_monthly_rewards:\n",
    "        extended_monthly = np.concatenate([leading_zeros, monthly_reward, trailing_zeros])\n",
    "        extended_reward_curves.append(extended_monthly)\n",
    "    \n",
    "    # Process aggregated array\n",
    "    extended_aggregated = np.concatenate([leading_zeros, summed_aggregated_rewards, trailing_zeros])\n",
    "    extended_reward_curves.append(extended_aggregated)\n",
    "\n",
    "    return extended_reward_curves\n"
   ]
  },
  {
   "cell_type": "code",
   "execution_count": 51,
   "metadata": {},
   "outputs": [],
   "source": [
    "def plan_forecast_craft(spend_data, planning_year, lead_years, lag_years, cutoff):\n",
    "    \"\"\"\n",
    "    Generate monthly and quarterly forecast tables based on spending data and reward calculations.\n",
    "\n",
    "    Args:\n",
    "        spend_data (pd.DataFrame): DataFrame containing spending data with columns:\n",
    "            - 'FIS_MO_NB': Fiscal month number.\n",
    "            - Media spending columns (e.g., 'NTV', 'ING', 'STR').\n",
    "        planning_year (int): The fiscal year of the current spending plan.\n",
    "        lead_years (int): Number of years to add as leading zeros.\n",
    "        lag_years (int): Number of years to add as trailing zeros.\n",
    "        cutoff (float): Threshold value for reward calculations.\n",
    "\n",
    "    Returns:\n",
    "        tuple: A tuple containing:\n",
    "            - craft_mo (pd.DataFrame): DataFrame with monthly forecast data.\n",
    "            - craft_qtr (pd.DataFrame): DataFrame with quarterly forecast data.\n",
    "    \"\"\"\n",
    "    df_time_scenario = df_time[df_time['FIS_YR_NB'].between(planning_year - lead_years, planning_year + lag_years)]\n",
    "    weekly_table = df_time_scenario[['FIS_WK_END_DT', 'FIS_YR_NB', 'FIS_QTR_NB', 'FIS_MO_NB']]\n",
    "    results = compute_plan_reward(spend_data, planning_year, lead_years, lag_years, cutoff)\n",
    "\n",
    "    names = []\n",
    "    for i in range(len(results)-1):\n",
    "        serl = list(results[i])\n",
    "        if len(serl) < weekly_table.shape[0]:\n",
    "            serl = serl + [0] * (weekly_table.shape[0] - len(serl))\n",
    "        if len(serl) > weekly_table.shape[0]:\n",
    "            serl = serl[:weekly_table.shape[0]]\n",
    "        col_name = str(planning_year) + ' ' + months_abbv[i]\n",
    "        names.append(col_name)\n",
    "        weekly_table[col_name] = serl\n",
    "\n",
    "    # Monthly Table\n",
    "    # ================================================================================================================\n",
    "    monthly_table = weekly_table.groupby(['FIS_YR_NB', 'FIS_MO_NB'])[names].sum().reset_index()\n",
    "    rewards = monthly_table.iloc[:, 2:].values.T\n",
    "    monthly_table.FIS_MO_NB.replace(dict(zip(range(1, 13), months_abbv)), inplace=True) \n",
    "    monthly_table['timeline'] = monthly_table.FIS_YR_NB.astype(str) + \" \" + monthly_table.FIS_MO_NB.astype(str) \n",
    "    \n",
    "    shard1 = pd.DataFrame({'Spending Month': names, \"Spend\": spend_data.iloc[:, 1:].sum(axis = 1).values})\n",
    "    shard2 = pd.DataFrame(rewards)\n",
    "    shard2.columns = monthly_table['timeline'].values\n",
    "    craft_mo = pd.concat([shard1, shard2], axis=1) \n",
    "\n",
    "\n",
    "    # Monthly Table\n",
    "    # ================================================================================================================\n",
    "    quarter_table = weekly_table.groupby(['FIS_YR_NB', 'FIS_QTR_NB'])[names].sum().reset_index()\n",
    "    rewards = quarter_table.iloc[:, 2:].values.T \n",
    "    rewards = rewards.reshape(4, 3, -1) # Turning monthly tracking into quarterly tracking\n",
    "    rewards = rewards.sum(axis = 1)\n",
    "    quarter_table.FIS_QTR_NB = quarter_table.FIS_QTR_NB.astype(str)\n",
    "    quarter_table['timeline'] = quarter_table.FIS_YR_NB.astype(str) + \" Q\" + quarter_table.FIS_QTR_NB.astype(str)\n",
    "\n",
    "    names = [str(planning_year) + \" Q\" + str(x) for x in range(1, 5)]\n",
    "    shard1 = pd.DataFrame({'Spending Quarter': names, \n",
    "                           \"Spend\": spend_data.iloc[:, 1:].values.sum(axis = 1).reshape(4, 3).sum(axis = 1)})\n",
    "    shard2 = pd.DataFrame(rewards)\n",
    "    shard2.columns = quarter_table['timeline'].values\n",
    "    craft_qtr = pd.concat([shard1, shard2], axis=1) \n",
    "\n",
    "\n",
    "    return craft_mo, craft_qtr\n",
    "    "
   ]
  },
  {
   "cell_type": "code",
   "execution_count": 55,
   "metadata": {},
   "outputs": [
    {
     "data": {
      "text/html": [
       "<div>\n",
       "<style scoped>\n",
       "    .dataframe tbody tr th:only-of-type {\n",
       "        vertical-align: middle;\n",
       "    }\n",
       "\n",
       "    .dataframe tbody tr th {\n",
       "        vertical-align: top;\n",
       "    }\n",
       "\n",
       "    .dataframe thead th {\n",
       "        text-align: right;\n",
       "    }\n",
       "</style>\n",
       "<table border=\"1\" class=\"dataframe\">\n",
       "  <thead>\n",
       "    <tr style=\"text-align: right;\">\n",
       "      <th></th>\n",
       "      <th>NTV</th>\n",
       "      <th>TTV</th>\n",
       "      <th>CTVP</th>\n",
       "      <th>CTVNP</th>\n",
       "      <th>DD</th>\n",
       "      <th>STRP</th>\n",
       "      <th>STRNP</th>\n",
       "      <th>YOT</th>\n",
       "      <th>CIN</th>\n",
       "      <th>DISP</th>\n",
       "      <th>DISNP</th>\n",
       "      <th>SEM</th>\n",
       "      <th>PAID_SOCIAL</th>\n",
       "      <th>DCI</th>\n",
       "      <th>DRD</th>\n",
       "    </tr>\n",
       "  </thead>\n",
       "  <tbody>\n",
       "    <tr>\n",
       "      <th>0</th>\n",
       "      <td>0.0029</td>\n",
       "      <td>0.0029</td>\n",
       "      <td>0.0029</td>\n",
       "      <td>0.0029</td>\n",
       "      <td>0.0029</td>\n",
       "      <td>0.0029</td>\n",
       "      <td>0.0029</td>\n",
       "      <td>0.0029</td>\n",
       "      <td>0.0029</td>\n",
       "      <td>0.0029</td>\n",
       "      <td>0.0029</td>\n",
       "      <td>0.0029</td>\n",
       "      <td>0.0029</td>\n",
       "      <td>0.0029</td>\n",
       "      <td>0.0029</td>\n",
       "    </tr>\n",
       "    <tr>\n",
       "      <th>1</th>\n",
       "      <td>0.0062</td>\n",
       "      <td>0.0062</td>\n",
       "      <td>0.0062</td>\n",
       "      <td>0.0062</td>\n",
       "      <td>0.0062</td>\n",
       "      <td>0.0062</td>\n",
       "      <td>0.0062</td>\n",
       "      <td>0.0062</td>\n",
       "      <td>0.0062</td>\n",
       "      <td>0.0062</td>\n",
       "      <td>0.0062</td>\n",
       "      <td>0.0062</td>\n",
       "      <td>0.0062</td>\n",
       "      <td>0.0062</td>\n",
       "      <td>0.0062</td>\n",
       "    </tr>\n",
       "    <tr>\n",
       "      <th>2</th>\n",
       "      <td>0.0100</td>\n",
       "      <td>0.0100</td>\n",
       "      <td>0.0100</td>\n",
       "      <td>0.0100</td>\n",
       "      <td>0.0100</td>\n",
       "      <td>0.0100</td>\n",
       "      <td>0.0100</td>\n",
       "      <td>0.0100</td>\n",
       "      <td>0.0100</td>\n",
       "      <td>0.0100</td>\n",
       "      <td>0.0100</td>\n",
       "      <td>0.0100</td>\n",
       "      <td>0.0100</td>\n",
       "      <td>0.0100</td>\n",
       "      <td>0.0100</td>\n",
       "    </tr>\n",
       "    <tr>\n",
       "      <th>3</th>\n",
       "      <td>0.0144</td>\n",
       "      <td>0.0144</td>\n",
       "      <td>0.0144</td>\n",
       "      <td>0.0144</td>\n",
       "      <td>0.0144</td>\n",
       "      <td>0.0144</td>\n",
       "      <td>0.0144</td>\n",
       "      <td>0.0144</td>\n",
       "      <td>0.0144</td>\n",
       "      <td>0.0144</td>\n",
       "      <td>0.0144</td>\n",
       "      <td>0.0144</td>\n",
       "      <td>0.0144</td>\n",
       "      <td>0.0144</td>\n",
       "      <td>0.0144</td>\n",
       "    </tr>\n",
       "    <tr>\n",
       "      <th>4</th>\n",
       "      <td>0.0166</td>\n",
       "      <td>0.0166</td>\n",
       "      <td>0.0166</td>\n",
       "      <td>0.0166</td>\n",
       "      <td>0.0166</td>\n",
       "      <td>0.0166</td>\n",
       "      <td>0.0166</td>\n",
       "      <td>0.0166</td>\n",
       "      <td>0.0166</td>\n",
       "      <td>0.0166</td>\n",
       "      <td>0.0166</td>\n",
       "      <td>0.0166</td>\n",
       "      <td>0.0166</td>\n",
       "      <td>0.0166</td>\n",
       "      <td>0.0166</td>\n",
       "    </tr>\n",
       "    <tr>\n",
       "      <th>...</th>\n",
       "      <td>...</td>\n",
       "      <td>...</td>\n",
       "      <td>...</td>\n",
       "      <td>...</td>\n",
       "      <td>...</td>\n",
       "      <td>...</td>\n",
       "      <td>...</td>\n",
       "      <td>...</td>\n",
       "      <td>...</td>\n",
       "      <td>...</td>\n",
       "      <td>...</td>\n",
       "      <td>...</td>\n",
       "      <td>...</td>\n",
       "      <td>...</td>\n",
       "      <td>...</td>\n",
       "    </tr>\n",
       "    <tr>\n",
       "      <th>58</th>\n",
       "      <td>0.0008</td>\n",
       "      <td>0.0008</td>\n",
       "      <td>NaN</td>\n",
       "      <td>0.0008</td>\n",
       "      <td>NaN</td>\n",
       "      <td>0.0008</td>\n",
       "      <td>0.0008</td>\n",
       "      <td>NaN</td>\n",
       "      <td>0.0008</td>\n",
       "      <td>NaN</td>\n",
       "      <td>0.0008</td>\n",
       "      <td>0.0008</td>\n",
       "      <td>0.0008</td>\n",
       "      <td>0.0008</td>\n",
       "      <td>NaN</td>\n",
       "    </tr>\n",
       "    <tr>\n",
       "      <th>59</th>\n",
       "      <td>0.0007</td>\n",
       "      <td>0.0007</td>\n",
       "      <td>NaN</td>\n",
       "      <td>0.0007</td>\n",
       "      <td>NaN</td>\n",
       "      <td>0.0007</td>\n",
       "      <td>0.0007</td>\n",
       "      <td>NaN</td>\n",
       "      <td>0.0007</td>\n",
       "      <td>NaN</td>\n",
       "      <td>0.0007</td>\n",
       "      <td>0.0007</td>\n",
       "      <td>0.0007</td>\n",
       "      <td>0.0007</td>\n",
       "      <td>NaN</td>\n",
       "    </tr>\n",
       "    <tr>\n",
       "      <th>60</th>\n",
       "      <td>0.0006</td>\n",
       "      <td>0.0006</td>\n",
       "      <td>NaN</td>\n",
       "      <td>0.0006</td>\n",
       "      <td>NaN</td>\n",
       "      <td>0.0006</td>\n",
       "      <td>0.0006</td>\n",
       "      <td>NaN</td>\n",
       "      <td>0.0006</td>\n",
       "      <td>NaN</td>\n",
       "      <td>0.0006</td>\n",
       "      <td>0.0006</td>\n",
       "      <td>0.0006</td>\n",
       "      <td>0.0006</td>\n",
       "      <td>NaN</td>\n",
       "    </tr>\n",
       "    <tr>\n",
       "      <th>61</th>\n",
       "      <td>0.0006</td>\n",
       "      <td>0.0006</td>\n",
       "      <td>NaN</td>\n",
       "      <td>0.0006</td>\n",
       "      <td>NaN</td>\n",
       "      <td>0.0006</td>\n",
       "      <td>0.0006</td>\n",
       "      <td>NaN</td>\n",
       "      <td>0.0006</td>\n",
       "      <td>NaN</td>\n",
       "      <td>0.0006</td>\n",
       "      <td>0.0006</td>\n",
       "      <td>0.0006</td>\n",
       "      <td>0.0006</td>\n",
       "      <td>NaN</td>\n",
       "    </tr>\n",
       "    <tr>\n",
       "      <th>62</th>\n",
       "      <td>0.0005</td>\n",
       "      <td>0.0005</td>\n",
       "      <td>NaN</td>\n",
       "      <td>0.0005</td>\n",
       "      <td>NaN</td>\n",
       "      <td>0.0005</td>\n",
       "      <td>0.0005</td>\n",
       "      <td>NaN</td>\n",
       "      <td>0.0005</td>\n",
       "      <td>NaN</td>\n",
       "      <td>0.0005</td>\n",
       "      <td>0.0005</td>\n",
       "      <td>0.0005</td>\n",
       "      <td>0.0005</td>\n",
       "      <td>NaN</td>\n",
       "    </tr>\n",
       "  </tbody>\n",
       "</table>\n",
       "<p>63 rows × 15 columns</p>\n",
       "</div>"
      ],
      "text/plain": [
       "       NTV     TTV    CTVP   CTVNP      DD    STRP   STRNP     YOT     CIN  \\\n",
       "0   0.0029  0.0029  0.0029  0.0029  0.0029  0.0029  0.0029  0.0029  0.0029   \n",
       "1   0.0062  0.0062  0.0062  0.0062  0.0062  0.0062  0.0062  0.0062  0.0062   \n",
       "2   0.0100  0.0100  0.0100  0.0100  0.0100  0.0100  0.0100  0.0100  0.0100   \n",
       "3   0.0144  0.0144  0.0144  0.0144  0.0144  0.0144  0.0144  0.0144  0.0144   \n",
       "4   0.0166  0.0166  0.0166  0.0166  0.0166  0.0166  0.0166  0.0166  0.0166   \n",
       "..     ...     ...     ...     ...     ...     ...     ...     ...     ...   \n",
       "58  0.0008  0.0008     NaN  0.0008     NaN  0.0008  0.0008     NaN  0.0008   \n",
       "59  0.0007  0.0007     NaN  0.0007     NaN  0.0007  0.0007     NaN  0.0007   \n",
       "60  0.0006  0.0006     NaN  0.0006     NaN  0.0006  0.0006     NaN  0.0006   \n",
       "61  0.0006  0.0006     NaN  0.0006     NaN  0.0006  0.0006     NaN  0.0006   \n",
       "62  0.0005  0.0005     NaN  0.0005     NaN  0.0005  0.0005     NaN  0.0005   \n",
       "\n",
       "      DISP   DISNP     SEM  PAID_SOCIAL     DCI     DRD  \n",
       "0   0.0029  0.0029  0.0029       0.0029  0.0029  0.0029  \n",
       "1   0.0062  0.0062  0.0062       0.0062  0.0062  0.0062  \n",
       "2   0.0100  0.0100  0.0100       0.0100  0.0100  0.0100  \n",
       "3   0.0144  0.0144  0.0144       0.0144  0.0144  0.0144  \n",
       "4   0.0166  0.0166  0.0166       0.0166  0.0166  0.0166  \n",
       "..     ...     ...     ...          ...     ...     ...  \n",
       "58     NaN  0.0008  0.0008       0.0008  0.0008     NaN  \n",
       "59     NaN  0.0007  0.0007       0.0007  0.0007     NaN  \n",
       "60     NaN  0.0006  0.0006       0.0006  0.0006     NaN  \n",
       "61     NaN  0.0006  0.0006       0.0006  0.0006     NaN  \n",
       "62     NaN  0.0005  0.0005       0.0005  0.0005     NaN  \n",
       "\n",
       "[63 rows x 15 columns]"
      ]
     },
     "execution_count": 55,
     "metadata": {},
     "output_type": "execute_result"
    }
   ],
   "source": [
    "df_curve"
   ]
  },
  {
   "cell_type": "code",
   "execution_count": 62,
   "metadata": {},
   "outputs": [
    {
     "data": {
      "text/html": [
       "<div>\n",
       "<style scoped>\n",
       "    .dataframe tbody tr th:only-of-type {\n",
       "        vertical-align: middle;\n",
       "    }\n",
       "\n",
       "    .dataframe tbody tr th {\n",
       "        vertical-align: top;\n",
       "    }\n",
       "\n",
       "    .dataframe thead th {\n",
       "        text-align: right;\n",
       "    }\n",
       "</style>\n",
       "<table border=\"1\" class=\"dataframe\">\n",
       "  <thead>\n",
       "    <tr style=\"text-align: right;\">\n",
       "      <th></th>\n",
       "      <th>Spending Quarter</th>\n",
       "      <th>Spend</th>\n",
       "      <th>2024 Q1</th>\n",
       "      <th>2024 Q2</th>\n",
       "      <th>2024 Q3</th>\n",
       "      <th>2024 Q4</th>\n",
       "      <th>2025 Q1</th>\n",
       "      <th>2025 Q2</th>\n",
       "      <th>2025 Q3</th>\n",
       "      <th>2025 Q4</th>\n",
       "      <th>2026 Q1</th>\n",
       "      <th>2026 Q2</th>\n",
       "      <th>2026 Q3</th>\n",
       "      <th>2026 Q4</th>\n",
       "      <th>2027 Q1</th>\n",
       "      <th>2027 Q2</th>\n",
       "      <th>2027 Q3</th>\n",
       "      <th>2027 Q4</th>\n",
       "    </tr>\n",
       "  </thead>\n",
       "  <tbody>\n",
       "    <tr>\n",
       "      <th>0</th>\n",
       "      <td>2025 Q1</td>\n",
       "      <td>47548717.12189</td>\n",
       "      <td>0.0</td>\n",
       "      <td>0.0</td>\n",
       "      <td>0.0</td>\n",
       "      <td>0.0</td>\n",
       "      <td>292544.964391</td>\n",
       "      <td>922225.208536</td>\n",
       "      <td>4.031424e+05</td>\n",
       "      <td>1.104602e+05</td>\n",
       "      <td>28583.806505</td>\n",
       "      <td>2533.422884</td>\n",
       "      <td>0.000000</td>\n",
       "      <td>0.000000</td>\n",
       "      <td>0.000000</td>\n",
       "      <td>0.0</td>\n",
       "      <td>0.0</td>\n",
       "      <td>0.0</td>\n",
       "    </tr>\n",
       "    <tr>\n",
       "      <th>1</th>\n",
       "      <td>2025 Q2</td>\n",
       "      <td>61557399.86867</td>\n",
       "      <td>0.0</td>\n",
       "      <td>0.0</td>\n",
       "      <td>0.0</td>\n",
       "      <td>0.0</td>\n",
       "      <td>0.000000</td>\n",
       "      <td>324988.633542</td>\n",
       "      <td>1.010021e+06</td>\n",
       "      <td>4.177304e+05</td>\n",
       "      <td>114456.417770</td>\n",
       "      <td>29462.661382</td>\n",
       "      <td>2344.128825</td>\n",
       "      <td>0.000000</td>\n",
       "      <td>0.000000</td>\n",
       "      <td>0.0</td>\n",
       "      <td>0.0</td>\n",
       "      <td>0.0</td>\n",
       "    </tr>\n",
       "    <tr>\n",
       "      <th>2</th>\n",
       "      <td>2025 Q3</td>\n",
       "      <td>65661321.72848</td>\n",
       "      <td>0.0</td>\n",
       "      <td>0.0</td>\n",
       "      <td>0.0</td>\n",
       "      <td>0.0</td>\n",
       "      <td>0.000000</td>\n",
       "      <td>0.000000</td>\n",
       "      <td>3.290941e+05</td>\n",
       "      <td>1.029052e+06</td>\n",
       "      <td>426298.565741</td>\n",
       "      <td>116803.002575</td>\n",
       "      <td>30066.062707</td>\n",
       "      <td>2409.596320</td>\n",
       "      <td>0.000000</td>\n",
       "      <td>0.0</td>\n",
       "      <td>0.0</td>\n",
       "      <td>0.0</td>\n",
       "    </tr>\n",
       "    <tr>\n",
       "      <th>3</th>\n",
       "      <td>2025 Q4</td>\n",
       "      <td>45984315.2809</td>\n",
       "      <td>0.0</td>\n",
       "      <td>0.0</td>\n",
       "      <td>0.0</td>\n",
       "      <td>0.0</td>\n",
       "      <td>0.000000</td>\n",
       "      <td>0.000000</td>\n",
       "      <td>0.000000e+00</td>\n",
       "      <td>2.907802e+05</td>\n",
       "      <td>909915.709026</td>\n",
       "      <td>378538.433612</td>\n",
       "      <td>103715.206833</td>\n",
       "      <td>27338.336698</td>\n",
       "      <td>1487.090186</td>\n",
       "      <td>0.0</td>\n",
       "      <td>0.0</td>\n",
       "      <td>0.0</td>\n",
       "    </tr>\n",
       "  </tbody>\n",
       "</table>\n",
       "</div>"
      ],
      "text/plain": [
       "  Spending Quarter           Spend  2024 Q1  2024 Q2  2024 Q3  2024 Q4  \\\n",
       "0          2025 Q1  47548717.12189      0.0      0.0      0.0      0.0   \n",
       "1          2025 Q2  61557399.86867      0.0      0.0      0.0      0.0   \n",
       "2          2025 Q3  65661321.72848      0.0      0.0      0.0      0.0   \n",
       "3          2025 Q4   45984315.2809      0.0      0.0      0.0      0.0   \n",
       "\n",
       "         2025 Q1        2025 Q2       2025 Q3       2025 Q4        2026 Q1  \\\n",
       "0  292544.964391  922225.208536  4.031424e+05  1.104602e+05   28583.806505   \n",
       "1       0.000000  324988.633542  1.010021e+06  4.177304e+05  114456.417770   \n",
       "2       0.000000       0.000000  3.290941e+05  1.029052e+06  426298.565741   \n",
       "3       0.000000       0.000000  0.000000e+00  2.907802e+05  909915.709026   \n",
       "\n",
       "         2026 Q2        2026 Q3       2026 Q4      2027 Q1  2027 Q2  2027 Q3  \\\n",
       "0    2533.422884       0.000000      0.000000     0.000000      0.0      0.0   \n",
       "1   29462.661382    2344.128825      0.000000     0.000000      0.0      0.0   \n",
       "2  116803.002575   30066.062707   2409.596320     0.000000      0.0      0.0   \n",
       "3  378538.433612  103715.206833  27338.336698  1487.090186      0.0      0.0   \n",
       "\n",
       "   2027 Q4  \n",
       "0      0.0  \n",
       "1      0.0  \n",
       "2      0.0  \n",
       "3      0.0  "
      ]
     },
     "execution_count": 62,
     "metadata": {},
     "output_type": "execute_result"
    }
   ],
   "source": [
    "plan_forecast_craft(scenario1, 2025, 1, 2, 0.46)[1]"
   ]
  },
  {
   "cell_type": "code",
   "execution_count": 32,
   "metadata": {},
   "outputs": [],
   "source": [
    "def build_plan_summary(spend_data, planning_year, threshold, unit_revenue):\n",
    "    \"\"\"\n",
    "    Build a summary report of the spending plan with total spend, total reward,\n",
    "    cost per reward, and marginal cost per reward for each media and aggregated.\n",
    "\n",
    "    Args:\n",
    "        spend_data (pd.DataFrame): DataFrame containing spending data with columns:\n",
    "            - 'FIS_MO_NB': Fiscal month number.\n",
    "            - Media spending columns (e.g., 'YOT', 'FAB').\n",
    "        planning_year (int): The fiscal year of the current spending plan.\n",
    "\n",
    "    Returns:\n",
    "        pd.DataFrame: A DataFrame 'plan_summary' with columns:\n",
    "            - 'Total Spend'\n",
    "            - 'Total Reward'\n",
    "            - 'Cost per Reward'\n",
    "            - 'Marginal Cost per Reward'\n",
    "        and rows:\n",
    "            - 'Total' (aggregated over all medias)\n",
    "            - One row per media (e.g., 'YOT', 'FAB')\n",
    "    \"\"\"\n",
    "    # Ensure nonlocal access to necessary dataframes\n",
    "    # nonlocal df_curve, df_params, df_time\n",
    "\n",
    "    # Initialize dictionaries to store summary data\n",
    "    total_spend_dict = {}\n",
    "    total_reward_dict = {}\n",
    "    minc_X_dict = {}\n",
    "    mc_X_dict = {}\n",
    "\n",
    "    # List of media columns (exclude 'FIS_MO_NB')\n",
    "    medias = spend_data.columns.tolist()[1:]\n",
    "\n",
    "    # Loop over each media to compute summary metrics\n",
    "    for media in medias:\n",
    "        # Extract spending data for the media\n",
    "        media_spend_data = spend_data[['FIS_MO_NB', media]]\n",
    "\n",
    "\n",
    "        # Total spend for media: sum of monthly spend\n",
    "        total_spend = media_spend_data[media].sum()\n",
    "        total_spend_dict[media] = total_spend\n",
    "\n",
    "\n",
    "        # Call compute_reward_X for the current media\n",
    "        reward_df, minc_X, mc_X = compute_reward_X(media, media_spend_data, planning_year, threshold)\n",
    "        \n",
    "\n",
    "        # Total reward for media: sum of the 'aggregated' column\n",
    "        total_reward = reward_df['aggregated'].sum()\n",
    "        total_reward_dict[media] = total_reward\n",
    "\n",
    "        # Store minc_X and mc_X\n",
    "        minc_X_dict[media] = minc_X\n",
    "        mc_X_dict[media] = mc_X\n",
    "\n",
    "\n",
    "    # Calculate aggregated totals\n",
    "    total_spend_agg = sum(total_spend_dict.values())\n",
    "    total_reward_agg = sum(total_reward_dict.values())\n",
    "    minc_X_agg = sum(minc_X_dict.values())\n",
    "    mc_X_agg = sum(mc_X_dict.values())\n",
    "\n",
    "\n",
    "    # Build the summary DataFrame\n",
    "    plan_summary = pd.DataFrame(columns=['Total Spend', 'Total Attendance', 'Cost per Attendance', 'Marginal Cost per Attendance'])\n",
    "\n",
    "    # Add aggregated totals to the summary\n",
    "    plan_summary.loc['Total'] = {\n",
    "        'Total Spend': total_spend_agg,\n",
    "        'Total Attendance': total_reward_agg,\n",
    "        'Cost per Attendance': total_spend_agg / total_reward_agg if total_reward_agg != 0 else np.nan,\n",
    "        'Marginal Cost per Attendance': mc_X_agg / minc_X_agg if minc_X_agg != 0 else np.nan\n",
    "    }\n",
    "\n",
    "    # Add individual media data to the summary\n",
    "    for media in medias:\n",
    "        total_spend = total_spend_dict[media]\n",
    "        total_reward = total_reward_dict[media]\n",
    "        minc_X = minc_X_dict[media]\n",
    "        mc_X = mc_X_dict[media]\n",
    "\n",
    "        plan_summary.loc[media] = {\n",
    "            'Total Spend': total_spend,\n",
    "            'Total Attendance': total_reward,\n",
    "            'Cost per Attendance': total_spend / total_reward if total_reward != 0 else np.nan,\n",
    "            'Marginal Cost per Attendance': mc_X / minc_X if minc_X != 0 else np.nan\n",
    "        }\n",
    "\n",
    "    # Reorder rows: aggregated totals first, then individual medias\n",
    "    plan_summary = plan_summary.reset_index().rename(columns={'index': 'Media'})\n",
    "    plan_summary = plan_summary[['Media', 'Total Spend', 'Total Attendance', 'Cost per Attendance', 'Marginal Cost per Attendance']]\n",
    "\n",
    "    # Add ROAS and MROAS\n",
    "    plan_summary['ROAS'] = unit_revenue * plan_summary['Total Attendance'] / plan_summary['Total Spend']\n",
    "    plan_summary['MROAS'] = 1 + ((unit_revenue - plan_summary['Marginal Cost per Attendance']) / plan_summary['Marginal Cost per Attendance'])\n",
    "\n",
    "\n",
    "    # Round up columns\n",
    "    plan_summary['Total Spend'] = plan_summary['Total Spend'].astype(int)\n",
    "    plan_summary['Total Attendance'] = plan_summary['Total Attendance'].astype(int)\n",
    "    plan_summary['Cost per Attendance'] = plan_summary['Cost per Attendance'].round(1)\n",
    "    plan_summary['Marginal Cost per Attendance'] = plan_summary['Marginal Cost per Attendance'].round(1)\n",
    "    plan_summary['ROAS'] = plan_summary['ROAS'].round(1)\n",
    "    plan_summary['MROAS'] = plan_summary['MROAS'].round(1)\n",
    "\n",
    "\n",
    "    return plan_summary"
   ]
  },
  {
   "cell_type": "code",
   "execution_count": 33,
   "metadata": {},
   "outputs": [
    {
     "data": {
      "text/html": [
       "<div>\n",
       "<style scoped>\n",
       "    .dataframe tbody tr th:only-of-type {\n",
       "        vertical-align: middle;\n",
       "    }\n",
       "\n",
       "    .dataframe tbody tr th {\n",
       "        vertical-align: top;\n",
       "    }\n",
       "\n",
       "    .dataframe thead th {\n",
       "        text-align: right;\n",
       "    }\n",
       "</style>\n",
       "<table border=\"1\" class=\"dataframe\">\n",
       "  <thead>\n",
       "    <tr style=\"text-align: right;\">\n",
       "      <th></th>\n",
       "      <th>Media</th>\n",
       "      <th>Total Spend</th>\n",
       "      <th>Total Attendance</th>\n",
       "      <th>Cost per Attendance</th>\n",
       "      <th>Marginal Cost per Attendance</th>\n",
       "      <th>ROAS</th>\n",
       "      <th>MROAS</th>\n",
       "    </tr>\n",
       "  </thead>\n",
       "  <tbody>\n",
       "    <tr>\n",
       "      <th>0</th>\n",
       "      <td>Total</td>\n",
       "      <td>220751753</td>\n",
       "      <td>7313323</td>\n",
       "      <td>30.2</td>\n",
       "      <td>23745.4</td>\n",
       "      <td>5.5</td>\n",
       "      <td>0.0</td>\n",
       "    </tr>\n",
       "    <tr>\n",
       "      <th>1</th>\n",
       "      <td>NTV</td>\n",
       "      <td>34285760</td>\n",
       "      <td>813710</td>\n",
       "      <td>42.1</td>\n",
       "      <td>27474.2</td>\n",
       "      <td>3.9</td>\n",
       "      <td>0.0</td>\n",
       "    </tr>\n",
       "    <tr>\n",
       "      <th>2</th>\n",
       "      <td>TTV</td>\n",
       "      <td>8371501</td>\n",
       "      <td>227353</td>\n",
       "      <td>36.8</td>\n",
       "      <td>25565.3</td>\n",
       "      <td>4.5</td>\n",
       "      <td>0.0</td>\n",
       "    </tr>\n",
       "    <tr>\n",
       "      <th>3</th>\n",
       "      <td>CTVP</td>\n",
       "      <td>1888728</td>\n",
       "      <td>50169</td>\n",
       "      <td>37.6</td>\n",
       "      <td>18485.5</td>\n",
       "      <td>4.4</td>\n",
       "      <td>0.0</td>\n",
       "    </tr>\n",
       "    <tr>\n",
       "      <th>4</th>\n",
       "      <td>CTVNP</td>\n",
       "      <td>5288366</td>\n",
       "      <td>155580</td>\n",
       "      <td>34.0</td>\n",
       "      <td>24309.4</td>\n",
       "      <td>4.9</td>\n",
       "      <td>0.0</td>\n",
       "    </tr>\n",
       "    <tr>\n",
       "      <th>5</th>\n",
       "      <td>DD</td>\n",
       "      <td>14006112</td>\n",
       "      <td>369625</td>\n",
       "      <td>37.9</td>\n",
       "      <td>24217.7</td>\n",
       "      <td>4.4</td>\n",
       "      <td>0.0</td>\n",
       "    </tr>\n",
       "    <tr>\n",
       "      <th>6</th>\n",
       "      <td>STRP</td>\n",
       "      <td>12150034</td>\n",
       "      <td>418161</td>\n",
       "      <td>29.1</td>\n",
       "      <td>20481.3</td>\n",
       "      <td>5.7</td>\n",
       "      <td>0.0</td>\n",
       "    </tr>\n",
       "    <tr>\n",
       "      <th>7</th>\n",
       "      <td>STRNP</td>\n",
       "      <td>30495772</td>\n",
       "      <td>960916</td>\n",
       "      <td>31.7</td>\n",
       "      <td>25815.1</td>\n",
       "      <td>5.2</td>\n",
       "      <td>0.0</td>\n",
       "    </tr>\n",
       "    <tr>\n",
       "      <th>8</th>\n",
       "      <td>YOT</td>\n",
       "      <td>10992749</td>\n",
       "      <td>474626</td>\n",
       "      <td>23.2</td>\n",
       "      <td>18956.2</td>\n",
       "      <td>7.1</td>\n",
       "      <td>0.0</td>\n",
       "    </tr>\n",
       "    <tr>\n",
       "      <th>9</th>\n",
       "      <td>CIN</td>\n",
       "      <td>6576649</td>\n",
       "      <td>188332</td>\n",
       "      <td>34.9</td>\n",
       "      <td>25894.9</td>\n",
       "      <td>4.7</td>\n",
       "      <td>0.0</td>\n",
       "    </tr>\n",
       "    <tr>\n",
       "      <th>10</th>\n",
       "      <td>DISP</td>\n",
       "      <td>28008637</td>\n",
       "      <td>1183352</td>\n",
       "      <td>23.7</td>\n",
       "      <td>22380.1</td>\n",
       "      <td>7.0</td>\n",
       "      <td>0.0</td>\n",
       "    </tr>\n",
       "    <tr>\n",
       "      <th>11</th>\n",
       "      <td>DISNP</td>\n",
       "      <td>2097545</td>\n",
       "      <td>101147</td>\n",
       "      <td>20.7</td>\n",
       "      <td>15497.9</td>\n",
       "      <td>8.0</td>\n",
       "      <td>0.0</td>\n",
       "    </tr>\n",
       "    <tr>\n",
       "      <th>12</th>\n",
       "      <td>SEM</td>\n",
       "      <td>29598168</td>\n",
       "      <td>1199813</td>\n",
       "      <td>24.7</td>\n",
       "      <td>24674.9</td>\n",
       "      <td>6.7</td>\n",
       "      <td>0.0</td>\n",
       "    </tr>\n",
       "    <tr>\n",
       "      <th>13</th>\n",
       "      <td>PAID_SOCIAL</td>\n",
       "      <td>27598857</td>\n",
       "      <td>899872</td>\n",
       "      <td>30.7</td>\n",
       "      <td>23752.0</td>\n",
       "      <td>5.4</td>\n",
       "      <td>0.0</td>\n",
       "    </tr>\n",
       "    <tr>\n",
       "      <th>14</th>\n",
       "      <td>DCI</td>\n",
       "      <td>3699742</td>\n",
       "      <td>75846</td>\n",
       "      <td>48.8</td>\n",
       "      <td>26248.2</td>\n",
       "      <td>3.4</td>\n",
       "      <td>0.0</td>\n",
       "    </tr>\n",
       "    <tr>\n",
       "      <th>15</th>\n",
       "      <td>DRD</td>\n",
       "      <td>5693129</td>\n",
       "      <td>194814</td>\n",
       "      <td>29.2</td>\n",
       "      <td>18235.1</td>\n",
       "      <td>5.6</td>\n",
       "      <td>0.0</td>\n",
       "    </tr>\n",
       "  </tbody>\n",
       "</table>\n",
       "</div>"
      ],
      "text/plain": [
       "          Media  Total Spend  Total Attendance  Cost per Attendance  \\\n",
       "0         Total    220751753           7313323                 30.2   \n",
       "1           NTV     34285760            813710                 42.1   \n",
       "2           TTV      8371501            227353                 36.8   \n",
       "3          CTVP      1888728             50169                 37.6   \n",
       "4         CTVNP      5288366            155580                 34.0   \n",
       "5            DD     14006112            369625                 37.9   \n",
       "6          STRP     12150034            418161                 29.1   \n",
       "7         STRNP     30495772            960916                 31.7   \n",
       "8           YOT     10992749            474626                 23.2   \n",
       "9           CIN      6576649            188332                 34.9   \n",
       "10         DISP     28008637           1183352                 23.7   \n",
       "11        DISNP      2097545            101147                 20.7   \n",
       "12          SEM     29598168           1199813                 24.7   \n",
       "13  PAID_SOCIAL     27598857            899872                 30.7   \n",
       "14          DCI      3699742             75846                 48.8   \n",
       "15          DRD      5693129            194814                 29.2   \n",
       "\n",
       "    Marginal Cost per Attendance  ROAS  MROAS  \n",
       "0                        23745.4   5.5    0.0  \n",
       "1                        27474.2   3.9    0.0  \n",
       "2                        25565.3   4.5    0.0  \n",
       "3                        18485.5   4.4    0.0  \n",
       "4                        24309.4   4.9    0.0  \n",
       "5                        24217.7   4.4    0.0  \n",
       "6                        20481.3   5.7    0.0  \n",
       "7                        25815.1   5.2    0.0  \n",
       "8                        18956.2   7.1    0.0  \n",
       "9                        25894.9   4.7    0.0  \n",
       "10                       22380.1   7.0    0.0  \n",
       "11                       15497.9   8.0    0.0  \n",
       "12                       24674.9   6.7    0.0  \n",
       "13                       23752.0   5.4    0.0  \n",
       "14                       26248.2   3.4    0.0  \n",
       "15                       18235.1   5.6    0.0  "
      ]
     },
     "execution_count": 33,
     "metadata": {},
     "output_type": "execute_result"
    }
   ],
   "source": [
    "build_plan_summary(scenario1, 2025, 0.46, ticket_price)"
   ]
  },
  {
   "cell_type": "code",
   "execution_count": 21,
   "metadata": {},
   "outputs": [
    {
     "data": {
      "text/plain": [
       "65661321"
      ]
     },
     "execution_count": 21,
     "metadata": {},
     "output_type": "execute_result"
    }
   ],
   "source": [
    "plan0 = scenario1.copy()\n",
    "planning_months = [7, 8, 9]\n",
    "\n",
    "int(plan0[plan0.FIS_MO_NB.isin(planning_months)].iloc[:, 1:].values.sum())\n"
   ]
  },
  {
   "cell_type": "code",
   "execution_count": 22,
   "metadata": {},
   "outputs": [],
   "source": [
    "def optimization_summary(plan0, plan1, planning_year, planning_months, rewards, cutoff, unit_revenue):\n",
    "\n",
    "    # Table 1 - Aggregate Summary\n",
    "    # ****************************************************************************************************************\n",
    "    contents = ['Total Spend', 'Total Reward', 'Total Reward in Planning Period', 'Cost per Reward', 'Marginal Cost per Reward', 'ROAS', \"MROAS\"]\n",
    "    summary0 = build_plan_summary(plan0, planning_year, cutoff, unit_revenue)\n",
    "    summary1 = build_plan_summary(plan1, planning_year, cutoff, unit_revenue)\n",
    "    spend0 = int(plan0[plan0.FIS_MO_NB.isin(planning_months)].iloc[:, 1:].values.sum())\n",
    "    spend1 = int(plan1[plan1.FIS_MO_NB.isin(planning_months)].iloc[:, 1:].values.sum())\n",
    "\n",
    "    total_original = summary0.iloc[0, 1:].values.tolist()\n",
    "    planning_original = rewards[0]\n",
    "    collect_original = total_original[:2] + [planning_original] + total_original[2:]\n",
    "\n",
    "    total_optimized = summary1.iloc[0, 1:].values.tolist()\n",
    "    planning_optimized = rewards[1]\n",
    "    collect_optimized = total_optimized[:2] + [planning_optimized] + total_optimized[2:]\n",
    "\n",
    "    table1 = pd.DataFrame({\n",
    "        'Contents': contents,\n",
    "        'Original': collect_original,\n",
    "        'Optimized': collect_optimized\n",
    "    })\n",
    "\n",
    "    array_original = table1.Original.values\n",
    "    array_optimized = table1.Optimized.values\n",
    "\n",
    "    \n",
    "    array_original[0] = spend0\n",
    "    array_original[3] = np.round(array_original[0] / array_original[2], 1) \n",
    "    array_original[5] = np.round(unit_revenue * array_original[2] / array_original[0], 1)\n",
    "    table1['Original'] = array_original\n",
    "\n",
    "    array_optimized[0] = spend1\n",
    "    array_optimized[3] = np.round(array_optimized[0] / array_optimized[2], 1)\n",
    "    array_optimized[5] = np.round(unit_revenue * array_optimized[2] / array_optimized[0], 1)\n",
    "    table1['Optimized'] = array_optimized\n",
    "\n",
    "\n",
    "    # table1.loc[table1.Contents == 'Cost per Reward', 'Original'] = np.round(table1.loc[table1.Contents == 'Total Spend', 'Original'] / table1.loc[table1.Contents == 'Total Reward in Planning Period', 'Original'], 1)\n",
    "    # table1.loc[table1.Contents == 'Cost per Reward', 'Optimized'] = np.round(table1.loc[table1.Contents == 'Total Spend', 'Optimized'] / table1.loc[table1.Contents == 'Total Reward in Planning Period', 'Optimized'], 1)\n",
    "\n",
    "    # table1.loc[table1.Contents == 'ROAS', 'Original'] =  np.round((unit_revenue * table1.loc[table1.Contents == 'Total Reward in Planning Period', 'Original'].values[0]) / table1.loc[table1.Contents == 'Total Spend', 'Original'], 1)\n",
    "    # table1.loc[table1.Contents == 'ROAS', 'Optimized'] =  np.round((unit_revenue * table1.loc[table1.Contents == 'Total Reward in Planning Period', 'Optimized'].values[0]) / table1.loc[table1.Contents == 'Total Spend', 'Optimized'], 1)\n",
    "\n",
    "\n",
    "    table1['Change'] = table1['Optimized'] - table1['Original']\n",
    "    table1['Change (%)'] = np.round((table1.Optimized / table1.Original - 1) * 100, 1)\n",
    "\n",
    "\n",
    "    # Table 2 - Media Level Summary\n",
    "    # ****************************************************************************************************************\n",
    "    values = []\n",
    "    for x in media_list:\n",
    "        collect0 = np.round(summary0[summary0.Media == x].iloc[:, 1:].values, 1)[0]\n",
    "        spend0 = collect0[0]\n",
    "        reward0_total = collect0[1]\n",
    "        reward0_plan = np.round(compute_reward_X(x, plan0, planning_year, cutoff)[0]['aggregated'].values[:52].sum(),1) \n",
    "        cpa0 = collect0[2]\n",
    "        mcpa0 = collect0[3]\n",
    "        values.append([x, 'original', spend0, reward0_total, reward0_plan, cpa0, mcpa0])\n",
    "\n",
    "        collect1 = np.round(summary1[summary1.Media == x].iloc[:, 1:].values, 1)[0]\n",
    "        spend1 = collect1[0]\n",
    "        reward1_total = collect1[1]\n",
    "        reward1_plan = np.round(compute_reward_X(x, plan1, planning_year, cutoff)[0]['aggregated'].values[:52].sum(),1)\n",
    "        cpa1 = collect1[2]\n",
    "        mcpa1 = collect1[3]\n",
    "        values.append([x, 'optimized', spend1, reward1_total, reward1_plan, cpa1, mcpa1])\n",
    "\n",
    "    table2 = pd.DataFrame(values, columns=['Media', 'Version', 'Total Spend', 'Total Reward', 'Total Reward in Planning Period', 'Cost per Reward', 'Marginal Cost per Reward'])\n",
    "    table2.iloc[:, 2:] = np.round(table2.iloc[:, 2:], 1)\n",
    "    \n",
    "    craft = pd.DataFrame(table2['Media'])\n",
    "    for x in table2.columns[2:]:\n",
    "        df = table2[['Media', 'Version', x]]\n",
    "        hierarchical_df = df.set_index(['Media', 'Version']).unstack(level=1)\n",
    "        hierarchical_df.columns = [f'{col[0]} ({col[1]})' for col in hierarchical_df.columns]\n",
    "        hierarchical_df = hierarchical_df.reset_index()\n",
    "        hierarchical_df[x + ' Change(%)'] = 100 * (hierarchical_df[x + ' (optimized)'] / hierarchical_df[x + ' (original)'] - 1)\n",
    "        hierarchical_df[x + ' Change(%)'] = np.round(hierarchical_df[x + ' Change(%)'], 1)\n",
    "        craft = craft.merge(hierarchical_df, how = 'left', on = \"Media\").drop_duplicates()\n",
    "    table2 = craft\n",
    "\n",
    "    return [plan1, table1, table2]"
   ]
  },
  {
   "cell_type": "code",
   "execution_count": null,
   "metadata": {},
   "outputs": [],
   "source": [
    "[1, 2, 3, 4, 5, 6, 7, 8, 9, 10, 11, 12]"
   ]
  },
  {
   "cell_type": "code",
   "execution_count": 25,
   "metadata": {},
   "outputs": [
    {
     "data": {
      "text/html": [
       "<div>\n",
       "<style scoped>\n",
       "    .dataframe tbody tr th:only-of-type {\n",
       "        vertical-align: middle;\n",
       "    }\n",
       "\n",
       "    .dataframe tbody tr th {\n",
       "        vertical-align: top;\n",
       "    }\n",
       "\n",
       "    .dataframe thead th {\n",
       "        text-align: right;\n",
       "    }\n",
       "</style>\n",
       "<table border=\"1\" class=\"dataframe\">\n",
       "  <thead>\n",
       "    <tr style=\"text-align: right;\">\n",
       "      <th></th>\n",
       "      <th>Contents</th>\n",
       "      <th>Original</th>\n",
       "      <th>Optimized</th>\n",
       "      <th>Change</th>\n",
       "      <th>Change (%)</th>\n",
       "    </tr>\n",
       "  </thead>\n",
       "  <tbody>\n",
       "    <tr>\n",
       "      <th>0</th>\n",
       "      <td>Total Spend</td>\n",
       "      <td>220751753.0</td>\n",
       "      <td>220751753.0</td>\n",
       "      <td>0.0</td>\n",
       "      <td>0.0</td>\n",
       "    </tr>\n",
       "    <tr>\n",
       "      <th>1</th>\n",
       "      <td>Total Reward</td>\n",
       "      <td>7313323.0</td>\n",
       "      <td>7313323.0</td>\n",
       "      <td>0.0</td>\n",
       "      <td>0.0</td>\n",
       "    </tr>\n",
       "    <tr>\n",
       "      <th>2</th>\n",
       "      <td>Total Reward in Planning Period</td>\n",
       "      <td>7313323.0</td>\n",
       "      <td>7313323.0</td>\n",
       "      <td>0.0</td>\n",
       "      <td>0.0</td>\n",
       "    </tr>\n",
       "    <tr>\n",
       "      <th>3</th>\n",
       "      <td>Cost per Reward</td>\n",
       "      <td>30.2</td>\n",
       "      <td>30.2</td>\n",
       "      <td>0.0</td>\n",
       "      <td>0.0</td>\n",
       "    </tr>\n",
       "    <tr>\n",
       "      <th>4</th>\n",
       "      <td>Marginal Cost per Reward</td>\n",
       "      <td>23745.4</td>\n",
       "      <td>23745.4</td>\n",
       "      <td>0.0</td>\n",
       "      <td>0.0</td>\n",
       "    </tr>\n",
       "    <tr>\n",
       "      <th>5</th>\n",
       "      <td>ROAS</td>\n",
       "      <td>5.5</td>\n",
       "      <td>5.5</td>\n",
       "      <td>0.0</td>\n",
       "      <td>0.0</td>\n",
       "    </tr>\n",
       "    <tr>\n",
       "      <th>6</th>\n",
       "      <td>MROAS</td>\n",
       "      <td>0.0</td>\n",
       "      <td>0.0</td>\n",
       "      <td>0.0</td>\n",
       "      <td>NaN</td>\n",
       "    </tr>\n",
       "  </tbody>\n",
       "</table>\n",
       "</div>"
      ],
      "text/plain": [
       "                          Contents     Original    Optimized  Change  \\\n",
       "0                      Total Spend  220751753.0  220751753.0     0.0   \n",
       "1                     Total Reward    7313323.0    7313323.0     0.0   \n",
       "2  Total Reward in Planning Period    7313323.0    7313323.0     0.0   \n",
       "3                  Cost per Reward         30.2         30.2     0.0   \n",
       "4         Marginal Cost per Reward      23745.4      23745.4     0.0   \n",
       "5                             ROAS          5.5          5.5     0.0   \n",
       "6                            MROAS          0.0          0.0     0.0   \n",
       "\n",
       "   Change (%)  \n",
       "0         0.0  \n",
       "1         0.0  \n",
       "2         0.0  \n",
       "3         0.0  \n",
       "4         0.0  \n",
       "5         0.0  \n",
       "6         NaN  "
      ]
     },
     "execution_count": 25,
     "metadata": {},
     "output_type": "execute_result"
    }
   ],
   "source": [
    "optimization_summary(scenario1, scenario1, 2024, [1, 2, 3, 4, 5, 6, 7, 8, 9, 10, 11, 12], [7313323, 7313323], 0.46, 165)[1]"
   ]
  },
  {
   "cell_type": "markdown",
   "metadata": {},
   "source": [
    "# Scenrio Plots"
   ]
  },
  {
   "cell_type": "code",
   "execution_count": 53,
   "metadata": {},
   "outputs": [],
   "source": [
    "import plotly.graph_objects as go\n",
    "from plotly.subplots import make_subplots"
   ]
  },
  {
   "cell_type": "code",
   "execution_count": 54,
   "metadata": {},
   "outputs": [
    {
     "data": {
      "text/plain": [
       "[2, 2, 3]"
      ]
     },
     "execution_count": 54,
     "metadata": {},
     "output_type": "execute_result"
    }
   ],
   "source": [
    "l1 = [1, 2, 3]\n",
    "l2 = [2, 1, 2]\n",
    "[max(l1[i], l2[i]) for i in np.arange(len(l1))]"
   ]
  },
  {
   "cell_type": "code",
   "execution_count": 55,
   "metadata": {},
   "outputs": [
    {
     "data": {
      "text/plain": [
       "array([0, 1, 2])"
      ]
     },
     "execution_count": 55,
     "metadata": {},
     "output_type": "execute_result"
    }
   ],
   "source": [
    "np.arange(3)"
   ]
  },
  {
   "cell_type": "markdown",
   "metadata": {},
   "source": [
    "You can find the intersection of two sets using the `intersection()` method or the `&` operator in Python. Here is an example:\n",
    "\n",
    "```python\n",
    "# Define two sets\n",
    "set1 = {1, 2, 3, 4, 5}\n",
    "set2 = {4, 5, 6, 7, 8}\n",
    "\n",
    "# Find the intersection using the intersection() method\n",
    "intersection_set = set1.intersection(set2)\n",
    "print(intersection_set)\n",
    "\n",
    "# Find the intersection using the & operator\n",
    "intersection_set = set1 & set2\n",
    "print(intersection_set)\n",
    "```\n",
    "\n",
    "Both methods will give you the intersection of the two sets."
   ]
  },
  {
   "cell_type": "code",
   "execution_count": 71,
   "metadata": {},
   "outputs": [],
   "source": [
    "def scenario_plots(scenarios, metrics, channels, colors, title, ylabel1, ylabel2, currency_symbol):\n",
    "    # **********************************************************************************\n",
    "    # Read numbers\n",
    "    # **********************************************************************************\n",
    "    board1 = scenarios[0]\n",
    "    board2 = scenarios[1]\n",
    "\n",
    "    metric1 = metrics[0]\n",
    "    metric2 = metrics[1]\n",
    "\n",
    "    # Drop medias with no spending\n",
    "    # ******************************************************************************\n",
    "    drops = []\n",
    "    set1 = set(board1.loc[board1[metric1] == 0, 'Media'].values) \n",
    "    set2 = set(board2.loc[board2[metric1] == 0, 'Media'].values)\n",
    "    drops.append(list(set1.intersection(set2)))\n",
    "    board1 = board1[~board1['Media'].isin(drops[0])]\n",
    "    board2 = board2[~board2['Media'].isin(drops[0])] \n",
    "    channels = [x for x in channels if x not in drops[0]]\n",
    "\n",
    "\n",
    "    # Set up metrics\n",
    "    # ********************************************************************************** \n",
    "    metric1_s1 = board1[metric1].values\n",
    "    metric1_s2 = board2[metric1].values\n",
    "    max_metric1 =  max(max(metric1_s1), max(metric1_s2))\n",
    "\n",
    "    metric2_s1 = board1[metric2].values\n",
    "    metric2_s2 = board2[metric2].values\n",
    "    max_metric2 = max(max(metric2_s1), max(metric2_s2))\n",
    "\n",
    "    metric1_compare = [(s2 - s1) / s1 * 100 for s1, s2 in zip(metric1_s1, metric1_s2)]\n",
    "    metric2_compare = [(s2 - s1) / s1 * 100 for s1, s2 in zip(metric2_s1, metric2_s2)]\n",
    "\n",
    "    color1_s1 = colors[0]\n",
    "    color1_s2 = colors[1]\n",
    "    color2_s1 = colors[2]\n",
    "    color2_s2 = colors[3]\n",
    "\n",
    "    default_textpos = 0.5 * max_metric1\n",
    "\n",
    "    # Create figure with secondary y-axis\n",
    "    fig = make_subplots(specs=[[{\"secondary_y\": True}]])\n",
    "\n",
    "    # **********************************************************************************\n",
    "    # The bar plots\n",
    "    # **********************************************************************************\n",
    "    # Scenario 1\n",
    "    # ....................................................\n",
    "    fig.add_trace(\n",
    "        go.Bar(\n",
    "            x= channels,\n",
    "            y= metric1_s1,\n",
    "            name= \"1\",\n",
    "            marker_color= color1_s1\n",
    "        ),\n",
    "        secondary_y=False,\n",
    "    )\n",
    "\n",
    "    # Scenario 2\n",
    "    # ....................................................\n",
    "    fig.add_trace(\n",
    "        go.Bar(\n",
    "            x= channels,\n",
    "            y= metric1_s2,\n",
    "            name= \"2\",\n",
    "            marker_color= color1_s2\n",
    "        ),\n",
    "        secondary_y=False,\n",
    "    )\n",
    "\n",
    "\n",
    "\n",
    "\n",
    "    # **********************************************************************************\n",
    "    # Line plots\n",
    "    # **********************************************************************************\n",
    "    # Scenario 1\n",
    "    # ....................................................\n",
    "    fig.add_trace(\n",
    "        go.Scatter(\n",
    "            x=channels,\n",
    "            y= metric2_s1,\n",
    "            name=\"MROAS 1\",\n",
    "            line=dict(\n",
    "                color= color2_s1, \n",
    "                width=3, dash='dash',\n",
    "                shape='spline',  # This creates a smooth curve\n",
    "                smoothing=1.3    # Adjust smoothing intensity (0.5-1.5 range works well)\n",
    "                ),\n",
    "            marker=dict(\n",
    "                size=10,         # Larger marker size\n",
    "                color=color2_s1,\n",
    "                line=dict(\n",
    "                    width=1,\n",
    "                    color='white'\n",
    "                )\n",
    "            )\n",
    "\n",
    "        ),\n",
    "        secondary_y=True,\n",
    "    )\n",
    "\n",
    "    # Scenario 2\n",
    "    # ....................................................\n",
    "    fig.add_trace(\n",
    "        go.Scatter(\n",
    "            x=channels,\n",
    "            y= metric2_s2,\n",
    "            name=\"MROAS 2\",\n",
    "            line=dict(color= color2_s2, \n",
    "                      width=3, dash='dash',\n",
    "                      shape='spline',  # This creates a smooth curve\n",
    "                      smoothing=1.3    # Adjust smoothing intensity (0.5-1.5 range works well)\n",
    "                ),\n",
    "            marker=dict(\n",
    "                size=10,         # Larger marker size\n",
    "                color=color2_s2,\n",
    "                line=dict(\n",
    "                    width=1,\n",
    "                    color='white'\n",
    "                )\n",
    "            )\n",
    "        ),\n",
    "        secondary_y=True,\n",
    "    )\n",
    "\n",
    "\n",
    "\n",
    "\n",
    "    # **********************************************************************************\n",
    "    # Costmetics\n",
    "    # **********************************************************************************\n",
    "\n",
    "    # Annotations for metric 1 change\n",
    "    for i, channel in enumerate(channels):\n",
    "        change = metric1_compare[i]\n",
    "        \n",
    "        # Determine color based on change\n",
    "        color = \"green\" if change >= 0 else \"red\"\n",
    "        \n",
    "        # Format text with plus/minus sign and percentage\n",
    "        if change >= 0:\n",
    "            text = f\"+{change:.1f}%\"  # Add plus sign for positive changes\n",
    "        else:\n",
    "            text = f\"{change:.1f}%\"   # Negative sign is automatically included\n",
    "        \n",
    "        # Improved positioning logic\n",
    "        current_value = max(metric1_s1[i], metric1_s2[i])\n",
    "        \n",
    "        # If the value is very small (less than 5% of the maximum), use a fixed position\n",
    "        if current_value < 0.03 * max_metric1:\n",
    "            ypos = 0.12 * max_metric1  # Position at 15% of max height for very small values\n",
    "        # If it's the maximum value, add a bit more space\n",
    "        elif current_value >= 0.95 * max_metric1:\n",
    "            ypos = 1.05 * max_metric1  # Position at 110% of max for the largest values\n",
    "        # For medium values, position proportionally\n",
    "        else:\n",
    "            ypos = current_value + (0.125 * max_metric1)  # Position above the bar with consistent spacing\n",
    "        \n",
    "        # Add the annotation without arrows\n",
    "        fig.add_annotation(\n",
    "            x=channel,\n",
    "            y=ypos, \n",
    "            text=text,\n",
    "            showarrow=False,  # No arrow\n",
    "            font=dict(\n",
    "                color=color, \n",
    "                size=14,      # Slightly larger font for better visibility\n",
    "                weight='bold' # Make it bold for emphasis\n",
    "            ),\n",
    "            align='center',\n",
    "            bgcolor='rgba(255,255,255,0.7)',  # Semi-transparent white background\n",
    "            bordercolor=color,\n",
    "            borderwidth=1,\n",
    "            borderpad=3\n",
    "        )\n",
    "\n",
    "\n",
    "\n",
    "\n",
    "    fig.update_layout(\n",
    "        # Wider plot for spacing\n",
    "        width=1300,\n",
    "        height=700,\n",
    "        # Extra large left margin\n",
    "        margin=dict(t=80, r=50, b=100, l=150),\n",
    "        # Title styling\n",
    "        title=dict(\n",
    "            text= title,\n",
    "            font=dict(\n",
    "                size=28,\n",
    "                color= color1_s2,\n",
    "                weight='bold'\n",
    "            ),\n",
    "            x=0.5\n",
    "        ),\n",
    "        # Other layout\n",
    "        barmode='group',\n",
    "        legend=dict(\n",
    "            orientation=\"h\",\n",
    "            yanchor=\"bottom\", \n",
    "            y=-0.15,\n",
    "            xanchor=\"center\",\n",
    "            x=0.5\n",
    "        ),\n",
    "        paper_bgcolor='white',\n",
    "        plot_bgcolor='white'\n",
    "    )\n",
    "\n",
    "    # Set x-axis properties\n",
    "    fig.update_xaxes(\n",
    "        title_text=\"\",\n",
    "        showgrid=False,\n",
    "        showline=True,\n",
    "        linewidth=2,\n",
    "        linecolor='lightgray'\n",
    "    )\n",
    "\n",
    "    # Set y-axes properties\n",
    "    fig.update_yaxes(\n",
    "        title_text= ylabel1,\n",
    "        title_font=dict(size=16),\n",
    "        range=[0, 1.2 * max(max(metric1_s2), max(metric1_s1))],\n",
    "        showgrid=True,\n",
    "        gridcolor='lightgray',\n",
    "        secondary_y=False,\n",
    "        tickformat=','\n",
    "    )\n",
    "\n",
    "    fig.update_yaxes(\n",
    "        title_text= ylabel2,\n",
    "        title_font=dict(size=16),\n",
    "        range=[0, 1.2 * max(max(metric2_s2), max(metric2_s1))],\n",
    "        showgrid=False,\n",
    "        secondary_y=True,\n",
    "        tickprefix= currency_symbol,\n",
    "        ticksuffix='.0'\n",
    "    )\n",
    "\n",
    "    # Show the figure\n",
    "    fig.show()"
   ]
  },
  {
   "cell_type": "code",
   "execution_count": 73,
   "metadata": {},
   "outputs": [
    {
     "data": {
      "text/html": [
       "<div>\n",
       "<style scoped>\n",
       "    .dataframe tbody tr th:only-of-type {\n",
       "        vertical-align: middle;\n",
       "    }\n",
       "\n",
       "    .dataframe tbody tr th {\n",
       "        vertical-align: top;\n",
       "    }\n",
       "\n",
       "    .dataframe thead th {\n",
       "        text-align: right;\n",
       "    }\n",
       "</style>\n",
       "<table border=\"1\" class=\"dataframe\">\n",
       "  <thead>\n",
       "    <tr style=\"text-align: right;\">\n",
       "      <th></th>\n",
       "      <th>Media</th>\n",
       "      <th>Total Spend</th>\n",
       "      <th>Total Attendance</th>\n",
       "      <th>Cost per Attendance</th>\n",
       "      <th>Marginal Cost per Attendance</th>\n",
       "      <th>ROAS</th>\n",
       "      <th>MROAS</th>\n",
       "    </tr>\n",
       "  </thead>\n",
       "  <tbody>\n",
       "    <tr>\n",
       "      <th>1</th>\n",
       "      <td>NTV</td>\n",
       "      <td>5678942</td>\n",
       "      <td>331380</td>\n",
       "      <td>17.1</td>\n",
       "      <td>62.7</td>\n",
       "      <td>6.1</td>\n",
       "      <td>1.7</td>\n",
       "    </tr>\n",
       "    <tr>\n",
       "      <th>2</th>\n",
       "      <td>STR</td>\n",
       "      <td>2205421</td>\n",
       "      <td>149220</td>\n",
       "      <td>14.8</td>\n",
       "      <td>34.3</td>\n",
       "      <td>7.1</td>\n",
       "      <td>3.1</td>\n",
       "    </tr>\n",
       "    <tr>\n",
       "      <th>3</th>\n",
       "      <td>BAN</td>\n",
       "      <td>410196</td>\n",
       "      <td>52691</td>\n",
       "      <td>7.8</td>\n",
       "      <td>16.3</td>\n",
       "      <td>13.5</td>\n",
       "      <td>6.4</td>\n",
       "    </tr>\n",
       "    <tr>\n",
       "      <th>4</th>\n",
       "      <td>RAD</td>\n",
       "      <td>265052</td>\n",
       "      <td>16515</td>\n",
       "      <td>16.0</td>\n",
       "      <td>29.7</td>\n",
       "      <td>6.5</td>\n",
       "      <td>3.5</td>\n",
       "    </tr>\n",
       "    <tr>\n",
       "      <th>5</th>\n",
       "      <td>AFF</td>\n",
       "      <td>77974</td>\n",
       "      <td>12020</td>\n",
       "      <td>6.5</td>\n",
       "      <td>11.0</td>\n",
       "      <td>16.2</td>\n",
       "      <td>9.6</td>\n",
       "    </tr>\n",
       "    <tr>\n",
       "      <th>6</th>\n",
       "      <td>CEM</td>\n",
       "      <td>0</td>\n",
       "      <td>0</td>\n",
       "      <td>NaN</td>\n",
       "      <td>NaN</td>\n",
       "      <td>NaN</td>\n",
       "      <td>NaN</td>\n",
       "    </tr>\n",
       "    <tr>\n",
       "      <th>7</th>\n",
       "      <td>SEM</td>\n",
       "      <td>1075893</td>\n",
       "      <td>118347</td>\n",
       "      <td>9.1</td>\n",
       "      <td>19.7</td>\n",
       "      <td>11.5</td>\n",
       "      <td>5.3</td>\n",
       "    </tr>\n",
       "    <tr>\n",
       "      <th>8</th>\n",
       "      <td>Total_Social</td>\n",
       "      <td>3902440</td>\n",
       "      <td>346163</td>\n",
       "      <td>11.3</td>\n",
       "      <td>26.9</td>\n",
       "      <td>9.3</td>\n",
       "      <td>3.9</td>\n",
       "    </tr>\n",
       "  </tbody>\n",
       "</table>\n",
       "</div>"
      ],
      "text/plain": [
       "          Media  Total Spend  Total Attendance  Cost per Attendance  \\\n",
       "1           NTV      5678942            331380                 17.1   \n",
       "2           STR      2205421            149220                 14.8   \n",
       "3           BAN       410196             52691                  7.8   \n",
       "4           RAD       265052             16515                 16.0   \n",
       "5           AFF        77974             12020                  6.5   \n",
       "6           CEM            0                 0                  NaN   \n",
       "7           SEM      1075893            118347                  9.1   \n",
       "8  Total_Social      3902440            346163                 11.3   \n",
       "\n",
       "   Marginal Cost per Attendance  ROAS  MROAS  \n",
       "1                          62.7   6.1    1.7  \n",
       "2                          34.3   7.1    3.1  \n",
       "3                          16.3  13.5    6.4  \n",
       "4                          29.7   6.5    3.5  \n",
       "5                          11.0  16.2    9.6  \n",
       "6                           NaN   NaN    NaN  \n",
       "7                          19.7  11.5    5.3  \n",
       "8                          26.9   9.3    3.9  "
      ]
     },
     "execution_count": 73,
     "metadata": {},
     "output_type": "execute_result"
    }
   ],
   "source": [
    "build_plan_summary(scenario2, 2024, 0.9, ticket_price).iloc[1:, :]"
   ]
  },
  {
   "cell_type": "code",
   "execution_count": 72,
   "metadata": {},
   "outputs": [
    {
     "data": {
      "application/vnd.plotly.v1+json": {
       "config": {
        "plotlyServerURL": "https://plot.ly"
       },
       "data": [
        {
         "marker": {
          "color": "rgb(174, 139, 113)"
         },
         "name": "1",
         "type": "bar",
         "x": [
          "NTV",
          "STR",
          "BAN",
          "RAD",
          "AFF",
          "SEM",
          "Total_Social"
         ],
         "xaxis": "x",
         "y": {
          "bdata": "XqdWAO2mIQBUQgYAXAsEAJYwAQC1ahAA6Is7AA==",
          "dtype": "i4"
         },
         "yaxis": "y"
        },
        {
         "marker": {
          "color": "rgb(140, 63, 12)"
         },
         "name": "2",
         "type": "bar",
         "x": [
          "NTV",
          "STR",
          "BAN",
          "RAD",
          "AFF",
          "SEM",
          "Total_Social"
         ],
         "xaxis": "x",
         "y": {
          "bdata": "ssZOAMGXHgCpsAUAPa0DAOYUAQCk7A4AGSI2AA==",
          "dtype": "i4"
         },
         "yaxis": "y"
        },
        {
         "line": {
          "color": "rgb(174, 139, 113)",
          "dash": "dash",
          "shape": "spline",
          "smoothing": 1.3,
          "width": 3
         },
         "marker": {
          "color": "rgb(174, 139, 113)",
          "line": {
           "color": "white",
           "width": 1
          },
          "size": 10
         },
         "name": "MROAS 1",
         "type": "scatter",
         "x": [
          "NTV",
          "STR",
          "BAN",
          "RAD",
          "AFF",
          "SEM",
          "Total_Social"
         ],
         "xaxis": "x",
         "y": {
          "bdata": "MzMzMzMz+z/NzMzMzMwIQJqZmZmZmRlAAAAAAAAADEAzMzMzMzMjQDMzMzMzMxVAMzMzMzMzD0A=",
          "dtype": "f8"
         },
         "yaxis": "y2"
        },
        {
         "line": {
          "color": "rgb(140, 63, 12)",
          "dash": "dash",
          "shape": "spline",
          "smoothing": 1.3,
          "width": 3
         },
         "marker": {
          "color": "rgb(140, 63, 12)",
          "line": {
           "color": "white",
           "width": 1
          },
          "size": 10
         },
         "name": "MROAS 2",
         "type": "scatter",
         "x": [
          "NTV",
          "STR",
          "BAN",
          "RAD",
          "AFF",
          "SEM",
          "Total_Social"
         ],
         "xaxis": "x",
         "y": {
          "bdata": "zczMzMzM/D+amZmZmZkJQDMzMzMzMxtAmpmZmZmZDUDNzMzMzMwjQGZmZmZmZhZAZmZmZmZmEEA=",
          "dtype": "f8"
         },
         "yaxis": "y2"
        }
       ],
       "layout": {
        "annotations": [
         {
          "align": "center",
          "bgcolor": "rgba(255,255,255,0.7)",
          "bordercolor": "red",
          "borderpad": 3,
          "borderwidth": 1,
          "font": {
           "color": "red",
           "size": 14,
           "weight": "bold"
          },
          "showarrow": false,
          "text": "-9.1%",
          "x": "NTV",
          "y": 5962889.100000001
         },
         {
          "align": "center",
          "bgcolor": "rgba(255,255,255,0.7)",
          "bordercolor": "red",
          "borderpad": 3,
          "borderwidth": 1,
          "font": {
           "color": "red",
           "size": 14,
           "weight": "bold"
          },
          "showarrow": false,
          "text": "-9.1%",
          "x": "STR",
          "y": 2915288.75
         },
         {
          "align": "center",
          "bgcolor": "rgba(255,255,255,0.7)",
          "bordercolor": "red",
          "borderpad": 3,
          "borderwidth": 1,
          "font": {
           "color": "red",
           "size": 14,
           "weight": "bold"
          },
          "showarrow": false,
          "text": "-9.1%",
          "x": "BAN",
          "y": 1120063.75
         },
         {
          "align": "center",
          "bgcolor": "rgba(255,255,255,0.7)",
          "bordercolor": "red",
          "borderpad": 3,
          "borderwidth": 1,
          "font": {
           "color": "red",
           "size": 14,
           "weight": "bold"
          },
          "showarrow": false,
          "text": "-9.1%",
          "x": "RAD",
          "y": 974919.75
         },
         {
          "align": "center",
          "bgcolor": "rgba(255,255,255,0.7)",
          "bordercolor": "red",
          "borderpad": 3,
          "borderwidth": 1,
          "font": {
           "color": "red",
           "size": 14,
           "weight": "bold"
          },
          "showarrow": false,
          "text": "-9.1%",
          "x": "AFF",
          "y": 681473.0399999999
         },
         {
          "align": "center",
          "bgcolor": "rgba(255,255,255,0.7)",
          "bordercolor": "red",
          "borderpad": 3,
          "borderwidth": 1,
          "font": {
           "color": "red",
           "size": 14,
           "weight": "bold"
          },
          "showarrow": false,
          "text": "-9.1%",
          "x": "SEM",
          "y": 1785760.75
         },
         {
          "align": "center",
          "bgcolor": "rgba(255,255,255,0.7)",
          "bordercolor": "red",
          "borderpad": 3,
          "borderwidth": 1,
          "font": {
           "color": "red",
           "size": 14,
           "weight": "bold"
          },
          "showarrow": false,
          "text": "-9.1%",
          "x": "Total_Social",
          "y": 4612307.75
         }
        ],
        "barmode": "group",
        "height": 700,
        "legend": {
         "orientation": "h",
         "x": 0.5,
         "xanchor": "center",
         "y": -0.15,
         "yanchor": "bottom"
        },
        "margin": {
         "b": 100,
         "l": 150,
         "r": 50,
         "t": 80
        },
        "paper_bgcolor": "white",
        "plot_bgcolor": "white",
        "template": {
         "data": {
          "candlestick": [
           {
            "decreasing": {
             "line": {
              "color": "#000033"
             }
            },
            "increasing": {
             "line": {
              "color": "#000032"
             }
            },
            "type": "candlestick"
           }
          ],
          "contour": [
           {
            "colorscale": [
             [
              0,
              "#000011"
             ],
             [
              0.1111111111111111,
              "#000012"
             ],
             [
              0.2222222222222222,
              "#000013"
             ],
             [
              0.3333333333333333,
              "#000014"
             ],
             [
              0.4444444444444444,
              "#000015"
             ],
             [
              0.5555555555555556,
              "#000016"
             ],
             [
              0.6666666666666666,
              "#000017"
             ],
             [
              0.7777777777777778,
              "#000018"
             ],
             [
              0.8888888888888888,
              "#000019"
             ],
             [
              1,
              "#000020"
             ]
            ],
            "type": "contour"
           }
          ],
          "contourcarpet": [
           {
            "colorscale": [
             [
              0,
              "#000011"
             ],
             [
              0.1111111111111111,
              "#000012"
             ],
             [
              0.2222222222222222,
              "#000013"
             ],
             [
              0.3333333333333333,
              "#000014"
             ],
             [
              0.4444444444444444,
              "#000015"
             ],
             [
              0.5555555555555556,
              "#000016"
             ],
             [
              0.6666666666666666,
              "#000017"
             ],
             [
              0.7777777777777778,
              "#000018"
             ],
             [
              0.8888888888888888,
              "#000019"
             ],
             [
              1,
              "#000020"
             ]
            ],
            "type": "contourcarpet"
           }
          ],
          "heatmap": [
           {
            "colorscale": [
             [
              0,
              "#000011"
             ],
             [
              0.1111111111111111,
              "#000012"
             ],
             [
              0.2222222222222222,
              "#000013"
             ],
             [
              0.3333333333333333,
              "#000014"
             ],
             [
              0.4444444444444444,
              "#000015"
             ],
             [
              0.5555555555555556,
              "#000016"
             ],
             [
              0.6666666666666666,
              "#000017"
             ],
             [
              0.7777777777777778,
              "#000018"
             ],
             [
              0.8888888888888888,
              "#000019"
             ],
             [
              1,
              "#000020"
             ]
            ],
            "type": "heatmap"
           }
          ],
          "histogram2d": [
           {
            "colorscale": [
             [
              0,
              "#000011"
             ],
             [
              0.1111111111111111,
              "#000012"
             ],
             [
              0.2222222222222222,
              "#000013"
             ],
             [
              0.3333333333333333,
              "#000014"
             ],
             [
              0.4444444444444444,
              "#000015"
             ],
             [
              0.5555555555555556,
              "#000016"
             ],
             [
              0.6666666666666666,
              "#000017"
             ],
             [
              0.7777777777777778,
              "#000018"
             ],
             [
              0.8888888888888888,
              "#000019"
             ],
             [
              1,
              "#000020"
             ]
            ],
            "type": "histogram2d"
           }
          ],
          "icicle": [
           {
            "textfont": {
             "color": "white"
            },
            "type": "icicle"
           }
          ],
          "sankey": [
           {
            "textfont": {
             "color": "#000036"
            },
            "type": "sankey"
           }
          ],
          "scatter": [
           {
            "marker": {
             "line": {
              "width": 0
             }
            },
            "type": "scatter"
           }
          ],
          "table": [
           {
            "cells": {
             "fill": {
              "color": "#000038"
             },
             "font": {
              "color": "#000037"
             },
             "line": {
              "color": "#000039"
             }
            },
            "header": {
             "fill": {
              "color": "#000040"
             },
             "font": {
              "color": "#000036"
             },
             "line": {
              "color": "#000039"
             }
            },
            "type": "table"
           }
          ],
          "waterfall": [
           {
            "connector": {
             "line": {
              "color": "#000036",
              "width": 2
             }
            },
            "decreasing": {
             "marker": {
              "color": "#000033"
             }
            },
            "increasing": {
             "marker": {
              "color": "#000032"
             }
            },
            "totals": {
             "marker": {
              "color": "#000034"
             }
            },
            "type": "waterfall"
           }
          ]
         },
         "layout": {
          "coloraxis": {
           "colorscale": [
            [
             0,
             "#000011"
            ],
            [
             0.1111111111111111,
             "#000012"
            ],
            [
             0.2222222222222222,
             "#000013"
            ],
            [
             0.3333333333333333,
             "#000014"
            ],
            [
             0.4444444444444444,
             "#000015"
            ],
            [
             0.5555555555555556,
             "#000016"
            ],
            [
             0.6666666666666666,
             "#000017"
            ],
            [
             0.7777777777777778,
             "#000018"
            ],
            [
             0.8888888888888888,
             "#000019"
            ],
            [
             1,
             "#000020"
            ]
           ]
          },
          "colorscale": {
           "diverging": [
            [
             0,
             "#000021"
            ],
            [
             0.1,
             "#000022"
            ],
            [
             0.2,
             "#000023"
            ],
            [
             0.3,
             "#000024"
            ],
            [
             0.4,
             "#000025"
            ],
            [
             0.5,
             "#000026"
            ],
            [
             0.6,
             "#000027"
            ],
            [
             0.7,
             "#000028"
            ],
            [
             0.8,
             "#000029"
            ],
            [
             0.9,
             "#000030"
            ],
            [
             1,
             "#000031"
            ]
           ],
           "sequential": [
            [
             0,
             "#000011"
            ],
            [
             0.1111111111111111,
             "#000012"
            ],
            [
             0.2222222222222222,
             "#000013"
            ],
            [
             0.3333333333333333,
             "#000014"
            ],
            [
             0.4444444444444444,
             "#000015"
            ],
            [
             0.5555555555555556,
             "#000016"
            ],
            [
             0.6666666666666666,
             "#000017"
            ],
            [
             0.7777777777777778,
             "#000018"
            ],
            [
             0.8888888888888888,
             "#000019"
            ],
            [
             1,
             "#000020"
            ]
           ],
           "sequentialminus": [
            [
             0,
             "#000011"
            ],
            [
             0.1111111111111111,
             "#000012"
            ],
            [
             0.2222222222222222,
             "#000013"
            ],
            [
             0.3333333333333333,
             "#000014"
            ],
            [
             0.4444444444444444,
             "#000015"
            ],
            [
             0.5555555555555556,
             "#000016"
            ],
            [
             0.6666666666666666,
             "#000017"
            ],
            [
             0.7777777777777778,
             "#000018"
            ],
            [
             0.8888888888888888,
             "#000019"
            ],
            [
             1,
             "#000020"
            ]
           ]
          },
          "colorway": [
           "#000001",
           "#000002",
           "#000003",
           "#000004",
           "#000005",
           "#000006",
           "#000007",
           "#000008",
           "#000009",
           "#000010"
          ]
         }
        },
        "title": {
         "font": {
          "color": "rgb(140, 63, 12)",
          "size": 28,
          "weight": "bold"
         },
         "text": "Media budget & MROAS variation per touchpoint",
         "x": 0.5
        },
        "width": 1300,
        "xaxis": {
         "anchor": "y",
         "domain": [
          0,
          0.94
         ],
         "linecolor": "lightgray",
         "linewidth": 2,
         "showgrid": false,
         "showline": true,
         "title": {
          "text": ""
         }
        },
        "yaxis": {
         "anchor": "x",
         "domain": [
          0,
          1
         ],
         "gridcolor": "lightgray",
         "range": [
          0,
          6814730.399999999
         ],
         "showgrid": true,
         "tickformat": ",",
         "title": {
          "font": {
           "size": 16
          },
          "text": ""
         }
        },
        "yaxis2": {
         "anchor": "x",
         "overlaying": "y",
         "range": [
          0,
          11.88
         ],
         "showgrid": false,
         "side": "right",
         "tickprefix": "£",
         "ticksuffix": ".0",
         "title": {
          "font": {
           "size": 16
          },
          "text": ""
         }
        }
       }
      }
     },
     "metadata": {},
     "output_type": "display_data"
    },
    {
     "ename": "TypeError",
     "evalue": "'NoneType' object is not subscriptable",
     "output_type": "error",
     "traceback": [
      "\u001b[1;31m---------------------------------------------------------------------------\u001b[0m",
      "\u001b[1;31mTypeError\u001b[0m                                 Traceback (most recent call last)",
      "Cell \u001b[1;32mIn[72], line 1\u001b[0m\n\u001b[1;32m----> 1\u001b[0m \u001b[43mscenario_plots\u001b[49m\u001b[43m(\u001b[49m\n\u001b[0;32m      2\u001b[0m \u001b[43m    \u001b[49m\u001b[43mscenarios\u001b[49m\u001b[43m \u001b[49m\u001b[38;5;241;43m=\u001b[39;49m\u001b[43m \u001b[49m\u001b[43m[\u001b[49m\u001b[43mbuild_plan_summary\u001b[49m\u001b[43m(\u001b[49m\u001b[43mscenario2\u001b[49m\u001b[43m,\u001b[49m\u001b[43m \u001b[49m\u001b[38;5;241;43m2024\u001b[39;49m\u001b[43m,\u001b[49m\u001b[43m \u001b[49m\u001b[38;5;241;43m0.9\u001b[39;49m\u001b[43m,\u001b[49m\u001b[43m \u001b[49m\u001b[43mticket_price\u001b[49m\u001b[43m)\u001b[49m\u001b[38;5;241;43m.\u001b[39;49m\u001b[43miloc\u001b[49m\u001b[43m[\u001b[49m\u001b[38;5;241;43m1\u001b[39;49m\u001b[43m:\u001b[49m\u001b[43m,\u001b[49m\u001b[43m \u001b[49m\u001b[43m:\u001b[49m\u001b[43m]\u001b[49m\u001b[43m,\u001b[49m\u001b[43m \u001b[49m\n\u001b[0;32m      3\u001b[0m \u001b[43m                 \u001b[49m\u001b[43mbuild_plan_summary\u001b[49m\u001b[43m(\u001b[49m\u001b[43mscenario1\u001b[49m\u001b[43m,\u001b[49m\u001b[43m \u001b[49m\u001b[38;5;241;43m2024\u001b[39;49m\u001b[43m,\u001b[49m\u001b[43m \u001b[49m\u001b[38;5;241;43m0.9\u001b[39;49m\u001b[43m,\u001b[49m\u001b[43m \u001b[49m\u001b[43mticket_price\u001b[49m\u001b[43m)\u001b[49m\u001b[38;5;241;43m.\u001b[39;49m\u001b[43miloc\u001b[49m\u001b[43m[\u001b[49m\u001b[38;5;241;43m1\u001b[39;49m\u001b[43m:\u001b[49m\u001b[43m,\u001b[49m\u001b[43m \u001b[49m\u001b[43m:\u001b[49m\u001b[43m]\u001b[49m\u001b[43m]\u001b[49m\u001b[43m,\u001b[49m\n\u001b[0;32m      4\u001b[0m \n\u001b[0;32m      5\u001b[0m \u001b[43m    \u001b[49m\u001b[43mmetrics\u001b[49m\u001b[43m \u001b[49m\u001b[38;5;241;43m=\u001b[39;49m\u001b[43m \u001b[49m\u001b[43m[\u001b[49m\u001b[38;5;124;43m'\u001b[39;49m\u001b[38;5;124;43mTotal Spend\u001b[39;49m\u001b[38;5;124;43m'\u001b[39;49m\u001b[43m,\u001b[49m\u001b[43m \u001b[49m\u001b[38;5;124;43m'\u001b[39;49m\u001b[38;5;124;43mMROAS\u001b[39;49m\u001b[38;5;124;43m'\u001b[39;49m\u001b[43m]\u001b[49m\u001b[43m,\u001b[49m\n\u001b[0;32m      6\u001b[0m \n\u001b[0;32m      7\u001b[0m \u001b[43m    \u001b[49m\u001b[43mchannels\u001b[49m\u001b[43m \u001b[49m\u001b[38;5;241;43m=\u001b[39;49m\u001b[43m \u001b[49m\u001b[43mmedia_list\u001b[49m\u001b[43m,\u001b[49m\n\u001b[0;32m      8\u001b[0m \n\u001b[0;32m      9\u001b[0m \u001b[43m    \u001b[49m\u001b[43mcolors\u001b[49m\u001b[43m \u001b[49m\u001b[38;5;241;43m=\u001b[39;49m\u001b[43m \u001b[49m\u001b[43m[\u001b[49m\u001b[38;5;124;43m'\u001b[39;49m\u001b[38;5;124;43mrgb(174, 139, 113)\u001b[39;49m\u001b[38;5;124;43m'\u001b[39;49m\u001b[43m,\u001b[49m\u001b[43m \u001b[49m\n\u001b[0;32m     10\u001b[0m \u001b[43m            \u001b[49m\u001b[38;5;124;43m'\u001b[39;49m\u001b[38;5;124;43mrgb(140, 63, 12)\u001b[39;49m\u001b[38;5;124;43m'\u001b[39;49m\u001b[43m,\u001b[49m\n\u001b[0;32m     11\u001b[0m \u001b[43m            \u001b[49m\u001b[38;5;124;43m'\u001b[39;49m\u001b[38;5;124;43mrgb(174, 139, 113)\u001b[39;49m\u001b[38;5;124;43m'\u001b[39;49m\u001b[43m,\u001b[49m\n\u001b[0;32m     12\u001b[0m \u001b[43m            \u001b[49m\u001b[38;5;124;43m'\u001b[39;49m\u001b[38;5;124;43mrgb(140, 63, 12)\u001b[39;49m\u001b[38;5;124;43m'\u001b[39;49m\n\u001b[0;32m     13\u001b[0m \u001b[43m            \u001b[49m\n\u001b[0;32m     14\u001b[0m \u001b[43m            \u001b[49m\u001b[43m]\u001b[49m\u001b[43m,\u001b[49m\n\u001b[0;32m     15\u001b[0m \n\u001b[0;32m     16\u001b[0m \u001b[43m    \u001b[49m\u001b[43mtitle\u001b[49m\u001b[43m \u001b[49m\u001b[38;5;241;43m=\u001b[39;49m\u001b[43m \u001b[49m\u001b[38;5;124;43m\"\u001b[39;49m\u001b[38;5;124;43mMedia budget & MROAS variation per touchpoint\u001b[39;49m\u001b[38;5;124;43m\"\u001b[39;49m\u001b[43m,\u001b[49m\u001b[43m \u001b[49m\n\u001b[0;32m     17\u001b[0m \n\u001b[0;32m     18\u001b[0m \u001b[43m    \u001b[49m\u001b[43mylabel1\u001b[49m\u001b[43m \u001b[49m\u001b[38;5;241;43m=\u001b[39;49m\u001b[43m \u001b[49m\u001b[38;5;124;43m\"\u001b[39;49m\u001b[38;5;124;43m\"\u001b[39;49m\u001b[43m,\u001b[49m\u001b[43m \u001b[49m\u001b[43mylabel2\u001b[49m\u001b[38;5;241;43m=\u001b[39;49m\u001b[43m \u001b[49m\u001b[38;5;124;43m\"\u001b[39;49m\u001b[38;5;124;43m\"\u001b[39;49m\u001b[43m,\u001b[49m\u001b[43m \u001b[49m\u001b[43mcurrency_symbol\u001b[49m\u001b[43m \u001b[49m\u001b[38;5;241;43m=\u001b[39;49m\u001b[43m \u001b[49m\u001b[38;5;124;43m\"\u001b[39;49m\u001b[38;5;124;43m£\u001b[39;49m\u001b[38;5;124;43m\"\u001b[39;49m\u001b[43m \u001b[49m\n\u001b[0;32m     19\u001b[0m \u001b[43m)\u001b[49m\u001b[43m[\u001b[49m\u001b[38;5;241;43m0\u001b[39;49m\u001b[43m]\u001b[49m\n",
      "\u001b[1;31mTypeError\u001b[0m: 'NoneType' object is not subscriptable"
     ]
    }
   ],
   "source": [
    "scenario_plots(\n",
    "    scenarios = [build_plan_summary(scenario2, 2024, 0.9, ticket_price).iloc[1:, :], \n",
    "                 build_plan_summary(scenario1, 2024, 0.9, ticket_price).iloc[1:, :]],\n",
    "\n",
    "    metrics = ['Total Spend', 'MROAS'],\n",
    "\n",
    "    channels = media_list,\n",
    "\n",
    "    colors = ['rgb(174, 139, 113)', \n",
    "            'rgb(140, 63, 12)',\n",
    "            'rgb(174, 139, 113)',\n",
    "            'rgb(140, 63, 12)'\n",
    "            \n",
    "            ],\n",
    "\n",
    "    title = \"Media budget & MROAS variation per touchpoint\", \n",
    "\n",
    "    ylabel1 = \"\", ylabel2= \"\", currency_symbol = \"£\" \n",
    ")[0]"
   ]
  },
  {
   "cell_type": "code",
   "execution_count": 25,
   "metadata": {},
   "outputs": [
    {
     "ename": "NameError",
     "evalue": "name 'scenario_plots' is not defined",
     "output_type": "error",
     "traceback": [
      "\u001b[1;31m---------------------------------------------------------------------------\u001b[0m",
      "\u001b[1;31mNameError\u001b[0m                                 Traceback (most recent call last)",
      "Cell \u001b[1;32mIn[25], line 1\u001b[0m\n\u001b[1;32m----> 1\u001b[0m \u001b[43mscenario_plots\u001b[49m(\n\u001b[0;32m      2\u001b[0m     scenarios \u001b[38;5;241m=\u001b[39m [build_plan_summary(scenario1, \u001b[38;5;241m2024\u001b[39m, \u001b[38;5;241m0.9\u001b[39m, ticket_price)\u001b[38;5;241m.\u001b[39miloc[\u001b[38;5;241m1\u001b[39m:, :], \n\u001b[0;32m      3\u001b[0m                  build_plan_summary(scenario2, \u001b[38;5;241m2024\u001b[39m, \u001b[38;5;241m0.9\u001b[39m, ticket_price)\u001b[38;5;241m.\u001b[39miloc[\u001b[38;5;241m1\u001b[39m:, :]],\n\u001b[0;32m      4\u001b[0m \n\u001b[0;32m      5\u001b[0m     metrics \u001b[38;5;241m=\u001b[39m [\u001b[38;5;124m'\u001b[39m\u001b[38;5;124mTotal Attendance\u001b[39m\u001b[38;5;124m'\u001b[39m, \u001b[38;5;124m'\u001b[39m\u001b[38;5;124mCost per Attendance\u001b[39m\u001b[38;5;124m'\u001b[39m],\n\u001b[0;32m      6\u001b[0m \n\u001b[0;32m      7\u001b[0m     channels \u001b[38;5;241m=\u001b[39m media_list,\n\u001b[0;32m      8\u001b[0m \n\u001b[0;32m      9\u001b[0m     colors \u001b[38;5;241m=\u001b[39m [\u001b[38;5;124m'\u001b[39m\u001b[38;5;124mrgb(188, 214, 150)\u001b[39m\u001b[38;5;124m'\u001b[39m, \n\u001b[0;32m     10\u001b[0m             \u001b[38;5;124m'\u001b[39m\u001b[38;5;124mrgb(36, 84, 40)\u001b[39m\u001b[38;5;124m'\u001b[39m,\n\u001b[0;32m     11\u001b[0m             \u001b[38;5;124m'\u001b[39m\u001b[38;5;124mrgb(188, 214, 150)\u001b[39m\u001b[38;5;124m'\u001b[39m, \n\u001b[0;32m     12\u001b[0m             \u001b[38;5;124m'\u001b[39m\u001b[38;5;124mrgb(36, 84, 40)\u001b[39m\u001b[38;5;124m'\u001b[39m\n\u001b[0;32m     13\u001b[0m             ],\n\u001b[0;32m     14\u001b[0m \n\u001b[0;32m     15\u001b[0m     title \u001b[38;5;241m=\u001b[39m \u001b[38;5;124m\"\u001b[39m\u001b[38;5;124mIncremental attendance & CPA evolution\u001b[39m\u001b[38;5;124m\"\u001b[39m, \n\u001b[0;32m     16\u001b[0m \n\u001b[0;32m     17\u001b[0m     ylabel1 \u001b[38;5;241m=\u001b[39m \u001b[38;5;124m\"\u001b[39m\u001b[38;5;124m\"\u001b[39m, ylabel2\u001b[38;5;241m=\u001b[39m \u001b[38;5;124m\"\u001b[39m\u001b[38;5;124m\"\u001b[39m, currency_symbol \u001b[38;5;241m=\u001b[39m \u001b[38;5;124m\"\u001b[39m\u001b[38;5;124m£\u001b[39m\u001b[38;5;124m\"\u001b[39m \n\u001b[0;32m     18\u001b[0m )\n",
      "\u001b[1;31mNameError\u001b[0m: name 'scenario_plots' is not defined"
     ]
    }
   ],
   "source": [
    "scenario_plots(\n",
    "    scenarios = [build_plan_summary(scenario1, 2024, 0.9, ticket_price).iloc[1:, :], \n",
    "                 build_plan_summary(scenario2, 2024, 0.9, ticket_price).iloc[1:, :]],\n",
    "\n",
    "    metrics = ['Total Attendance', 'Cost per Attendance'],\n",
    "\n",
    "    channels = media_list,\n",
    "\n",
    "    colors = ['rgb(188, 214, 150)', \n",
    "            'rgb(36, 84, 40)',\n",
    "            'rgb(188, 214, 150)', \n",
    "            'rgb(36, 84, 40)'\n",
    "            ],\n",
    "\n",
    "    title = \"Incremental attendance & CPA evolution\", \n",
    "\n",
    "    ylabel1 = \"\", ylabel2= \"\", currency_symbol = \"£\" \n",
    ")"
   ]
  },
  {
   "cell_type": "markdown",
   "metadata": {},
   "source": [
    "# Labeled plot"
   ]
  },
  {
   "cell_type": "code",
   "execution_count": 4,
   "metadata": {},
   "outputs": [
    {
     "data": {
      "application/vnd.plotly.v1+json": {
       "config": {
        "plotlyServerURL": "https://plot.ly"
       },
       "data": [
        {
         "domain": {
          "x": [
           0,
           1
          ],
          "y": [
           0,
           0.4
          ]
         },
         "gauge": {
          "axis": {
           "range": [
            0,
            100
           ],
           "showticklabels": false,
           "tickcolor": "white",
           "tickwidth": 1,
           "visible": true
          },
          "bar": {
           "color": "white"
          },
          "bgcolor": "rgba(0,0,0,0)",
          "bordercolor": "rgba(0,0,0,0)",
          "borderwidth": 0,
          "threshold": {
           "line": {
            "color": "white",
            "width": 4
           },
           "thickness": 0.75,
           "value": 11
          }
         },
         "mode": "gauge",
         "type": "indicator",
         "value": 11
        }
       ],
       "layout": {
        "annotations": [
         {
          "font": {
           "color": "white",
           "size": 16
          },
          "showarrow": false,
          "text": "<b>CPA variation</b>",
          "x": 0.5,
          "y": 0.8
         },
         {
          "font": {
           "color": "white",
           "size": 24
          },
          "showarrow": false,
          "text": "€1.4",
          "x": 0.5,
          "y": 0.65
         },
         {
          "font": {
           "color": "red",
           "size": 28
          },
          "showarrow": false,
          "text": "<b style='color:red'>11%</b>",
          "x": 0.5,
          "y": 0.5
         }
        ],
        "height": 400,
        "margin": {
         "b": 80,
         "l": 40,
         "r": 40,
         "t": 120
        },
        "paper_bgcolor": "#333333",
        "plot_bgcolor": "rgba(0,0,0,0)",
        "showlegend": false,
        "template": {
         "data": {
          "candlestick": [
           {
            "decreasing": {
             "line": {
              "color": "#000033"
             }
            },
            "increasing": {
             "line": {
              "color": "#000032"
             }
            },
            "type": "candlestick"
           }
          ],
          "contour": [
           {
            "colorscale": [
             [
              0,
              "#000011"
             ],
             [
              0.1111111111111111,
              "#000012"
             ],
             [
              0.2222222222222222,
              "#000013"
             ],
             [
              0.3333333333333333,
              "#000014"
             ],
             [
              0.4444444444444444,
              "#000015"
             ],
             [
              0.5555555555555556,
              "#000016"
             ],
             [
              0.6666666666666666,
              "#000017"
             ],
             [
              0.7777777777777778,
              "#000018"
             ],
             [
              0.8888888888888888,
              "#000019"
             ],
             [
              1,
              "#000020"
             ]
            ],
            "type": "contour"
           }
          ],
          "contourcarpet": [
           {
            "colorscale": [
             [
              0,
              "#000011"
             ],
             [
              0.1111111111111111,
              "#000012"
             ],
             [
              0.2222222222222222,
              "#000013"
             ],
             [
              0.3333333333333333,
              "#000014"
             ],
             [
              0.4444444444444444,
              "#000015"
             ],
             [
              0.5555555555555556,
              "#000016"
             ],
             [
              0.6666666666666666,
              "#000017"
             ],
             [
              0.7777777777777778,
              "#000018"
             ],
             [
              0.8888888888888888,
              "#000019"
             ],
             [
              1,
              "#000020"
             ]
            ],
            "type": "contourcarpet"
           }
          ],
          "heatmap": [
           {
            "colorscale": [
             [
              0,
              "#000011"
             ],
             [
              0.1111111111111111,
              "#000012"
             ],
             [
              0.2222222222222222,
              "#000013"
             ],
             [
              0.3333333333333333,
              "#000014"
             ],
             [
              0.4444444444444444,
              "#000015"
             ],
             [
              0.5555555555555556,
              "#000016"
             ],
             [
              0.6666666666666666,
              "#000017"
             ],
             [
              0.7777777777777778,
              "#000018"
             ],
             [
              0.8888888888888888,
              "#000019"
             ],
             [
              1,
              "#000020"
             ]
            ],
            "type": "heatmap"
           }
          ],
          "histogram2d": [
           {
            "colorscale": [
             [
              0,
              "#000011"
             ],
             [
              0.1111111111111111,
              "#000012"
             ],
             [
              0.2222222222222222,
              "#000013"
             ],
             [
              0.3333333333333333,
              "#000014"
             ],
             [
              0.4444444444444444,
              "#000015"
             ],
             [
              0.5555555555555556,
              "#000016"
             ],
             [
              0.6666666666666666,
              "#000017"
             ],
             [
              0.7777777777777778,
              "#000018"
             ],
             [
              0.8888888888888888,
              "#000019"
             ],
             [
              1,
              "#000020"
             ]
            ],
            "type": "histogram2d"
           }
          ],
          "icicle": [
           {
            "textfont": {
             "color": "white"
            },
            "type": "icicle"
           }
          ],
          "sankey": [
           {
            "textfont": {
             "color": "#000036"
            },
            "type": "sankey"
           }
          ],
          "scatter": [
           {
            "marker": {
             "line": {
              "width": 0
             }
            },
            "type": "scatter"
           }
          ],
          "table": [
           {
            "cells": {
             "fill": {
              "color": "#000038"
             },
             "font": {
              "color": "#000037"
             },
             "line": {
              "color": "#000039"
             }
            },
            "header": {
             "fill": {
              "color": "#000040"
             },
             "font": {
              "color": "#000036"
             },
             "line": {
              "color": "#000039"
             }
            },
            "type": "table"
           }
          ],
          "waterfall": [
           {
            "connector": {
             "line": {
              "color": "#000036",
              "width": 2
             }
            },
            "decreasing": {
             "marker": {
              "color": "#000033"
             }
            },
            "increasing": {
             "marker": {
              "color": "#000032"
             }
            },
            "totals": {
             "marker": {
              "color": "#000034"
             }
            },
            "type": "waterfall"
           }
          ]
         },
         "layout": {
          "coloraxis": {
           "colorscale": [
            [
             0,
             "#000011"
            ],
            [
             0.1111111111111111,
             "#000012"
            ],
            [
             0.2222222222222222,
             "#000013"
            ],
            [
             0.3333333333333333,
             "#000014"
            ],
            [
             0.4444444444444444,
             "#000015"
            ],
            [
             0.5555555555555556,
             "#000016"
            ],
            [
             0.6666666666666666,
             "#000017"
            ],
            [
             0.7777777777777778,
             "#000018"
            ],
            [
             0.8888888888888888,
             "#000019"
            ],
            [
             1,
             "#000020"
            ]
           ]
          },
          "colorscale": {
           "diverging": [
            [
             0,
             "#000021"
            ],
            [
             0.1,
             "#000022"
            ],
            [
             0.2,
             "#000023"
            ],
            [
             0.3,
             "#000024"
            ],
            [
             0.4,
             "#000025"
            ],
            [
             0.5,
             "#000026"
            ],
            [
             0.6,
             "#000027"
            ],
            [
             0.7,
             "#000028"
            ],
            [
             0.8,
             "#000029"
            ],
            [
             0.9,
             "#000030"
            ],
            [
             1,
             "#000031"
            ]
           ],
           "sequential": [
            [
             0,
             "#000011"
            ],
            [
             0.1111111111111111,
             "#000012"
            ],
            [
             0.2222222222222222,
             "#000013"
            ],
            [
             0.3333333333333333,
             "#000014"
            ],
            [
             0.4444444444444444,
             "#000015"
            ],
            [
             0.5555555555555556,
             "#000016"
            ],
            [
             0.6666666666666666,
             "#000017"
            ],
            [
             0.7777777777777778,
             "#000018"
            ],
            [
             0.8888888888888888,
             "#000019"
            ],
            [
             1,
             "#000020"
            ]
           ],
           "sequentialminus": [
            [
             0,
             "#000011"
            ],
            [
             0.1111111111111111,
             "#000012"
            ],
            [
             0.2222222222222222,
             "#000013"
            ],
            [
             0.3333333333333333,
             "#000014"
            ],
            [
             0.4444444444444444,
             "#000015"
            ],
            [
             0.5555555555555556,
             "#000016"
            ],
            [
             0.6666666666666666,
             "#000017"
            ],
            [
             0.7777777777777778,
             "#000018"
            ],
            [
             0.8888888888888888,
             "#000019"
            ],
            [
             1,
             "#000020"
            ]
           ]
          },
          "colorway": [
           "#000001",
           "#000002",
           "#000003",
           "#000004",
           "#000005",
           "#000006",
           "#000007",
           "#000008",
           "#000009",
           "#000010"
          ]
         }
        },
        "width": 400
       }
      }
     },
     "metadata": {},
     "output_type": "display_data"
    }
   ],
   "source": [
    "import plotly.graph_objects as go\n",
    "\n",
    "# Create a figure\n",
    "fig = go.Figure()\n",
    "\n",
    "# Add the gauge (just the arc/dial part)\n",
    "fig.add_trace(go.Indicator(\n",
    "    mode=\"gauge\",\n",
    "    value=11,\n",
    "    gauge={\n",
    "        'axis': {\n",
    "            'range': [0, 100],\n",
    "            'visible': True,\n",
    "            'showticklabels': False,\n",
    "            'tickwidth': 1,\n",
    "            'tickcolor': \"white\"\n",
    "        },\n",
    "        'bar': {'color': \"white\"},\n",
    "        'bgcolor': \"rgba(0,0,0,0)\",\n",
    "        'borderwidth': 0,\n",
    "        'bordercolor': \"rgba(0,0,0,0)\",\n",
    "        'steps': [],\n",
    "        'threshold': {\n",
    "            'line': {'color': \"white\", 'width': 4},\n",
    "            'thickness': 0.75,\n",
    "            'value': 11\n",
    "        }\n",
    "    },\n",
    "    domain={'x': [0, 1], 'y': [0, 0.4]}  # Position the gauge at the bottom\n",
    "))\n",
    "\n",
    "# Add the text elements with proper spacing\n",
    "fig.add_annotation(\n",
    "    text=\"<b>CPA variation</b>\",\n",
    "    x=0.5, y=0.8,  # Position at the top\n",
    "    showarrow=False,\n",
    "    font=dict(size=16, color=\"white\")\n",
    ")\n",
    "\n",
    "fig.add_annotation(\n",
    "    text=\"€1.4\",\n",
    "    x=0.5, y=0.65,  # Position below the title with space\n",
    "    showarrow=False,\n",
    "    font=dict(size=24, color=\"white\")\n",
    ")\n",
    "\n",
    "fig.add_annotation(\n",
    "    text=\"<b style='color:red'>11%</b>\",\n",
    "    x=0.5, y=0.5,  # Position below the value with space\n",
    "    showarrow=False,\n",
    "    font=dict(size=28, color=\"red\")\n",
    ")\n",
    "\n",
    "# Update layout with dark background\n",
    "fig.update_layout(\n",
    "    paper_bgcolor=\"#333333\",  # Dark gray background\n",
    "    plot_bgcolor=\"rgba(0,0,0,0)\",\n",
    "    height=400,\n",
    "    width=400,\n",
    "    margin=dict(t=120, b=80, l=40, r=40),  # Add more margin to ensure everything fits\n",
    "    showlegend=False\n",
    ")\n",
    "\n",
    "# Show the figure\n",
    "fig.show()\n",
    "\n",
    "# To save:\n",
    "# fig.write_image(\"gauge_chart.png\")\n",
    "# fig.write_html(\"gauge_chart.html\")"
   ]
  },
  {
   "cell_type": "code",
   "execution_count": 3,
   "metadata": {},
   "outputs": [
    {
     "data": {
      "application/vnd.plotly.v1+json": {
       "config": {
        "plotlyServerURL": "https://plot.ly"
       },
       "data": [
        {
         "domain": {
          "x": [
           0,
           1
          ],
          "y": [
           0,
           0.6
          ]
         },
         "gauge": {
          "axis": {
           "range": [
            null,
            100
           ],
           "showticklabels": false,
           "tickcolor": "white",
           "tickwidth": 1,
           "visible": true
          },
          "bar": {
           "color": "white"
          },
          "bgcolor": "rgba(0,0,0,0)",
          "bordercolor": "rgba(0,0,0,0)",
          "borderwidth": 0,
          "threshold": {
           "line": {
            "color": "white",
            "width": 4
           },
           "thickness": 0.75,
           "value": 11
          }
         },
         "mode": "gauge",
         "type": "indicator",
         "value": 11
        }
       ],
       "layout": {
        "annotations": [
         {
          "font": {
           "color": "white",
           "size": 16
          },
          "showarrow": false,
          "text": "<b>CPA variation</b>",
          "x": 0.5,
          "y": 0.7
         },
         {
          "font": {
           "color": "white",
           "size": 24
          },
          "showarrow": false,
          "text": "€1.4",
          "x": 0.5,
          "y": 0.6
         },
         {
          "font": {
           "color": "red",
           "size": 24
          },
          "showarrow": false,
          "text": "11%",
          "x": 0.5,
          "y": 0.4
         }
        ],
        "height": 300,
        "margin": {
         "b": 0,
         "l": 0,
         "r": 0,
         "t": 100
        },
        "paper_bgcolor": "rgba(0,0,0,0)",
        "plot_bgcolor": "rgba(0,0,0,0)",
        "showlegend": false,
        "template": {
         "data": {
          "candlestick": [
           {
            "decreasing": {
             "line": {
              "color": "#000033"
             }
            },
            "increasing": {
             "line": {
              "color": "#000032"
             }
            },
            "type": "candlestick"
           }
          ],
          "contour": [
           {
            "colorscale": [
             [
              0,
              "#000011"
             ],
             [
              0.1111111111111111,
              "#000012"
             ],
             [
              0.2222222222222222,
              "#000013"
             ],
             [
              0.3333333333333333,
              "#000014"
             ],
             [
              0.4444444444444444,
              "#000015"
             ],
             [
              0.5555555555555556,
              "#000016"
             ],
             [
              0.6666666666666666,
              "#000017"
             ],
             [
              0.7777777777777778,
              "#000018"
             ],
             [
              0.8888888888888888,
              "#000019"
             ],
             [
              1,
              "#000020"
             ]
            ],
            "type": "contour"
           }
          ],
          "contourcarpet": [
           {
            "colorscale": [
             [
              0,
              "#000011"
             ],
             [
              0.1111111111111111,
              "#000012"
             ],
             [
              0.2222222222222222,
              "#000013"
             ],
             [
              0.3333333333333333,
              "#000014"
             ],
             [
              0.4444444444444444,
              "#000015"
             ],
             [
              0.5555555555555556,
              "#000016"
             ],
             [
              0.6666666666666666,
              "#000017"
             ],
             [
              0.7777777777777778,
              "#000018"
             ],
             [
              0.8888888888888888,
              "#000019"
             ],
             [
              1,
              "#000020"
             ]
            ],
            "type": "contourcarpet"
           }
          ],
          "heatmap": [
           {
            "colorscale": [
             [
              0,
              "#000011"
             ],
             [
              0.1111111111111111,
              "#000012"
             ],
             [
              0.2222222222222222,
              "#000013"
             ],
             [
              0.3333333333333333,
              "#000014"
             ],
             [
              0.4444444444444444,
              "#000015"
             ],
             [
              0.5555555555555556,
              "#000016"
             ],
             [
              0.6666666666666666,
              "#000017"
             ],
             [
              0.7777777777777778,
              "#000018"
             ],
             [
              0.8888888888888888,
              "#000019"
             ],
             [
              1,
              "#000020"
             ]
            ],
            "type": "heatmap"
           }
          ],
          "histogram2d": [
           {
            "colorscale": [
             [
              0,
              "#000011"
             ],
             [
              0.1111111111111111,
              "#000012"
             ],
             [
              0.2222222222222222,
              "#000013"
             ],
             [
              0.3333333333333333,
              "#000014"
             ],
             [
              0.4444444444444444,
              "#000015"
             ],
             [
              0.5555555555555556,
              "#000016"
             ],
             [
              0.6666666666666666,
              "#000017"
             ],
             [
              0.7777777777777778,
              "#000018"
             ],
             [
              0.8888888888888888,
              "#000019"
             ],
             [
              1,
              "#000020"
             ]
            ],
            "type": "histogram2d"
           }
          ],
          "icicle": [
           {
            "textfont": {
             "color": "white"
            },
            "type": "icicle"
           }
          ],
          "sankey": [
           {
            "textfont": {
             "color": "#000036"
            },
            "type": "sankey"
           }
          ],
          "scatter": [
           {
            "marker": {
             "line": {
              "width": 0
             }
            },
            "type": "scatter"
           }
          ],
          "table": [
           {
            "cells": {
             "fill": {
              "color": "#000038"
             },
             "font": {
              "color": "#000037"
             },
             "line": {
              "color": "#000039"
             }
            },
            "header": {
             "fill": {
              "color": "#000040"
             },
             "font": {
              "color": "#000036"
             },
             "line": {
              "color": "#000039"
             }
            },
            "type": "table"
           }
          ],
          "waterfall": [
           {
            "connector": {
             "line": {
              "color": "#000036",
              "width": 2
             }
            },
            "decreasing": {
             "marker": {
              "color": "#000033"
             }
            },
            "increasing": {
             "marker": {
              "color": "#000032"
             }
            },
            "totals": {
             "marker": {
              "color": "#000034"
             }
            },
            "type": "waterfall"
           }
          ]
         },
         "layout": {
          "coloraxis": {
           "colorscale": [
            [
             0,
             "#000011"
            ],
            [
             0.1111111111111111,
             "#000012"
            ],
            [
             0.2222222222222222,
             "#000013"
            ],
            [
             0.3333333333333333,
             "#000014"
            ],
            [
             0.4444444444444444,
             "#000015"
            ],
            [
             0.5555555555555556,
             "#000016"
            ],
            [
             0.6666666666666666,
             "#000017"
            ],
            [
             0.7777777777777778,
             "#000018"
            ],
            [
             0.8888888888888888,
             "#000019"
            ],
            [
             1,
             "#000020"
            ]
           ]
          },
          "colorscale": {
           "diverging": [
            [
             0,
             "#000021"
            ],
            [
             0.1,
             "#000022"
            ],
            [
             0.2,
             "#000023"
            ],
            [
             0.3,
             "#000024"
            ],
            [
             0.4,
             "#000025"
            ],
            [
             0.5,
             "#000026"
            ],
            [
             0.6,
             "#000027"
            ],
            [
             0.7,
             "#000028"
            ],
            [
             0.8,
             "#000029"
            ],
            [
             0.9,
             "#000030"
            ],
            [
             1,
             "#000031"
            ]
           ],
           "sequential": [
            [
             0,
             "#000011"
            ],
            [
             0.1111111111111111,
             "#000012"
            ],
            [
             0.2222222222222222,
             "#000013"
            ],
            [
             0.3333333333333333,
             "#000014"
            ],
            [
             0.4444444444444444,
             "#000015"
            ],
            [
             0.5555555555555556,
             "#000016"
            ],
            [
             0.6666666666666666,
             "#000017"
            ],
            [
             0.7777777777777778,
             "#000018"
            ],
            [
             0.8888888888888888,
             "#000019"
            ],
            [
             1,
             "#000020"
            ]
           ],
           "sequentialminus": [
            [
             0,
             "#000011"
            ],
            [
             0.1111111111111111,
             "#000012"
            ],
            [
             0.2222222222222222,
             "#000013"
            ],
            [
             0.3333333333333333,
             "#000014"
            ],
            [
             0.4444444444444444,
             "#000015"
            ],
            [
             0.5555555555555556,
             "#000016"
            ],
            [
             0.6666666666666666,
             "#000017"
            ],
            [
             0.7777777777777778,
             "#000018"
            ],
            [
             0.8888888888888888,
             "#000019"
            ],
            [
             1,
             "#000020"
            ]
           ]
          },
          "colorway": [
           "#000001",
           "#000002",
           "#000003",
           "#000004",
           "#000005",
           "#000006",
           "#000007",
           "#000008",
           "#000009",
           "#000010"
          ]
         }
        },
        "width": 300
       }
      }
     },
     "metadata": {},
     "output_type": "display_data"
    }
   ],
   "source": [
    "import plotly.graph_objects as go\n",
    "from plotly.subplots import make_subplots\n",
    "\n",
    "# Create figure with customized gauge\n",
    "fig = go.Figure()\n",
    "\n",
    "# Add the gauge\n",
    "fig.add_trace(go.Indicator(\n",
    "    mode=\"gauge\",\n",
    "    value=11,  # The percentage value (11%)\n",
    "    gauge={\n",
    "        'axis': {\n",
    "            'range': [None, 100], \n",
    "            'visible': True,\n",
    "            'showticklabels': False,\n",
    "            'tickwidth': 1, \n",
    "            'tickcolor': \"white\"\n",
    "        },\n",
    "        'bar': {'color': \"white\"},\n",
    "        'bgcolor': \"rgba(0,0,0,0)\",\n",
    "        'borderwidth': 0,\n",
    "        'bordercolor': \"rgba(0,0,0,0)\",\n",
    "        'steps': [],\n",
    "        'threshold': {\n",
    "            'line': {'color': \"white\", 'width': 4},\n",
    "            'thickness': 0.75,\n",
    "            'value': 11\n",
    "        }\n",
    "    },\n",
    "    domain={'x': [0, 1], 'y': [0, 0.6]}\n",
    "))\n",
    "\n",
    "# Add the textual components separately for more control\n",
    "fig.add_annotation(\n",
    "    text=\"<b>CPA variation</b>\",\n",
    "    x=0.5, y=0.7,\n",
    "    showarrow=False,\n",
    "    font=dict(size=16, color=\"white\")\n",
    ")\n",
    "\n",
    "fig.add_annotation(\n",
    "    text=\"€1.4\",\n",
    "    x=0.5, y=0.6,\n",
    "    showarrow=False,\n",
    "    font=dict(size=24, color=\"white\")\n",
    ")\n",
    "\n",
    "fig.add_annotation(\n",
    "    text=\"11%\",\n",
    "    x=0.5, y=0.4,\n",
    "    showarrow=False,\n",
    "    font=dict(size=24, color=\"red\")\n",
    ")\n",
    "\n",
    "# Update layout\n",
    "fig.update_layout(\n",
    "    paper_bgcolor=\"rgba(0,0,0,0)\",\n",
    "    plot_bgcolor=\"rgba(0,0,0,0)\",\n",
    "    margin=dict(t=100, b=0, l=0, r=0),\n",
    "    height=300,\n",
    "    width=300,\n",
    "    showlegend=False\n",
    ")\n",
    "\n",
    "# Show the figure\n",
    "fig.show()\n",
    "\n",
    "# To save as an image or HTML file:\n",
    "# fig.write_image(\"gauge_chart.png\")\n",
    "# fig.write_html(\"gauge_chart.html\")"
   ]
  }
 ],
 "metadata": {
  "kernelspec": {
   "display_name": "Python 3",
   "language": "python",
   "name": "python3"
  },
  "language_info": {
   "codemirror_mode": {
    "name": "ipython",
    "version": 3
   },
   "file_extension": ".py",
   "mimetype": "text/x-python",
   "name": "python",
   "nbconvert_exporter": "python",
   "pygments_lexer": "ipython3",
   "version": "3.11.8"
  }
 },
 "nbformat": 4,
 "nbformat_minor": 2
}
